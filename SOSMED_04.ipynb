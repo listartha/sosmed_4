{
  "nbformat": 4,
  "nbformat_minor": 0,
  "metadata": {
    "colab": {
      "name": "SOSMED_04Final.ipynb",
      "provenance": [],
      "collapsed_sections": [
        "iW2INe9qcCK2",
        "3oglCA43ohRT",
        "naas1MGZsUxv",
        "riuWsKIdtz-k"
      ],
      "toc_visible": true
    },
    "kernelspec": {
      "name": "python3",
      "display_name": "Python 3"
    },
    "language_info": {
      "name": "python"
    },
    "accelerator": "GPU",
    "gpuClass": "standard"
  },
  "cells": [
    {
      "cell_type": "markdown",
      "source": [
        "**Selected Theme:** Sosial Media\n",
        "\n",
        "**Title of the Project:** Klasifikasi Tweet Bencana\n",
        "\n",
        "**Team:**\n",
        "1. Hanzholah Shobri - 152236035100-349: Split Dataset Code, Membuat Model B, Analisis Feature Dataset Code dan Membuat Dokumentasi Final Report.\n",
        "2. I Made Edy Listartha - 152236035100-809: Menyiapkan WorkSpace (Zoom Meet, Colab, GDrive, Github), Explore Dataset Code, Membuat Model D, Models Comparison Graph\n",
        "3. Yudhi Nugraha Riyansyah - 152236035100-972: Pre-Processing Dataset, Word Embedding Code, Membuat Model A, Lemmatization Code\n",
        "4. Ega Wahyu Cahyono - 152236035101-901: Grafik Gantt Proposal, Membuat Model C, Custom Dataset Test Code, Membuat Dokumentasi Laporan\n",
        "\n",
        "\n",
        "---\n",
        "Link Dataset, Glove dan Custom Dataset : https://drive.google.com/drive/folders/1OaLBdY9u2PfePygDJrAhh-63aLZwEhQB?usp=sharing\n"
      ],
      "metadata": {
        "id": "wdxH0htefFnf"
      }
    },
    {
      "cell_type": "markdown",
      "source": [
        "#Import Library"
      ],
      "metadata": {
        "id": "iW2INe9qcCK2"
      }
    },
    {
      "cell_type": "code",
      "source": [
        "import os\n",
        "import re\n",
        "import nltk\n",
        "import string\n",
        "import pandas as pd\n",
        "import matplotlib.pyplot as plt\n",
        "import numpy as np\n",
        "import seaborn as sns\n",
        "import time\n",
        "\n",
        "from google.colab import drive\n",
        "from shutil import unpack_archive\n",
        "from nltk.tokenize import word_tokenize\n",
        "from nltk.stem import WordNetLemmatizer\n",
        "from nltk.corpus import wordnet\n",
        "from sklearn.model_selection import train_test_split\n",
        "from keras.preprocessing.text import Tokenizer\n",
        "from keras.preprocessing.sequence import pad_sequences\n",
        "from keras.models import Sequential\n",
        "from keras.callbacks import EarlyStopping, Callback\n",
        "from keras.layers import Dense, Bidirectional, LSTM, Dropout, BatchNormalization, SpatialDropout1D, Conv1D, GlobalAveragePooling1D, GRU\n",
        "from keras.layers.embeddings import Embedding\n",
        "from keras.initializers import Constant\n",
        "from tensorflow.keras.optimizers import SGD, Adam\n",
        "\n",
        "import matplotlib.pyplot as plt\n",
        "from statistics import mean"
      ],
      "metadata": {
        "id": "u43jdTOPcFEM"
      },
      "execution_count": 1,
      "outputs": []
    },
    {
      "cell_type": "markdown",
      "source": [
        "#Load Dataset"
      ],
      "metadata": {
        "id": "uDQqvWkGcAAZ"
      }
    },
    {
      "cell_type": "code",
      "execution_count": 2,
      "metadata": {
        "colab": {
          "base_uri": "https://localhost:8080/"
        },
        "id": "2Q207pzanRN9",
        "outputId": "5919309a-cf63-42cc-f0bf-63b4e283fae4"
      },
      "outputs": [
        {
          "output_type": "stream",
          "name": "stdout",
          "text": [
            "Mounted at /content/drive\n"
          ]
        }
      ],
      "source": [
        "#Mengakses GDrive untuk Dataset dan Glove nantinya.\n",
        "drive.mount('/content/drive')"
      ]
    },
    {
      "cell_type": "code",
      "source": [
        "# Load dataset Tweet studi kasus\n",
        "dataset = pd.read_csv('/content/drive/MyDrive/SOSMED_4/tweets.csv')\n",
        "\n",
        "dataset.head()"
      ],
      "metadata": {
        "id": "320X4xYfnexI",
        "colab": {
          "base_uri": "https://localhost:8080/",
          "height": 0
        },
        "outputId": "5e076067-c7dc-424c-ba8d-0ac00e0d367d"
      },
      "execution_count": 3,
      "outputs": [
        {
          "output_type": "execute_result",
          "data": {
            "text/plain": [
              "   id keyword        location  \\\n",
              "0   0  ablaze             NaN   \n",
              "1   1  ablaze             NaN   \n",
              "2   2  ablaze   New York City   \n",
              "3   3  ablaze  Morgantown, WV   \n",
              "4   4  ablaze             NaN   \n",
              "\n",
              "                                                text  target  \n",
              "0  Communal violence in Bhainsa, Telangana. \"Ston...       1  \n",
              "1  Telangana: Section 144 has been imposed in Bha...       1  \n",
              "2  Arsonist sets cars ablaze at dealership https:...       1  \n",
              "3  Arsonist sets cars ablaze at dealership https:...       1  \n",
              "4  \"Lord Jesus, your love brings freedom and pard...       0  "
            ],
            "text/html": [
              "\n",
              "  <div id=\"df-841751f4-caec-4ebf-b2e6-40b27ff35316\">\n",
              "    <div class=\"colab-df-container\">\n",
              "      <div>\n",
              "<style scoped>\n",
              "    .dataframe tbody tr th:only-of-type {\n",
              "        vertical-align: middle;\n",
              "    }\n",
              "\n",
              "    .dataframe tbody tr th {\n",
              "        vertical-align: top;\n",
              "    }\n",
              "\n",
              "    .dataframe thead th {\n",
              "        text-align: right;\n",
              "    }\n",
              "</style>\n",
              "<table border=\"1\" class=\"dataframe\">\n",
              "  <thead>\n",
              "    <tr style=\"text-align: right;\">\n",
              "      <th></th>\n",
              "      <th>id</th>\n",
              "      <th>keyword</th>\n",
              "      <th>location</th>\n",
              "      <th>text</th>\n",
              "      <th>target</th>\n",
              "    </tr>\n",
              "  </thead>\n",
              "  <tbody>\n",
              "    <tr>\n",
              "      <th>0</th>\n",
              "      <td>0</td>\n",
              "      <td>ablaze</td>\n",
              "      <td>NaN</td>\n",
              "      <td>Communal violence in Bhainsa, Telangana. \"Ston...</td>\n",
              "      <td>1</td>\n",
              "    </tr>\n",
              "    <tr>\n",
              "      <th>1</th>\n",
              "      <td>1</td>\n",
              "      <td>ablaze</td>\n",
              "      <td>NaN</td>\n",
              "      <td>Telangana: Section 144 has been imposed in Bha...</td>\n",
              "      <td>1</td>\n",
              "    </tr>\n",
              "    <tr>\n",
              "      <th>2</th>\n",
              "      <td>2</td>\n",
              "      <td>ablaze</td>\n",
              "      <td>New York City</td>\n",
              "      <td>Arsonist sets cars ablaze at dealership https:...</td>\n",
              "      <td>1</td>\n",
              "    </tr>\n",
              "    <tr>\n",
              "      <th>3</th>\n",
              "      <td>3</td>\n",
              "      <td>ablaze</td>\n",
              "      <td>Morgantown, WV</td>\n",
              "      <td>Arsonist sets cars ablaze at dealership https:...</td>\n",
              "      <td>1</td>\n",
              "    </tr>\n",
              "    <tr>\n",
              "      <th>4</th>\n",
              "      <td>4</td>\n",
              "      <td>ablaze</td>\n",
              "      <td>NaN</td>\n",
              "      <td>\"Lord Jesus, your love brings freedom and pard...</td>\n",
              "      <td>0</td>\n",
              "    </tr>\n",
              "  </tbody>\n",
              "</table>\n",
              "</div>\n",
              "      <button class=\"colab-df-convert\" onclick=\"convertToInteractive('df-841751f4-caec-4ebf-b2e6-40b27ff35316')\"\n",
              "              title=\"Convert this dataframe to an interactive table.\"\n",
              "              style=\"display:none;\">\n",
              "        \n",
              "  <svg xmlns=\"http://www.w3.org/2000/svg\" height=\"24px\"viewBox=\"0 0 24 24\"\n",
              "       width=\"24px\">\n",
              "    <path d=\"M0 0h24v24H0V0z\" fill=\"none\"/>\n",
              "    <path d=\"M18.56 5.44l.94 2.06.94-2.06 2.06-.94-2.06-.94-.94-2.06-.94 2.06-2.06.94zm-11 1L8.5 8.5l.94-2.06 2.06-.94-2.06-.94L8.5 2.5l-.94 2.06-2.06.94zm10 10l.94 2.06.94-2.06 2.06-.94-2.06-.94-.94-2.06-.94 2.06-2.06.94z\"/><path d=\"M17.41 7.96l-1.37-1.37c-.4-.4-.92-.59-1.43-.59-.52 0-1.04.2-1.43.59L10.3 9.45l-7.72 7.72c-.78.78-.78 2.05 0 2.83L4 21.41c.39.39.9.59 1.41.59.51 0 1.02-.2 1.41-.59l7.78-7.78 2.81-2.81c.8-.78.8-2.07 0-2.86zM5.41 20L4 18.59l7.72-7.72 1.47 1.35L5.41 20z\"/>\n",
              "  </svg>\n",
              "      </button>\n",
              "      \n",
              "  <style>\n",
              "    .colab-df-container {\n",
              "      display:flex;\n",
              "      flex-wrap:wrap;\n",
              "      gap: 12px;\n",
              "    }\n",
              "\n",
              "    .colab-df-convert {\n",
              "      background-color: #E8F0FE;\n",
              "      border: none;\n",
              "      border-radius: 50%;\n",
              "      cursor: pointer;\n",
              "      display: none;\n",
              "      fill: #1967D2;\n",
              "      height: 32px;\n",
              "      padding: 0 0 0 0;\n",
              "      width: 32px;\n",
              "    }\n",
              "\n",
              "    .colab-df-convert:hover {\n",
              "      background-color: #E2EBFA;\n",
              "      box-shadow: 0px 1px 2px rgba(60, 64, 67, 0.3), 0px 1px 3px 1px rgba(60, 64, 67, 0.15);\n",
              "      fill: #174EA6;\n",
              "    }\n",
              "\n",
              "    [theme=dark] .colab-df-convert {\n",
              "      background-color: #3B4455;\n",
              "      fill: #D2E3FC;\n",
              "    }\n",
              "\n",
              "    [theme=dark] .colab-df-convert:hover {\n",
              "      background-color: #434B5C;\n",
              "      box-shadow: 0px 1px 3px 1px rgba(0, 0, 0, 0.15);\n",
              "      filter: drop-shadow(0px 1px 2px rgba(0, 0, 0, 0.3));\n",
              "      fill: #FFFFFF;\n",
              "    }\n",
              "  </style>\n",
              "\n",
              "      <script>\n",
              "        const buttonEl =\n",
              "          document.querySelector('#df-841751f4-caec-4ebf-b2e6-40b27ff35316 button.colab-df-convert');\n",
              "        buttonEl.style.display =\n",
              "          google.colab.kernel.accessAllowed ? 'block' : 'none';\n",
              "\n",
              "        async function convertToInteractive(key) {\n",
              "          const element = document.querySelector('#df-841751f4-caec-4ebf-b2e6-40b27ff35316');\n",
              "          const dataTable =\n",
              "            await google.colab.kernel.invokeFunction('convertToInteractive',\n",
              "                                                     [key], {});\n",
              "          if (!dataTable) return;\n",
              "\n",
              "          const docLinkHtml = 'Like what you see? Visit the ' +\n",
              "            '<a target=\"_blank\" href=https://colab.research.google.com/notebooks/data_table.ipynb>data table notebook</a>'\n",
              "            + ' to learn more about interactive tables.';\n",
              "          element.innerHTML = '';\n",
              "          dataTable['output_type'] = 'display_data';\n",
              "          await google.colab.output.renderOutput(dataTable, element);\n",
              "          const docLink = document.createElement('div');\n",
              "          docLink.innerHTML = docLinkHtml;\n",
              "          element.appendChild(docLink);\n",
              "        }\n",
              "      </script>\n",
              "    </div>\n",
              "  </div>\n",
              "  "
            ]
          },
          "metadata": {},
          "execution_count": 3
        }
      ]
    },
    {
      "cell_type": "markdown",
      "source": [
        "# Mengexplore Dataset Tweet"
      ],
      "metadata": {
        "id": "3oglCA43ohRT"
      }
    },
    {
      "cell_type": "code",
      "source": [
        "#Melihat isi dari dataset\n",
        "dataset"
      ],
      "metadata": {
        "colab": {
          "base_uri": "https://localhost:8080/",
          "height": 0
        },
        "id": "UVI59_bVobPv",
        "outputId": "460de33f-c5d9-41ff-a1f2-cb0c81222ddb"
      },
      "execution_count": 4,
      "outputs": [
        {
          "output_type": "execute_result",
          "data": {
            "text/plain": [
              "          id  keyword                 location  \\\n",
              "0          0   ablaze                      NaN   \n",
              "1          1   ablaze                      NaN   \n",
              "2          2   ablaze            New York City   \n",
              "3          3   ablaze           Morgantown, WV   \n",
              "4          4   ablaze                      NaN   \n",
              "...      ...      ...                      ...   \n",
              "11365  11365  wrecked  Blue State in a red sea   \n",
              "11366  11366  wrecked               arohaonces   \n",
              "11367  11367  wrecked                       🇵🇭   \n",
              "11368  11368  wrecked           auroraborealis   \n",
              "11369  11369  wrecked                      NaN   \n",
              "\n",
              "                                                    text  target  \n",
              "0      Communal violence in Bhainsa, Telangana. \"Ston...       1  \n",
              "1      Telangana: Section 144 has been imposed in Bha...       1  \n",
              "2      Arsonist sets cars ablaze at dealership https:...       1  \n",
              "3      Arsonist sets cars ablaze at dealership https:...       1  \n",
              "4      \"Lord Jesus, your love brings freedom and pard...       0  \n",
              "...                                                  ...     ...  \n",
              "11365  Media should have warned us well in advance. T...       0  \n",
              "11366  i feel directly attacked 💀 i consider moonbin ...       0  \n",
              "11367  i feel directly attacked 💀 i consider moonbin ...       0  \n",
              "11368  ok who remember \"outcast\" nd the \"dora\" au?? T...       0  \n",
              "11369     Jake Corway wrecked while running 14th at IRP.       1  \n",
              "\n",
              "[11370 rows x 5 columns]"
            ],
            "text/html": [
              "\n",
              "  <div id=\"df-59cad04b-2c7b-470f-87e1-4272ba68be84\">\n",
              "    <div class=\"colab-df-container\">\n",
              "      <div>\n",
              "<style scoped>\n",
              "    .dataframe tbody tr th:only-of-type {\n",
              "        vertical-align: middle;\n",
              "    }\n",
              "\n",
              "    .dataframe tbody tr th {\n",
              "        vertical-align: top;\n",
              "    }\n",
              "\n",
              "    .dataframe thead th {\n",
              "        text-align: right;\n",
              "    }\n",
              "</style>\n",
              "<table border=\"1\" class=\"dataframe\">\n",
              "  <thead>\n",
              "    <tr style=\"text-align: right;\">\n",
              "      <th></th>\n",
              "      <th>id</th>\n",
              "      <th>keyword</th>\n",
              "      <th>location</th>\n",
              "      <th>text</th>\n",
              "      <th>target</th>\n",
              "    </tr>\n",
              "  </thead>\n",
              "  <tbody>\n",
              "    <tr>\n",
              "      <th>0</th>\n",
              "      <td>0</td>\n",
              "      <td>ablaze</td>\n",
              "      <td>NaN</td>\n",
              "      <td>Communal violence in Bhainsa, Telangana. \"Ston...</td>\n",
              "      <td>1</td>\n",
              "    </tr>\n",
              "    <tr>\n",
              "      <th>1</th>\n",
              "      <td>1</td>\n",
              "      <td>ablaze</td>\n",
              "      <td>NaN</td>\n",
              "      <td>Telangana: Section 144 has been imposed in Bha...</td>\n",
              "      <td>1</td>\n",
              "    </tr>\n",
              "    <tr>\n",
              "      <th>2</th>\n",
              "      <td>2</td>\n",
              "      <td>ablaze</td>\n",
              "      <td>New York City</td>\n",
              "      <td>Arsonist sets cars ablaze at dealership https:...</td>\n",
              "      <td>1</td>\n",
              "    </tr>\n",
              "    <tr>\n",
              "      <th>3</th>\n",
              "      <td>3</td>\n",
              "      <td>ablaze</td>\n",
              "      <td>Morgantown, WV</td>\n",
              "      <td>Arsonist sets cars ablaze at dealership https:...</td>\n",
              "      <td>1</td>\n",
              "    </tr>\n",
              "    <tr>\n",
              "      <th>4</th>\n",
              "      <td>4</td>\n",
              "      <td>ablaze</td>\n",
              "      <td>NaN</td>\n",
              "      <td>\"Lord Jesus, your love brings freedom and pard...</td>\n",
              "      <td>0</td>\n",
              "    </tr>\n",
              "    <tr>\n",
              "      <th>...</th>\n",
              "      <td>...</td>\n",
              "      <td>...</td>\n",
              "      <td>...</td>\n",
              "      <td>...</td>\n",
              "      <td>...</td>\n",
              "    </tr>\n",
              "    <tr>\n",
              "      <th>11365</th>\n",
              "      <td>11365</td>\n",
              "      <td>wrecked</td>\n",
              "      <td>Blue State in a red sea</td>\n",
              "      <td>Media should have warned us well in advance. T...</td>\n",
              "      <td>0</td>\n",
              "    </tr>\n",
              "    <tr>\n",
              "      <th>11366</th>\n",
              "      <td>11366</td>\n",
              "      <td>wrecked</td>\n",
              "      <td>arohaonces</td>\n",
              "      <td>i feel directly attacked 💀 i consider moonbin ...</td>\n",
              "      <td>0</td>\n",
              "    </tr>\n",
              "    <tr>\n",
              "      <th>11367</th>\n",
              "      <td>11367</td>\n",
              "      <td>wrecked</td>\n",
              "      <td>🇵🇭</td>\n",
              "      <td>i feel directly attacked 💀 i consider moonbin ...</td>\n",
              "      <td>0</td>\n",
              "    </tr>\n",
              "    <tr>\n",
              "      <th>11368</th>\n",
              "      <td>11368</td>\n",
              "      <td>wrecked</td>\n",
              "      <td>auroraborealis</td>\n",
              "      <td>ok who remember \"outcast\" nd the \"dora\" au?? T...</td>\n",
              "      <td>0</td>\n",
              "    </tr>\n",
              "    <tr>\n",
              "      <th>11369</th>\n",
              "      <td>11369</td>\n",
              "      <td>wrecked</td>\n",
              "      <td>NaN</td>\n",
              "      <td>Jake Corway wrecked while running 14th at IRP.</td>\n",
              "      <td>1</td>\n",
              "    </tr>\n",
              "  </tbody>\n",
              "</table>\n",
              "<p>11370 rows × 5 columns</p>\n",
              "</div>\n",
              "      <button class=\"colab-df-convert\" onclick=\"convertToInteractive('df-59cad04b-2c7b-470f-87e1-4272ba68be84')\"\n",
              "              title=\"Convert this dataframe to an interactive table.\"\n",
              "              style=\"display:none;\">\n",
              "        \n",
              "  <svg xmlns=\"http://www.w3.org/2000/svg\" height=\"24px\"viewBox=\"0 0 24 24\"\n",
              "       width=\"24px\">\n",
              "    <path d=\"M0 0h24v24H0V0z\" fill=\"none\"/>\n",
              "    <path d=\"M18.56 5.44l.94 2.06.94-2.06 2.06-.94-2.06-.94-.94-2.06-.94 2.06-2.06.94zm-11 1L8.5 8.5l.94-2.06 2.06-.94-2.06-.94L8.5 2.5l-.94 2.06-2.06.94zm10 10l.94 2.06.94-2.06 2.06-.94-2.06-.94-.94-2.06-.94 2.06-2.06.94z\"/><path d=\"M17.41 7.96l-1.37-1.37c-.4-.4-.92-.59-1.43-.59-.52 0-1.04.2-1.43.59L10.3 9.45l-7.72 7.72c-.78.78-.78 2.05 0 2.83L4 21.41c.39.39.9.59 1.41.59.51 0 1.02-.2 1.41-.59l7.78-7.78 2.81-2.81c.8-.78.8-2.07 0-2.86zM5.41 20L4 18.59l7.72-7.72 1.47 1.35L5.41 20z\"/>\n",
              "  </svg>\n",
              "      </button>\n",
              "      \n",
              "  <style>\n",
              "    .colab-df-container {\n",
              "      display:flex;\n",
              "      flex-wrap:wrap;\n",
              "      gap: 12px;\n",
              "    }\n",
              "\n",
              "    .colab-df-convert {\n",
              "      background-color: #E8F0FE;\n",
              "      border: none;\n",
              "      border-radius: 50%;\n",
              "      cursor: pointer;\n",
              "      display: none;\n",
              "      fill: #1967D2;\n",
              "      height: 32px;\n",
              "      padding: 0 0 0 0;\n",
              "      width: 32px;\n",
              "    }\n",
              "\n",
              "    .colab-df-convert:hover {\n",
              "      background-color: #E2EBFA;\n",
              "      box-shadow: 0px 1px 2px rgba(60, 64, 67, 0.3), 0px 1px 3px 1px rgba(60, 64, 67, 0.15);\n",
              "      fill: #174EA6;\n",
              "    }\n",
              "\n",
              "    [theme=dark] .colab-df-convert {\n",
              "      background-color: #3B4455;\n",
              "      fill: #D2E3FC;\n",
              "    }\n",
              "\n",
              "    [theme=dark] .colab-df-convert:hover {\n",
              "      background-color: #434B5C;\n",
              "      box-shadow: 0px 1px 3px 1px rgba(0, 0, 0, 0.15);\n",
              "      filter: drop-shadow(0px 1px 2px rgba(0, 0, 0, 0.3));\n",
              "      fill: #FFFFFF;\n",
              "    }\n",
              "  </style>\n",
              "\n",
              "      <script>\n",
              "        const buttonEl =\n",
              "          document.querySelector('#df-59cad04b-2c7b-470f-87e1-4272ba68be84 button.colab-df-convert');\n",
              "        buttonEl.style.display =\n",
              "          google.colab.kernel.accessAllowed ? 'block' : 'none';\n",
              "\n",
              "        async function convertToInteractive(key) {\n",
              "          const element = document.querySelector('#df-59cad04b-2c7b-470f-87e1-4272ba68be84');\n",
              "          const dataTable =\n",
              "            await google.colab.kernel.invokeFunction('convertToInteractive',\n",
              "                                                     [key], {});\n",
              "          if (!dataTable) return;\n",
              "\n",
              "          const docLinkHtml = 'Like what you see? Visit the ' +\n",
              "            '<a target=\"_blank\" href=https://colab.research.google.com/notebooks/data_table.ipynb>data table notebook</a>'\n",
              "            + ' to learn more about interactive tables.';\n",
              "          element.innerHTML = '';\n",
              "          dataTable['output_type'] = 'display_data';\n",
              "          await google.colab.output.renderOutput(dataTable, element);\n",
              "          const docLink = document.createElement('div');\n",
              "          docLink.innerHTML = docLinkHtml;\n",
              "          element.appendChild(docLink);\n",
              "        }\n",
              "      </script>\n",
              "    </div>\n",
              "  </div>\n",
              "  "
            ]
          },
          "metadata": {},
          "execution_count": 4
        }
      ]
    },
    {
      "cell_type": "code",
      "source": [
        "#Menampilkan statistik deskriptif mencakup statistik yang merangkum tendensi sentral, \n",
        "#dispersi, dan bentuk distribusi kumpulan data, tidak termasuk nilai NaN.\n",
        "dataset.describe(include=\"all\")"
      ],
      "metadata": {
        "colab": {
          "base_uri": "https://localhost:8080/",
          "height": 0
        },
        "id": "eVr0TXdHpyf5",
        "outputId": "b1e7b993-10fc-42eb-db96-882d6a13d74d"
      },
      "execution_count": 5,
      "outputs": [
        {
          "output_type": "execute_result",
          "data": {
            "text/plain": [
              "                  id       keyword       location  \\\n",
              "count   11370.000000         11370           7952   \n",
              "unique           NaN           219           4504   \n",
              "top              NaN  thunderstorm  United States   \n",
              "freq             NaN            93             96   \n",
              "mean     5684.500000           NaN            NaN   \n",
              "std      3282.380615           NaN            NaN   \n",
              "min         0.000000           NaN            NaN   \n",
              "25%      2842.250000           NaN            NaN   \n",
              "50%      5684.500000           NaN            NaN   \n",
              "75%      8526.750000           NaN            NaN   \n",
              "max     11369.000000           NaN            NaN   \n",
              "\n",
              "                                                     text        target  \n",
              "count                                               11370  11370.000000  \n",
              "unique                                              11223           NaN  \n",
              "top     I want to help you with my project to save the...           NaN  \n",
              "freq                                                    3           NaN  \n",
              "mean                                                  NaN      0.185928  \n",
              "std                                                   NaN      0.389066  \n",
              "min                                                   NaN      0.000000  \n",
              "25%                                                   NaN      0.000000  \n",
              "50%                                                   NaN      0.000000  \n",
              "75%                                                   NaN      0.000000  \n",
              "max                                                   NaN      1.000000  "
            ],
            "text/html": [
              "\n",
              "  <div id=\"df-f2f2521b-90e9-4174-bf18-23cb2a892d8a\">\n",
              "    <div class=\"colab-df-container\">\n",
              "      <div>\n",
              "<style scoped>\n",
              "    .dataframe tbody tr th:only-of-type {\n",
              "        vertical-align: middle;\n",
              "    }\n",
              "\n",
              "    .dataframe tbody tr th {\n",
              "        vertical-align: top;\n",
              "    }\n",
              "\n",
              "    .dataframe thead th {\n",
              "        text-align: right;\n",
              "    }\n",
              "</style>\n",
              "<table border=\"1\" class=\"dataframe\">\n",
              "  <thead>\n",
              "    <tr style=\"text-align: right;\">\n",
              "      <th></th>\n",
              "      <th>id</th>\n",
              "      <th>keyword</th>\n",
              "      <th>location</th>\n",
              "      <th>text</th>\n",
              "      <th>target</th>\n",
              "    </tr>\n",
              "  </thead>\n",
              "  <tbody>\n",
              "    <tr>\n",
              "      <th>count</th>\n",
              "      <td>11370.000000</td>\n",
              "      <td>11370</td>\n",
              "      <td>7952</td>\n",
              "      <td>11370</td>\n",
              "      <td>11370.000000</td>\n",
              "    </tr>\n",
              "    <tr>\n",
              "      <th>unique</th>\n",
              "      <td>NaN</td>\n",
              "      <td>219</td>\n",
              "      <td>4504</td>\n",
              "      <td>11223</td>\n",
              "      <td>NaN</td>\n",
              "    </tr>\n",
              "    <tr>\n",
              "      <th>top</th>\n",
              "      <td>NaN</td>\n",
              "      <td>thunderstorm</td>\n",
              "      <td>United States</td>\n",
              "      <td>I want to help you with my project to save the...</td>\n",
              "      <td>NaN</td>\n",
              "    </tr>\n",
              "    <tr>\n",
              "      <th>freq</th>\n",
              "      <td>NaN</td>\n",
              "      <td>93</td>\n",
              "      <td>96</td>\n",
              "      <td>3</td>\n",
              "      <td>NaN</td>\n",
              "    </tr>\n",
              "    <tr>\n",
              "      <th>mean</th>\n",
              "      <td>5684.500000</td>\n",
              "      <td>NaN</td>\n",
              "      <td>NaN</td>\n",
              "      <td>NaN</td>\n",
              "      <td>0.185928</td>\n",
              "    </tr>\n",
              "    <tr>\n",
              "      <th>std</th>\n",
              "      <td>3282.380615</td>\n",
              "      <td>NaN</td>\n",
              "      <td>NaN</td>\n",
              "      <td>NaN</td>\n",
              "      <td>0.389066</td>\n",
              "    </tr>\n",
              "    <tr>\n",
              "      <th>min</th>\n",
              "      <td>0.000000</td>\n",
              "      <td>NaN</td>\n",
              "      <td>NaN</td>\n",
              "      <td>NaN</td>\n",
              "      <td>0.000000</td>\n",
              "    </tr>\n",
              "    <tr>\n",
              "      <th>25%</th>\n",
              "      <td>2842.250000</td>\n",
              "      <td>NaN</td>\n",
              "      <td>NaN</td>\n",
              "      <td>NaN</td>\n",
              "      <td>0.000000</td>\n",
              "    </tr>\n",
              "    <tr>\n",
              "      <th>50%</th>\n",
              "      <td>5684.500000</td>\n",
              "      <td>NaN</td>\n",
              "      <td>NaN</td>\n",
              "      <td>NaN</td>\n",
              "      <td>0.000000</td>\n",
              "    </tr>\n",
              "    <tr>\n",
              "      <th>75%</th>\n",
              "      <td>8526.750000</td>\n",
              "      <td>NaN</td>\n",
              "      <td>NaN</td>\n",
              "      <td>NaN</td>\n",
              "      <td>0.000000</td>\n",
              "    </tr>\n",
              "    <tr>\n",
              "      <th>max</th>\n",
              "      <td>11369.000000</td>\n",
              "      <td>NaN</td>\n",
              "      <td>NaN</td>\n",
              "      <td>NaN</td>\n",
              "      <td>1.000000</td>\n",
              "    </tr>\n",
              "  </tbody>\n",
              "</table>\n",
              "</div>\n",
              "      <button class=\"colab-df-convert\" onclick=\"convertToInteractive('df-f2f2521b-90e9-4174-bf18-23cb2a892d8a')\"\n",
              "              title=\"Convert this dataframe to an interactive table.\"\n",
              "              style=\"display:none;\">\n",
              "        \n",
              "  <svg xmlns=\"http://www.w3.org/2000/svg\" height=\"24px\"viewBox=\"0 0 24 24\"\n",
              "       width=\"24px\">\n",
              "    <path d=\"M0 0h24v24H0V0z\" fill=\"none\"/>\n",
              "    <path d=\"M18.56 5.44l.94 2.06.94-2.06 2.06-.94-2.06-.94-.94-2.06-.94 2.06-2.06.94zm-11 1L8.5 8.5l.94-2.06 2.06-.94-2.06-.94L8.5 2.5l-.94 2.06-2.06.94zm10 10l.94 2.06.94-2.06 2.06-.94-2.06-.94-.94-2.06-.94 2.06-2.06.94z\"/><path d=\"M17.41 7.96l-1.37-1.37c-.4-.4-.92-.59-1.43-.59-.52 0-1.04.2-1.43.59L10.3 9.45l-7.72 7.72c-.78.78-.78 2.05 0 2.83L4 21.41c.39.39.9.59 1.41.59.51 0 1.02-.2 1.41-.59l7.78-7.78 2.81-2.81c.8-.78.8-2.07 0-2.86zM5.41 20L4 18.59l7.72-7.72 1.47 1.35L5.41 20z\"/>\n",
              "  </svg>\n",
              "      </button>\n",
              "      \n",
              "  <style>\n",
              "    .colab-df-container {\n",
              "      display:flex;\n",
              "      flex-wrap:wrap;\n",
              "      gap: 12px;\n",
              "    }\n",
              "\n",
              "    .colab-df-convert {\n",
              "      background-color: #E8F0FE;\n",
              "      border: none;\n",
              "      border-radius: 50%;\n",
              "      cursor: pointer;\n",
              "      display: none;\n",
              "      fill: #1967D2;\n",
              "      height: 32px;\n",
              "      padding: 0 0 0 0;\n",
              "      width: 32px;\n",
              "    }\n",
              "\n",
              "    .colab-df-convert:hover {\n",
              "      background-color: #E2EBFA;\n",
              "      box-shadow: 0px 1px 2px rgba(60, 64, 67, 0.3), 0px 1px 3px 1px rgba(60, 64, 67, 0.15);\n",
              "      fill: #174EA6;\n",
              "    }\n",
              "\n",
              "    [theme=dark] .colab-df-convert {\n",
              "      background-color: #3B4455;\n",
              "      fill: #D2E3FC;\n",
              "    }\n",
              "\n",
              "    [theme=dark] .colab-df-convert:hover {\n",
              "      background-color: #434B5C;\n",
              "      box-shadow: 0px 1px 3px 1px rgba(0, 0, 0, 0.15);\n",
              "      filter: drop-shadow(0px 1px 2px rgba(0, 0, 0, 0.3));\n",
              "      fill: #FFFFFF;\n",
              "    }\n",
              "  </style>\n",
              "\n",
              "      <script>\n",
              "        const buttonEl =\n",
              "          document.querySelector('#df-f2f2521b-90e9-4174-bf18-23cb2a892d8a button.colab-df-convert');\n",
              "        buttonEl.style.display =\n",
              "          google.colab.kernel.accessAllowed ? 'block' : 'none';\n",
              "\n",
              "        async function convertToInteractive(key) {\n",
              "          const element = document.querySelector('#df-f2f2521b-90e9-4174-bf18-23cb2a892d8a');\n",
              "          const dataTable =\n",
              "            await google.colab.kernel.invokeFunction('convertToInteractive',\n",
              "                                                     [key], {});\n",
              "          if (!dataTable) return;\n",
              "\n",
              "          const docLinkHtml = 'Like what you see? Visit the ' +\n",
              "            '<a target=\"_blank\" href=https://colab.research.google.com/notebooks/data_table.ipynb>data table notebook</a>'\n",
              "            + ' to learn more about interactive tables.';\n",
              "          element.innerHTML = '';\n",
              "          dataTable['output_type'] = 'display_data';\n",
              "          await google.colab.output.renderOutput(dataTable, element);\n",
              "          const docLink = document.createElement('div');\n",
              "          docLink.innerHTML = docLinkHtml;\n",
              "          element.appendChild(docLink);\n",
              "        }\n",
              "      </script>\n",
              "    </div>\n",
              "  </div>\n",
              "  "
            ]
          },
          "metadata": {},
          "execution_count": 5
        }
      ]
    },
    {
      "cell_type": "code",
      "source": [
        "#Mencetak informasi tentang DataFrame termasuk indeks dtype dan kolom, \n",
        "#nilai non-null dan penggunaan memori.\n",
        "dataset.info()"
      ],
      "metadata": {
        "colab": {
          "base_uri": "https://localhost:8080/"
        },
        "id": "t9iS18QHqpQw",
        "outputId": "91911215-6b6c-44cf-b8e1-60a950ab1a26"
      },
      "execution_count": 6,
      "outputs": [
        {
          "output_type": "stream",
          "name": "stdout",
          "text": [
            "<class 'pandas.core.frame.DataFrame'>\n",
            "RangeIndex: 11370 entries, 0 to 11369\n",
            "Data columns (total 5 columns):\n",
            " #   Column    Non-Null Count  Dtype \n",
            "---  ------    --------------  ----- \n",
            " 0   id        11370 non-null  int64 \n",
            " 1   keyword   11370 non-null  object\n",
            " 2   location  7952 non-null   object\n",
            " 3   text      11370 non-null  object\n",
            " 4   target    11370 non-null  int64 \n",
            "dtypes: int64(2), object(3)\n",
            "memory usage: 444.3+ KB\n"
          ]
        }
      ]
    },
    {
      "cell_type": "code",
      "source": [
        "#Memvisualisasikan nilai-nilai yang hilang pada dataset\n",
        "#Terlihat feature location banyak yang kosong.\n",
        "\n",
        "ax, fig = plt.subplots(figsize=(5,5))\n",
        "ax = sns.heatmap(dataset.isna(),yticklabels=False,cbar=False,cmap='BuGn_r', alpha = 0.9)\n",
        "plt.xticks(rotation = 45, ha=\"right\")\n",
        "plt.tight_layout()"
      ],
      "metadata": {
        "colab": {
          "base_uri": "https://localhost:8080/",
          "height": 0
        },
        "id": "GlqoHjRUrF63",
        "outputId": "518af897-f368-4782-edc5-695704de970e"
      },
      "execution_count": 7,
      "outputs": [
        {
          "output_type": "display_data",
          "data": {
            "text/plain": [
              "<Figure size 360x360 with 1 Axes>"
            ],
            "image/png": "[encoded data removed]"
          },
          "metadata": {
            "needs_background": "light"
          }
        }
      ]
    },
    {
      "cell_type": "markdown",
      "source": [
        "# Menganalisis Feature Dataset Tweet"
      ],
      "metadata": {
        "id": "naas1MGZsUxv"
      }
    },
    {
      "cell_type": "markdown",
      "source": [
        "**Feature ID**"
      ],
      "metadata": {
        "id": "T8hjfi2-v913"
      }
    },
    {
      "cell_type": "code",
      "source": [
        "#ID tidak memiliki relasi dengan feature Target, feature ini akan dihapus.\n",
        "dataset[\"id\"]"
      ],
      "metadata": {
        "id": "O3qWx5JbsjGA",
        "colab": {
          "base_uri": "https://localhost:8080/"
        },
        "outputId": "ee1f4177-9b6a-4b46-cbe4-5f1f1566b770"
      },
      "execution_count": 8,
      "outputs": [
        {
          "output_type": "execute_result",
          "data": {
            "text/plain": [
              "0            0\n",
              "1            1\n",
              "2            2\n",
              "3            3\n",
              "4            4\n",
              "         ...  \n",
              "11365    11365\n",
              "11366    11366\n",
              "11367    11367\n",
              "11368    11368\n",
              "11369    11369\n",
              "Name: id, Length: 11370, dtype: int64"
            ]
          },
          "metadata": {},
          "execution_count": 8
        }
      ]
    },
    {
      "cell_type": "code",
      "source": [
        "dataset = dataset.drop(\"id\", axis='columns')"
      ],
      "metadata": {
        "id": "WBcf-eRgh5Vn"
      },
      "execution_count": 9,
      "outputs": []
    },
    {
      "cell_type": "markdown",
      "source": [
        "**Feature KEYWORD**"
      ],
      "metadata": {
        "id": "RzWnqLn4wBOm"
      }
    },
    {
      "cell_type": "code",
      "source": [
        "#Keyword terbanyak adalah thunderstorm, dan disini terlihat ada 219 nilai keyword\n",
        "dataset[\"keyword\"].describe()"
      ],
      "metadata": {
        "id": "b-e07oXTv2Cg",
        "colab": {
          "base_uri": "https://localhost:8080/"
        },
        "outputId": "510a96c8-a956-4fc3-a573-3c47670e7ea4"
      },
      "execution_count": 10,
      "outputs": [
        {
          "output_type": "execute_result",
          "data": {
            "text/plain": [
              "count            11370\n",
              "unique             219\n",
              "top       thunderstorm\n",
              "freq                93\n",
              "Name: keyword, dtype: object"
            ]
          },
          "metadata": {},
          "execution_count": 10
        }
      ]
    },
    {
      "cell_type": "code",
      "source": [
        "#Melihat beberapa kelompok nilai yang ada pada feature keyword.\n",
        "dataset[~dataset[\"keyword\"].isna()][\"keyword\"].unique().tolist()[:30]"
      ],
      "metadata": {
        "id": "ndIamyjmub9n",
        "colab": {
          "base_uri": "https://localhost:8080/"
        },
        "outputId": "8962899c-45d9-4b9d-a255-3f4d390cb85a"
      },
      "execution_count": 11,
      "outputs": [
        {
          "output_type": "execute_result",
          "data": {
            "text/plain": [
              "['ablaze',\n",
              " 'accident',\n",
              " 'aftershock',\n",
              " 'airplane%20accident',\n",
              " 'ambulance',\n",
              " 'annihilated',\n",
              " 'annihilation',\n",
              " 'apocalypse',\n",
              " 'armageddon',\n",
              " 'army',\n",
              " 'arson',\n",
              " 'arsonist',\n",
              " 'attack',\n",
              " 'attacked',\n",
              " 'avalanche',\n",
              " 'battle',\n",
              " 'bioterror',\n",
              " 'bioterrorism',\n",
              " 'blaze',\n",
              " 'blazing',\n",
              " 'bleeding',\n",
              " 'blew%20up',\n",
              " 'blight',\n",
              " 'blizzard',\n",
              " 'blood',\n",
              " 'bloody',\n",
              " 'blown%20up',\n",
              " 'body%20bag',\n",
              " 'body%20bagging',\n",
              " 'body%20bags']"
            ]
          },
          "metadata": {},
          "execution_count": 11
        }
      ]
    },
    {
      "cell_type": "markdown",
      "source": [
        "**Feature LOCATION**"
      ],
      "metadata": {
        "id": "RGwcWu3m0PV6"
      }
    },
    {
      "cell_type": "code",
      "source": [
        "#Location terbanyak adalah United States, dan disini terlihat ada 4504 nilai Location\n",
        "dataset[\"location\"].describe()"
      ],
      "metadata": {
        "colab": {
          "base_uri": "https://localhost:8080/"
        },
        "id": "YBQH_UT_0TuR",
        "outputId": "8b840941-811a-4f09-e9d5-ec806c7d7338"
      },
      "execution_count": 12,
      "outputs": [
        {
          "output_type": "execute_result",
          "data": {
            "text/plain": [
              "count              7952\n",
              "unique             4504\n",
              "top       United States\n",
              "freq                 96\n",
              "Name: location, dtype: object"
            ]
          },
          "metadata": {},
          "execution_count": 12
        }
      ]
    },
    {
      "cell_type": "code",
      "source": [
        "#Melihat julah nilai yang hilang, dan terlihat 30% kosong\n",
        "dataset[\"location\"].isna().value_counts(normalize=True)*100"
      ],
      "metadata": {
        "colab": {
          "base_uri": "https://localhost:8080/"
        },
        "id": "ZAkj76d-0HbH",
        "outputId": "129aa54c-ee10-4d3c-9ab5-27797edd8b32"
      },
      "execution_count": 13,
      "outputs": [
        {
          "output_type": "execute_result",
          "data": {
            "text/plain": [
              "False    69.938434\n",
              "True     30.061566\n",
              "Name: location, dtype: float64"
            ]
          },
          "metadata": {},
          "execution_count": 13
        }
      ]
    },
    {
      "cell_type": "code",
      "source": [
        "#Melihat beberapa kelompok nilai yang ada pada feature location.\n",
        "#Feature ini terdapat symbol, char yang tidak konsisten menunjukan tempat (location)\n",
        "dataset[~dataset[\"location\"].isna()][\"location\"].values.tolist()[:30]"
      ],
      "metadata": {
        "colab": {
          "base_uri": "https://localhost:8080/"
        },
        "id": "G8ICR7uD01T_",
        "outputId": "c2f284ed-068c-47f6-a636-b40d4e0935f7"
      },
      "execution_count": 14,
      "outputs": [
        {
          "output_type": "execute_result",
          "data": {
            "text/plain": [
              "['New York City',\n",
              " 'Morgantown, WV',\n",
              " 'OC',\n",
              " 'London, England',\n",
              " 'Bharat',\n",
              " 'Accra, Ghana',\n",
              " 'Searching',\n",
              " 'HYDERABAD',\n",
              " 'Reno, NV',\n",
              " 'Worldwide',\n",
              " 'Italy',\n",
              " \"` ˗ˏˋ i'm⠀waiting⠀for⠀you⠀to⠀pour⠀my⠀𝘀𝗶𝗻𝘀⠀onto⠀me⠀;⠀call⠀me⠀your⠀𝘭𝘰𝘷𝘦𝘳⠀whispering⠀hymns⠀to⠀my⠀ear⠀,⠀crucify⠀me⠀in⠀claims⠀of⠀praising⠀me .\",\n",
              " 'Okielahoma',\n",
              " 'Havana 3am',\n",
              " 'Washington, DC',\n",
              " 'India',\n",
              " 'Salta, Argentina',\n",
              " 'Wherever socks go in the dryer',\n",
              " 'Kuala Lumpur',\n",
              " 'Sydney, New South Wales',\n",
              " 'Nigeria',\n",
              " 'Davanagere, India ',\n",
              " 'Lyndhurst, OH',\n",
              " 'Covina, Ca',\n",
              " 'Colorado, Brighton',\n",
              " 'North Carolina, USA',\n",
              " 'kurger bing',\n",
              " 'Faridabad, India',\n",
              " '60',\n",
              " 'ngovhela Mahunguni']"
            ]
          },
          "metadata": {},
          "execution_count": 14
        }
      ]
    },
    {
      "cell_type": "markdown",
      "source": [
        "**Feature TEXT**"
      ],
      "metadata": {
        "id": "A2Y73m0Qw-oi"
      }
    },
    {
      "cell_type": "code",
      "source": [
        "#Melihat nilai feature text.\n",
        "#Terlihat nilai test berisi link url, emoji, symbol, escape char, tab, dll yang perlu dihilangkan.\n",
        "dataset[\"text\"].values.tolist()[:30]"
      ],
      "metadata": {
        "id": "y_3A0D4MxjDi",
        "colab": {
          "base_uri": "https://localhost:8080/"
        },
        "outputId": "c499339a-1998-4a5b-c51d-cf2808d86544"
      },
      "execution_count": 15,
      "outputs": [
        {
          "output_type": "execute_result",
          "data": {
            "text/plain": [
              "['Communal violence in Bhainsa, Telangana. \"Stones were pelted on Muslims\\' houses and some houses and vehicles were set ablaze…',\n",
              " 'Telangana: Section 144 has been imposed in Bhainsa from January 13 to 15, after clash erupted between two groups on January 12. Po…',\n",
              " 'Arsonist sets cars ablaze at dealership https://t.co/gOQvyJbpVI',\n",
              " 'Arsonist sets cars ablaze at dealership https://t.co/0gL7NUCPlb https://t.co/u1CcBhOWh9',\n",
              " '\"Lord Jesus, your love brings freedom and pardon. Fill me with your Holy Spirit and set my heart ablaze with your l… https://t.co/VlTznnPNi8',\n",
              " 'If this child was Chinese, this tweet would have gone viral. Social media would be ablaze. SNL would have made a racist j…',\n",
              " 'Several houses have been set ablaze in Ngemsibaa village, Oku sub division in the North West Region of Cameroon by… https://t.co/99uHGAzxy2',\n",
              " 'Asansol: A BJP office in Salanpur village was set ablaze last night. BJP has alleged that TMC is behind the incident. Police has b…',\n",
              " \"National Security Minister, Kan Dapaah's side chic has set the internet ablaze with her latest powerful video.… https://t.co/rhzOMQVSlj\",\n",
              " 'This creature who’s soul is no longer clarent but blue ablaze This thing Carrying memories Memories of… https://t.co/tBKSNDrDoX',\n",
              " 'Images showing the havoc caused by the #Cameroon military as they torched houses in #Oku.The shameless military is reported…',\n",
              " 'Social media went bananas after Chuba Hubbard announced Monday evening his plans to return to #okstate. https://t.co/peN…',\n",
              " 'Hausa youths set Area Office of Apapa-Iganmu Local Council Development Area ablaze. Okada Riders stormed the LG area office…',\n",
              " 'Under #MamataBanerjee political violence &amp; vandalism continues to unabated in West Bengal! office in Asanol was…',\n",
              " 'AMEN! Set the whole system ablaze, man. https://t.co/J08xHDcGbD',\n",
              " 'Images showing the havoc caused by the #Cameroon military as they torched houses in #Oku.The shameless military is… https://t.co/gIwZCH533D',\n",
              " 'No cows today but our local factory is sadly still ablaze #REDJanuary2020 https://t.co/CMyuKzrcKz',\n",
              " 'Rengoku sets my heart ablaze😔❤️🔥 P.s. I missed this style of coloring I do so here it is c: #鬼滅の刃 https://t.co/YrUF9g68s0',\n",
              " 'paulzizkaphoto: “Rundle Ablaze” Wishing you all a good evening... https://t.co/d0NlME1HQz https://t.co/hlVlT6qiIp',\n",
              " 'French cameroun set houses ablaze in Ndu and roasted two young boys in their homes in #targeted killings in a #GenocideInSou…',\n",
              " \"Cameroon's #BIR soldiers on the 05/01/2020 invaded the #SouthernCameroons Village of Kimar - So setting ablaze a total of…\",\n",
              " 'As fires ablaze throughout the land/as the prophosized apocalypse comes to fruition/not a building standing/as we all come st…',\n",
              " '#ThankfulTuesday Isaiah 43:2 When you pass through the waters, I will be with you; and when you pass through the r… https://t.co/jEp3L1oU36',\n",
              " '⠀⠀When you walk through the fire, ⠀⠀you will not be scorched, and the ⠀⠀flames will not set you ablaze. ──── product…',\n",
              " \"Originally they were intended to be fired at boarders or the opposing ship's crew from gunners in the ships's riggi… https://t.co/z5vPwuyBCL\",\n",
              " \"Warm greetings to all on the occasion of #Lohri. As winter passes by may everyone's woes and troubles be set ablaze in t…\",\n",
              " 'Another arson in Njikom,Boyo,NWR. The ambazombies yesterday 13/1/2020 set ablaze the Council building. Which country in the wo…',\n",
              " 'Another public market in #Haiti mysteriously set ablaze. The independent merchants, who are overwhelmingly women, become…',\n",
              " 'that is kind true sadly',\n",
              " 'I swear that jam will set the world ablaze']"
            ]
          },
          "metadata": {},
          "execution_count": 15
        }
      ]
    },
    {
      "cell_type": "markdown",
      "source": [
        "**Feature TARGET**"
      ],
      "metadata": {
        "id": "yILbx5ui2J3R"
      }
    },
    {
      "cell_type": "code",
      "source": [
        "#Melihat jumlah dan perbandingan feature target\n",
        "dataset[\"target\"].value_counts()"
      ],
      "metadata": {
        "colab": {
          "base_uri": "https://localhost:8080/"
        },
        "id": "IJ-OPS-I2fAv",
        "outputId": "08ea2169-3685-49e9-bdfa-9aeeba8967ff"
      },
      "execution_count": 16,
      "outputs": [
        {
          "output_type": "execute_result",
          "data": {
            "text/plain": [
              "0    9256\n",
              "1    2114\n",
              "Name: target, dtype: int64"
            ]
          },
          "metadata": {},
          "execution_count": 16
        }
      ]
    },
    {
      "cell_type": "code",
      "source": [
        "#Terlihat 18,59% tweet merupakan Disaster (Bencana)\n",
        "dataset[\"target\"].value_counts(normalize=True)*100"
      ],
      "metadata": {
        "colab": {
          "base_uri": "https://localhost:8080/"
        },
        "id": "Z0lkaYxT2LgP",
        "outputId": "fa252c36-45e0-4564-f321-73645128fd94"
      },
      "execution_count": 17,
      "outputs": [
        {
          "output_type": "execute_result",
          "data": {
            "text/plain": [
              "0    81.407212\n",
              "1    18.592788\n",
              "Name: target, dtype: float64"
            ]
          },
          "metadata": {},
          "execution_count": 17
        }
      ]
    },
    {
      "cell_type": "markdown",
      "source": [
        "# Preprocessing Dataset"
      ],
      "metadata": {
        "id": "X6xFI68r3715"
      }
    },
    {
      "cell_type": "code",
      "source": [
        "#Membuat Fungsi untuk menghapus URL, emoji, html dan tanda baca.\n",
        "\n",
        "#Refensi: https://stackoverflow.com/questions/24399820/expression-to-remove-url-links-from-twitter-tweet\n",
        "def hapus_URL(text):\n",
        "    url = re.compile(r'https?://\\S+|www\\.\\S+')\n",
        "    return url.sub(r'', text)\n",
        "\n",
        "#Referensi: https://stackoverflow.com/questions/33404752/removing-emojis-from-a-string-in-python\n",
        "def hapus_emoji(text):\n",
        "    emoji_pattern = re.compile(\n",
        "        '['\n",
        "        u'\\U0001F600-\\U0001F64F'  # Kode Emoticon\n",
        "        u'\\U0001F300-\\U0001F5FF'  # Kode symbols & pictograph\n",
        "        u'\\U0001F680-\\U0001F6FF'  # Kode transport & map symbols\n",
        "        u'\\U0001F1E0-\\U0001F1FF'  # Kode flags (iOS)\n",
        "        u'\\U00002702-\\U000027B0'\n",
        "        u'\\U000024C2-\\U0001F251'\n",
        "        ']+',\n",
        "        flags=re.UNICODE)\n",
        "    return emoji_pattern.sub(r'', text)\n",
        "\n",
        "#Referensi: https://stackoverflow.com/questions/9662346/python-code-to-remove-html-tags-from-a-string\n",
        "def hapus_html(text):\n",
        "    html = re.compile(r'<.*?>|&([a-z0-9]+|#[0-9]{1,6}|#x[0-9a-f]{1,6});')\n",
        "    return re.sub(html, '', text)\n",
        "\n",
        "#Referensi: https://stackoverflow.com/questions/265960/best-way-to-strip-punctuation-from-a-string\n",
        "def hapus_tandaBaca(text):\n",
        "    table = str.maketrans('', '', string.punctuation)\n",
        "    return text.translate(table)"
      ],
      "metadata": {
        "id": "V0yTVG3A4HhR"
      },
      "execution_count": 18,
      "outputs": []
    },
    {
      "cell_type": "code",
      "source": [
        "# Menerapkan Fungsi untuk menghapus URL, emoji, html dan tanda baca\n",
        "# Output berupa field baru bernama clean_text\n",
        "dataset['clean_text'] = dataset['text'].apply(lambda x: hapus_URL(x))\n",
        "dataset['clean_text'] = dataset['clean_text'].apply(lambda x: hapus_emoji(x))\n",
        "dataset['clean_text'] = dataset['clean_text'].apply(lambda x: hapus_html(x))\n",
        "dataset['clean_text'] = dataset['clean_text'].apply(lambda x: hapus_tandaBaca(x))\n",
        "\n",
        "dataset.head()"
      ],
      "metadata": {
        "colab": {
          "base_uri": "https://localhost:8080/",
          "height": 0
        },
        "id": "2csblF7r6fF3",
        "outputId": "9f572e1c-2142-4a43-fc16-17b0f57ac850"
      },
      "execution_count": 19,
      "outputs": [
        {
          "output_type": "execute_result",
          "data": {
            "text/plain": [
              "  keyword        location                                               text  \\\n",
              "0  ablaze             NaN  Communal violence in Bhainsa, Telangana. \"Ston...   \n",
              "1  ablaze             NaN  Telangana: Section 144 has been imposed in Bha...   \n",
              "2  ablaze   New York City  Arsonist sets cars ablaze at dealership https:...   \n",
              "3  ablaze  Morgantown, WV  Arsonist sets cars ablaze at dealership https:...   \n",
              "4  ablaze             NaN  \"Lord Jesus, your love brings freedom and pard...   \n",
              "\n",
              "   target                                         clean_text  \n",
              "0       1  Communal violence in Bhainsa Telangana Stones ...  \n",
              "1       1  Telangana Section 144 has been imposed in Bhai...  \n",
              "2       1           Arsonist sets cars ablaze at dealership   \n",
              "3       1          Arsonist sets cars ablaze at dealership    \n",
              "4       0  Lord Jesus your love brings freedom and pardon...  "
            ],
            "text/html": [
              "\n",
              "  <div id=\"df-6d6558b0-a83e-4ea3-b119-26cdcb1b6401\">\n",
              "    <div class=\"colab-df-container\">\n",
              "      <div>\n",
              "<style scoped>\n",
              "    .dataframe tbody tr th:only-of-type {\n",
              "        vertical-align: middle;\n",
              "    }\n",
              "\n",
              "    .dataframe tbody tr th {\n",
              "        vertical-align: top;\n",
              "    }\n",
              "\n",
              "    .dataframe thead th {\n",
              "        text-align: right;\n",
              "    }\n",
              "</style>\n",
              "<table border=\"1\" class=\"dataframe\">\n",
              "  <thead>\n",
              "    <tr style=\"text-align: right;\">\n",
              "      <th></th>\n",
              "      <th>keyword</th>\n",
              "      <th>location</th>\n",
              "      <th>text</th>\n",
              "      <th>target</th>\n",
              "      <th>clean_text</th>\n",
              "    </tr>\n",
              "  </thead>\n",
              "  <tbody>\n",
              "    <tr>\n",
              "      <th>0</th>\n",
              "      <td>ablaze</td>\n",
              "      <td>NaN</td>\n",
              "      <td>Communal violence in Bhainsa, Telangana. \"Ston...</td>\n",
              "      <td>1</td>\n",
              "      <td>Communal violence in Bhainsa Telangana Stones ...</td>\n",
              "    </tr>\n",
              "    <tr>\n",
              "      <th>1</th>\n",
              "      <td>ablaze</td>\n",
              "      <td>NaN</td>\n",
              "      <td>Telangana: Section 144 has been imposed in Bha...</td>\n",
              "      <td>1</td>\n",
              "      <td>Telangana Section 144 has been imposed in Bhai...</td>\n",
              "    </tr>\n",
              "    <tr>\n",
              "      <th>2</th>\n",
              "      <td>ablaze</td>\n",
              "      <td>New York City</td>\n",
              "      <td>Arsonist sets cars ablaze at dealership https:...</td>\n",
              "      <td>1</td>\n",
              "      <td>Arsonist sets cars ablaze at dealership</td>\n",
              "    </tr>\n",
              "    <tr>\n",
              "      <th>3</th>\n",
              "      <td>ablaze</td>\n",
              "      <td>Morgantown, WV</td>\n",
              "      <td>Arsonist sets cars ablaze at dealership https:...</td>\n",
              "      <td>1</td>\n",
              "      <td>Arsonist sets cars ablaze at dealership</td>\n",
              "    </tr>\n",
              "    <tr>\n",
              "      <th>4</th>\n",
              "      <td>ablaze</td>\n",
              "      <td>NaN</td>\n",
              "      <td>\"Lord Jesus, your love brings freedom and pard...</td>\n",
              "      <td>0</td>\n",
              "      <td>Lord Jesus your love brings freedom and pardon...</td>\n",
              "    </tr>\n",
              "  </tbody>\n",
              "</table>\n",
              "</div>\n",
              "      <button class=\"colab-df-convert\" onclick=\"convertToInteractive('df-6d6558b0-a83e-4ea3-b119-26cdcb1b6401')\"\n",
              "              title=\"Convert this dataframe to an interactive table.\"\n",
              "              style=\"display:none;\">\n",
              "        \n",
              "  <svg xmlns=\"http://www.w3.org/2000/svg\" height=\"24px\"viewBox=\"0 0 24 24\"\n",
              "       width=\"24px\">\n",
              "    <path d=\"M0 0h24v24H0V0z\" fill=\"none\"/>\n",
              "    <path d=\"M18.56 5.44l.94 2.06.94-2.06 2.06-.94-2.06-.94-.94-2.06-.94 2.06-2.06.94zm-11 1L8.5 8.5l.94-2.06 2.06-.94-2.06-.94L8.5 2.5l-.94 2.06-2.06.94zm10 10l.94 2.06.94-2.06 2.06-.94-2.06-.94-.94-2.06-.94 2.06-2.06.94z\"/><path d=\"M17.41 7.96l-1.37-1.37c-.4-.4-.92-.59-1.43-.59-.52 0-1.04.2-1.43.59L10.3 9.45l-7.72 7.72c-.78.78-.78 2.05 0 2.83L4 21.41c.39.39.9.59 1.41.59.51 0 1.02-.2 1.41-.59l7.78-7.78 2.81-2.81c.8-.78.8-2.07 0-2.86zM5.41 20L4 18.59l7.72-7.72 1.47 1.35L5.41 20z\"/>\n",
              "  </svg>\n",
              "      </button>\n",
              "      \n",
              "  <style>\n",
              "    .colab-df-container {\n",
              "      display:flex;\n",
              "      flex-wrap:wrap;\n",
              "      gap: 12px;\n",
              "    }\n",
              "\n",
              "    .colab-df-convert {\n",
              "      background-color: #E8F0FE;\n",
              "      border: none;\n",
              "      border-radius: 50%;\n",
              "      cursor: pointer;\n",
              "      display: none;\n",
              "      fill: #1967D2;\n",
              "      height: 32px;\n",
              "      padding: 0 0 0 0;\n",
              "      width: 32px;\n",
              "    }\n",
              "\n",
              "    .colab-df-convert:hover {\n",
              "      background-color: #E2EBFA;\n",
              "      box-shadow: 0px 1px 2px rgba(60, 64, 67, 0.3), 0px 1px 3px 1px rgba(60, 64, 67, 0.15);\n",
              "      fill: #174EA6;\n",
              "    }\n",
              "\n",
              "    [theme=dark] .colab-df-convert {\n",
              "      background-color: #3B4455;\n",
              "      fill: #D2E3FC;\n",
              "    }\n",
              "\n",
              "    [theme=dark] .colab-df-convert:hover {\n",
              "      background-color: #434B5C;\n",
              "      box-shadow: 0px 1px 3px 1px rgba(0, 0, 0, 0.15);\n",
              "      filter: drop-shadow(0px 1px 2px rgba(0, 0, 0, 0.3));\n",
              "      fill: #FFFFFF;\n",
              "    }\n",
              "  </style>\n",
              "\n",
              "      <script>\n",
              "        const buttonEl =\n",
              "          document.querySelector('#df-6d6558b0-a83e-4ea3-b119-26cdcb1b6401 button.colab-df-convert');\n",
              "        buttonEl.style.display =\n",
              "          google.colab.kernel.accessAllowed ? 'block' : 'none';\n",
              "\n",
              "        async function convertToInteractive(key) {\n",
              "          const element = document.querySelector('#df-6d6558b0-a83e-4ea3-b119-26cdcb1b6401');\n",
              "          const dataTable =\n",
              "            await google.colab.kernel.invokeFunction('convertToInteractive',\n",
              "                                                     [key], {});\n",
              "          if (!dataTable) return;\n",
              "\n",
              "          const docLinkHtml = 'Like what you see? Visit the ' +\n",
              "            '<a target=\"_blank\" href=https://colab.research.google.com/notebooks/data_table.ipynb>data table notebook</a>'\n",
              "            + ' to learn more about interactive tables.';\n",
              "          element.innerHTML = '';\n",
              "          dataTable['output_type'] = 'display_data';\n",
              "          await google.colab.output.renderOutput(dataTable, element);\n",
              "          const docLink = document.createElement('div');\n",
              "          docLink.innerHTML = docLinkHtml;\n",
              "          element.appendChild(docLink);\n",
              "        }\n",
              "      </script>\n",
              "    </div>\n",
              "  </div>\n",
              "  "
            ]
          },
          "metadata": {},
          "execution_count": 19
        }
      ]
    },
    {
      "cell_type": "code",
      "source": [
        "#Tokenized, Mengecilkan huruf dan menghilangkan stop_word pada field clean_text\n",
        "nltk.download('punkt')\n",
        "nltk.download('stopwords')\n",
        "\n",
        "#Referensi: https://www.geeksforgeeks.org/python-nltk-nltk-tokenizer-word_tokenize/\n",
        "dataset['tokenized'] = dataset['clean_text'].apply(word_tokenize)\n",
        "\n",
        "#Referensi: https://www.geeksforgeeks.org/isupper-islower-lower-upper-python-applications/\n",
        "dataset['lower'] = dataset['tokenized'].apply(\n",
        "    lambda x: [word.lower() for word in x])\n",
        "\n",
        "#Referensi: https://www.geeksforgeeks.org/removing-stop-words-nltk-python/\n",
        "dataset['no_stopwords'] = dataset['lower'].apply(\n",
        "    lambda x: [word for word in x if word not in set(nltk.corpus.stopwords.words('english'))])\n",
        "dataset['no_stopwords'] = [' '.join(map(str, l)) for l in dataset['no_stopwords']]\n",
        "\n",
        "\n",
        "dataset.head()"
      ],
      "metadata": {
        "id": "JZF1-45LpLFl",
        "colab": {
          "base_uri": "https://localhost:8080/",
          "height": 0
        },
        "outputId": "2f33eb08-2843-4a15-e25c-3743342258bc"
      },
      "execution_count": 20,
      "outputs": [
        {
          "output_type": "stream",
          "name": "stderr",
          "text": [
            "[nltk_data] Downloading package punkt to /root/nltk_data...\n",
            "[nltk_data]   Unzipping tokenizers/punkt.zip.\n",
            "[nltk_data] Downloading package stopwords to /root/nltk_data...\n",
            "[nltk_data]   Unzipping corpora/stopwords.zip.\n"
          ]
        },
        {
          "output_type": "execute_result",
          "data": {
            "text/plain": [
              "  keyword        location                                               text  \\\n",
              "0  ablaze             NaN  Communal violence in Bhainsa, Telangana. \"Ston...   \n",
              "1  ablaze             NaN  Telangana: Section 144 has been imposed in Bha...   \n",
              "2  ablaze   New York City  Arsonist sets cars ablaze at dealership https:...   \n",
              "3  ablaze  Morgantown, WV  Arsonist sets cars ablaze at dealership https:...   \n",
              "4  ablaze             NaN  \"Lord Jesus, your love brings freedom and pard...   \n",
              "\n",
              "   target                                         clean_text  \\\n",
              "0       1  Communal violence in Bhainsa Telangana Stones ...   \n",
              "1       1  Telangana Section 144 has been imposed in Bhai...   \n",
              "2       1           Arsonist sets cars ablaze at dealership    \n",
              "3       1          Arsonist sets cars ablaze at dealership     \n",
              "4       0  Lord Jesus your love brings freedom and pardon...   \n",
              "\n",
              "                                           tokenized  \\\n",
              "0  [Communal, violence, in, Bhainsa, Telangana, S...   \n",
              "1  [Telangana, Section, 144, has, been, imposed, ...   \n",
              "2     [Arsonist, sets, cars, ablaze, at, dealership]   \n",
              "3     [Arsonist, sets, cars, ablaze, at, dealership]   \n",
              "4  [Lord, Jesus, your, love, brings, freedom, and...   \n",
              "\n",
              "                                               lower  \\\n",
              "0  [communal, violence, in, bhainsa, telangana, s...   \n",
              "1  [telangana, section, 144, has, been, imposed, ...   \n",
              "2     [arsonist, sets, cars, ablaze, at, dealership]   \n",
              "3     [arsonist, sets, cars, ablaze, at, dealership]   \n",
              "4  [lord, jesus, your, love, brings, freedom, and...   \n",
              "\n",
              "                                        no_stopwords  \n",
              "0  communal violence bhainsa telangana stones pel...  \n",
              "1  telangana section 144 imposed bhainsa january ...  \n",
              "2               arsonist sets cars ablaze dealership  \n",
              "3               arsonist sets cars ablaze dealership  \n",
              "4  lord jesus love brings freedom pardon fill hol...  "
            ],
            "text/html": [
              "\n",
              "  <div id=\"df-25c32416-7849-457b-8816-aef798cc1f46\">\n",
              "    <div class=\"colab-df-container\">\n",
              "      <div>\n",
              "<style scoped>\n",
              "    .dataframe tbody tr th:only-of-type {\n",
              "        vertical-align: middle;\n",
              "    }\n",
              "\n",
              "    .dataframe tbody tr th {\n",
              "        vertical-align: top;\n",
              "    }\n",
              "\n",
              "    .dataframe thead th {\n",
              "        text-align: right;\n",
              "    }\n",
              "</style>\n",
              "<table border=\"1\" class=\"dataframe\">\n",
              "  <thead>\n",
              "    <tr style=\"text-align: right;\">\n",
              "      <th></th>\n",
              "      <th>keyword</th>\n",
              "      <th>location</th>\n",
              "      <th>text</th>\n",
              "      <th>target</th>\n",
              "      <th>clean_text</th>\n",
              "      <th>tokenized</th>\n",
              "      <th>lower</th>\n",
              "      <th>no_stopwords</th>\n",
              "    </tr>\n",
              "  </thead>\n",
              "  <tbody>\n",
              "    <tr>\n",
              "      <th>0</th>\n",
              "      <td>ablaze</td>\n",
              "      <td>NaN</td>\n",
              "      <td>Communal violence in Bhainsa, Telangana. \"Ston...</td>\n",
              "      <td>1</td>\n",
              "      <td>Communal violence in Bhainsa Telangana Stones ...</td>\n",
              "      <td>[Communal, violence, in, Bhainsa, Telangana, S...</td>\n",
              "      <td>[communal, violence, in, bhainsa, telangana, s...</td>\n",
              "      <td>communal violence bhainsa telangana stones pel...</td>\n",
              "    </tr>\n",
              "    <tr>\n",
              "      <th>1</th>\n",
              "      <td>ablaze</td>\n",
              "      <td>NaN</td>\n",
              "      <td>Telangana: Section 144 has been imposed in Bha...</td>\n",
              "      <td>1</td>\n",
              "      <td>Telangana Section 144 has been imposed in Bhai...</td>\n",
              "      <td>[Telangana, Section, 144, has, been, imposed, ...</td>\n",
              "      <td>[telangana, section, 144, has, been, imposed, ...</td>\n",
              "      <td>telangana section 144 imposed bhainsa january ...</td>\n",
              "    </tr>\n",
              "    <tr>\n",
              "      <th>2</th>\n",
              "      <td>ablaze</td>\n",
              "      <td>New York City</td>\n",
              "      <td>Arsonist sets cars ablaze at dealership https:...</td>\n",
              "      <td>1</td>\n",
              "      <td>Arsonist sets cars ablaze at dealership</td>\n",
              "      <td>[Arsonist, sets, cars, ablaze, at, dealership]</td>\n",
              "      <td>[arsonist, sets, cars, ablaze, at, dealership]</td>\n",
              "      <td>arsonist sets cars ablaze dealership</td>\n",
              "    </tr>\n",
              "    <tr>\n",
              "      <th>3</th>\n",
              "      <td>ablaze</td>\n",
              "      <td>Morgantown, WV</td>\n",
              "      <td>Arsonist sets cars ablaze at dealership https:...</td>\n",
              "      <td>1</td>\n",
              "      <td>Arsonist sets cars ablaze at dealership</td>\n",
              "      <td>[Arsonist, sets, cars, ablaze, at, dealership]</td>\n",
              "      <td>[arsonist, sets, cars, ablaze, at, dealership]</td>\n",
              "      <td>arsonist sets cars ablaze dealership</td>\n",
              "    </tr>\n",
              "    <tr>\n",
              "      <th>4</th>\n",
              "      <td>ablaze</td>\n",
              "      <td>NaN</td>\n",
              "      <td>\"Lord Jesus, your love brings freedom and pard...</td>\n",
              "      <td>0</td>\n",
              "      <td>Lord Jesus your love brings freedom and pardon...</td>\n",
              "      <td>[Lord, Jesus, your, love, brings, freedom, and...</td>\n",
              "      <td>[lord, jesus, your, love, brings, freedom, and...</td>\n",
              "      <td>lord jesus love brings freedom pardon fill hol...</td>\n",
              "    </tr>\n",
              "  </tbody>\n",
              "</table>\n",
              "</div>\n",
              "      <button class=\"colab-df-convert\" onclick=\"convertToInteractive('df-25c32416-7849-457b-8816-aef798cc1f46')\"\n",
              "              title=\"Convert this dataframe to an interactive table.\"\n",
              "              style=\"display:none;\">\n",
              "        \n",
              "  <svg xmlns=\"http://www.w3.org/2000/svg\" height=\"24px\"viewBox=\"0 0 24 24\"\n",
              "       width=\"24px\">\n",
              "    <path d=\"M0 0h24v24H0V0z\" fill=\"none\"/>\n",
              "    <path d=\"M18.56 5.44l.94 2.06.94-2.06 2.06-.94-2.06-.94-.94-2.06-.94 2.06-2.06.94zm-11 1L8.5 8.5l.94-2.06 2.06-.94-2.06-.94L8.5 2.5l-.94 2.06-2.06.94zm10 10l.94 2.06.94-2.06 2.06-.94-2.06-.94-.94-2.06-.94 2.06-2.06.94z\"/><path d=\"M17.41 7.96l-1.37-1.37c-.4-.4-.92-.59-1.43-.59-.52 0-1.04.2-1.43.59L10.3 9.45l-7.72 7.72c-.78.78-.78 2.05 0 2.83L4 21.41c.39.39.9.59 1.41.59.51 0 1.02-.2 1.41-.59l7.78-7.78 2.81-2.81c.8-.78.8-2.07 0-2.86zM5.41 20L4 18.59l7.72-7.72 1.47 1.35L5.41 20z\"/>\n",
              "  </svg>\n",
              "      </button>\n",
              "      \n",
              "  <style>\n",
              "    .colab-df-container {\n",
              "      display:flex;\n",
              "      flex-wrap:wrap;\n",
              "      gap: 12px;\n",
              "    }\n",
              "\n",
              "    .colab-df-convert {\n",
              "      background-color: #E8F0FE;\n",
              "      border: none;\n",
              "      border-radius: 50%;\n",
              "      cursor: pointer;\n",
              "      display: none;\n",
              "      fill: #1967D2;\n",
              "      height: 32px;\n",
              "      padding: 0 0 0 0;\n",
              "      width: 32px;\n",
              "    }\n",
              "\n",
              "    .colab-df-convert:hover {\n",
              "      background-color: #E2EBFA;\n",
              "      box-shadow: 0px 1px 2px rgba(60, 64, 67, 0.3), 0px 1px 3px 1px rgba(60, 64, 67, 0.15);\n",
              "      fill: #174EA6;\n",
              "    }\n",
              "\n",
              "    [theme=dark] .colab-df-convert {\n",
              "      background-color: #3B4455;\n",
              "      fill: #D2E3FC;\n",
              "    }\n",
              "\n",
              "    [theme=dark] .colab-df-convert:hover {\n",
              "      background-color: #434B5C;\n",
              "      box-shadow: 0px 1px 3px 1px rgba(0, 0, 0, 0.15);\n",
              "      filter: drop-shadow(0px 1px 2px rgba(0, 0, 0, 0.3));\n",
              "      fill: #FFFFFF;\n",
              "    }\n",
              "  </style>\n",
              "\n",
              "      <script>\n",
              "        const buttonEl =\n",
              "          document.querySelector('#df-25c32416-7849-457b-8816-aef798cc1f46 button.colab-df-convert');\n",
              "        buttonEl.style.display =\n",
              "          google.colab.kernel.accessAllowed ? 'block' : 'none';\n",
              "\n",
              "        async function convertToInteractive(key) {\n",
              "          const element = document.querySelector('#df-25c32416-7849-457b-8816-aef798cc1f46');\n",
              "          const dataTable =\n",
              "            await google.colab.kernel.invokeFunction('convertToInteractive',\n",
              "                                                     [key], {});\n",
              "          if (!dataTable) return;\n",
              "\n",
              "          const docLinkHtml = 'Like what you see? Visit the ' +\n",
              "            '<a target=\"_blank\" href=https://colab.research.google.com/notebooks/data_table.ipynb>data table notebook</a>'\n",
              "            + ' to learn more about interactive tables.';\n",
              "          element.innerHTML = '';\n",
              "          dataTable['output_type'] = 'display_data';\n",
              "          await google.colab.output.renderOutput(dataTable, element);\n",
              "          const docLink = document.createElement('div');\n",
              "          docLink.innerHTML = docLinkHtml;\n",
              "          element.appendChild(docLink);\n",
              "        }\n",
              "      </script>\n",
              "    </div>\n",
              "  </div>\n",
              "  "
            ]
          },
          "metadata": {},
          "execution_count": 20
        }
      ]
    },
    {
      "cell_type": "code",
      "source": [
        "#Lemmatization adalah pengubahan kata dengan makna yang sama menjadi satu bentuk karena \n",
        "#komputer akan membacanya sebagai data yang berbeda sehingga proses analisis akan menjadi \n",
        "#lebih sulit. Contohnya, “eat”,  “ate”, “eaten”, “eating” merupakan bentuk dari “eat”, sehingga akan diubah menjadi “eat”.\n",
        "\n",
        "nltk.download('omw-1.4')\n",
        "nltk.download('wordnet')\n",
        "nltk.download('averaged_perceptron_tagger')\n",
        "lemma = WordNetLemmatizer()\n",
        "\n",
        "#Referensi: https://www.machinelearningplus.com/nlp/lemmatization-examples-python/\n",
        "#nltk.pos_tag() mengembalikan tupel dengan tag POS. Kuncinya di sini adalah memetakan tag \n",
        "#POS NLTK ke format yang akan diterima lemmatizer wordnet. Fungsi yang didefinisikan di \n",
        "#bawah ini melakukan pekerjaan pemetaan ini. get_wordnet_pos()\n",
        "def get_wordnet_pos(word):\n",
        "    \"\"\"Map POS tag to first character lemmatize() accepts\"\"\"\n",
        "    tag = nltk.pos_tag([word])[0][1][0].upper()\n",
        "    tag_dict = {\"J\": wordnet.ADJ,\n",
        "                \"N\": wordnet.NOUN,\n",
        "                \"V\": wordnet.VERB,\n",
        "                \"R\": wordnet.ADV}\n",
        "    return tag_dict.get(tag, wordnet.NOUN)\n",
        "\n",
        "#Lemmatize field \"no_stopwords\" dengan POS tag yang sesuai.\n",
        "dataset['lemmatized'] =  dataset['no_stopwords'].apply(\n",
        "    lambda x: [lemma.lemmatize(w, get_wordnet_pos(w)) for w in nltk.word_tokenize(x)])\n",
        "\n",
        "dataset.head()"
      ],
      "metadata": {
        "colab": {
          "base_uri": "https://localhost:8080/",
          "height": 0
        },
        "id": "Sz6nHVoQs-U1",
        "outputId": "fcb14ce5-7bde-4848-be6b-7e35c7578222"
      },
      "execution_count": 21,
      "outputs": [
        {
          "output_type": "stream",
          "name": "stderr",
          "text": [
            "[nltk_data] Downloading package omw-1.4 to /root/nltk_data...\n",
            "[nltk_data] Downloading package wordnet to /root/nltk_data...\n",
            "[nltk_data] Downloading package averaged_perceptron_tagger to\n",
            "[nltk_data]     /root/nltk_data...\n",
            "[nltk_data]   Unzipping taggers/averaged_perceptron_tagger.zip.\n"
          ]
        },
        {
          "output_type": "execute_result",
          "data": {
            "text/plain": [
              "  keyword        location                                               text  \\\n",
              "0  ablaze             NaN  Communal violence in Bhainsa, Telangana. \"Ston...   \n",
              "1  ablaze             NaN  Telangana: Section 144 has been imposed in Bha...   \n",
              "2  ablaze   New York City  Arsonist sets cars ablaze at dealership https:...   \n",
              "3  ablaze  Morgantown, WV  Arsonist sets cars ablaze at dealership https:...   \n",
              "4  ablaze             NaN  \"Lord Jesus, your love brings freedom and pard...   \n",
              "\n",
              "   target                                         clean_text  \\\n",
              "0       1  Communal violence in Bhainsa Telangana Stones ...   \n",
              "1       1  Telangana Section 144 has been imposed in Bhai...   \n",
              "2       1           Arsonist sets cars ablaze at dealership    \n",
              "3       1          Arsonist sets cars ablaze at dealership     \n",
              "4       0  Lord Jesus your love brings freedom and pardon...   \n",
              "\n",
              "                                           tokenized  \\\n",
              "0  [Communal, violence, in, Bhainsa, Telangana, S...   \n",
              "1  [Telangana, Section, 144, has, been, imposed, ...   \n",
              "2     [Arsonist, sets, cars, ablaze, at, dealership]   \n",
              "3     [Arsonist, sets, cars, ablaze, at, dealership]   \n",
              "4  [Lord, Jesus, your, love, brings, freedom, and...   \n",
              "\n",
              "                                               lower  \\\n",
              "0  [communal, violence, in, bhainsa, telangana, s...   \n",
              "1  [telangana, section, 144, has, been, imposed, ...   \n",
              "2     [arsonist, sets, cars, ablaze, at, dealership]   \n",
              "3     [arsonist, sets, cars, ablaze, at, dealership]   \n",
              "4  [lord, jesus, your, love, brings, freedom, and...   \n",
              "\n",
              "                                        no_stopwords  \\\n",
              "0  communal violence bhainsa telangana stones pel...   \n",
              "1  telangana section 144 imposed bhainsa january ...   \n",
              "2               arsonist sets cars ablaze dealership   \n",
              "3               arsonist sets cars ablaze dealership   \n",
              "4  lord jesus love brings freedom pardon fill hol...   \n",
              "\n",
              "                                          lemmatized  \n",
              "0  [communal, violence, bhainsa, telangana, stone...  \n",
              "1  [telangana, section, 144, impose, bhainsa, jan...  \n",
              "2           [arsonist, set, car, ablaze, dealership]  \n",
              "3           [arsonist, set, car, ablaze, dealership]  \n",
              "4  [lord, jesus, love, brings, freedom, pardon, f...  "
            ],
            "text/html": [
              "\n",
              "  <div id=\"df-c388fe74-f24b-4013-ae1a-ed9c9b297850\">\n",
              "    <div class=\"colab-df-container\">\n",
              "      <div>\n",
              "<style scoped>\n",
              "    .dataframe tbody tr th:only-of-type {\n",
              "        vertical-align: middle;\n",
              "    }\n",
              "\n",
              "    .dataframe tbody tr th {\n",
              "        vertical-align: top;\n",
              "    }\n",
              "\n",
              "    .dataframe thead th {\n",
              "        text-align: right;\n",
              "    }\n",
              "</style>\n",
              "<table border=\"1\" class=\"dataframe\">\n",
              "  <thead>\n",
              "    <tr style=\"text-align: right;\">\n",
              "      <th></th>\n",
              "      <th>keyword</th>\n",
              "      <th>location</th>\n",
              "      <th>text</th>\n",
              "      <th>target</th>\n",
              "      <th>clean_text</th>\n",
              "      <th>tokenized</th>\n",
              "      <th>lower</th>\n",
              "      <th>no_stopwords</th>\n",
              "      <th>lemmatized</th>\n",
              "    </tr>\n",
              "  </thead>\n",
              "  <tbody>\n",
              "    <tr>\n",
              "      <th>0</th>\n",
              "      <td>ablaze</td>\n",
              "      <td>NaN</td>\n",
              "      <td>Communal violence in Bhainsa, Telangana. \"Ston...</td>\n",
              "      <td>1</td>\n",
              "      <td>Communal violence in Bhainsa Telangana Stones ...</td>\n",
              "      <td>[Communal, violence, in, Bhainsa, Telangana, S...</td>\n",
              "      <td>[communal, violence, in, bhainsa, telangana, s...</td>\n",
              "      <td>communal violence bhainsa telangana stones pel...</td>\n",
              "      <td>[communal, violence, bhainsa, telangana, stone...</td>\n",
              "    </tr>\n",
              "    <tr>\n",
              "      <th>1</th>\n",
              "      <td>ablaze</td>\n",
              "      <td>NaN</td>\n",
              "      <td>Telangana: Section 144 has been imposed in Bha...</td>\n",
              "      <td>1</td>\n",
              "      <td>Telangana Section 144 has been imposed in Bhai...</td>\n",
              "      <td>[Telangana, Section, 144, has, been, imposed, ...</td>\n",
              "      <td>[telangana, section, 144, has, been, imposed, ...</td>\n",
              "      <td>telangana section 144 imposed bhainsa january ...</td>\n",
              "      <td>[telangana, section, 144, impose, bhainsa, jan...</td>\n",
              "    </tr>\n",
              "    <tr>\n",
              "      <th>2</th>\n",
              "      <td>ablaze</td>\n",
              "      <td>New York City</td>\n",
              "      <td>Arsonist sets cars ablaze at dealership https:...</td>\n",
              "      <td>1</td>\n",
              "      <td>Arsonist sets cars ablaze at dealership</td>\n",
              "      <td>[Arsonist, sets, cars, ablaze, at, dealership]</td>\n",
              "      <td>[arsonist, sets, cars, ablaze, at, dealership]</td>\n",
              "      <td>arsonist sets cars ablaze dealership</td>\n",
              "      <td>[arsonist, set, car, ablaze, dealership]</td>\n",
              "    </tr>\n",
              "    <tr>\n",
              "      <th>3</th>\n",
              "      <td>ablaze</td>\n",
              "      <td>Morgantown, WV</td>\n",
              "      <td>Arsonist sets cars ablaze at dealership https:...</td>\n",
              "      <td>1</td>\n",
              "      <td>Arsonist sets cars ablaze at dealership</td>\n",
              "      <td>[Arsonist, sets, cars, ablaze, at, dealership]</td>\n",
              "      <td>[arsonist, sets, cars, ablaze, at, dealership]</td>\n",
              "      <td>arsonist sets cars ablaze dealership</td>\n",
              "      <td>[arsonist, set, car, ablaze, dealership]</td>\n",
              "    </tr>\n",
              "    <tr>\n",
              "      <th>4</th>\n",
              "      <td>ablaze</td>\n",
              "      <td>NaN</td>\n",
              "      <td>\"Lord Jesus, your love brings freedom and pard...</td>\n",
              "      <td>0</td>\n",
              "      <td>Lord Jesus your love brings freedom and pardon...</td>\n",
              "      <td>[Lord, Jesus, your, love, brings, freedom, and...</td>\n",
              "      <td>[lord, jesus, your, love, brings, freedom, and...</td>\n",
              "      <td>lord jesus love brings freedom pardon fill hol...</td>\n",
              "      <td>[lord, jesus, love, brings, freedom, pardon, f...</td>\n",
              "    </tr>\n",
              "  </tbody>\n",
              "</table>\n",
              "</div>\n",
              "      <button class=\"colab-df-convert\" onclick=\"convertToInteractive('df-c388fe74-f24b-4013-ae1a-ed9c9b297850')\"\n",
              "              title=\"Convert this dataframe to an interactive table.\"\n",
              "              style=\"display:none;\">\n",
              "        \n",
              "  <svg xmlns=\"http://www.w3.org/2000/svg\" height=\"24px\"viewBox=\"0 0 24 24\"\n",
              "       width=\"24px\">\n",
              "    <path d=\"M0 0h24v24H0V0z\" fill=\"none\"/>\n",
              "    <path d=\"M18.56 5.44l.94 2.06.94-2.06 2.06-.94-2.06-.94-.94-2.06-.94 2.06-2.06.94zm-11 1L8.5 8.5l.94-2.06 2.06-.94-2.06-.94L8.5 2.5l-.94 2.06-2.06.94zm10 10l.94 2.06.94-2.06 2.06-.94-2.06-.94-.94-2.06-.94 2.06-2.06.94z\"/><path d=\"M17.41 7.96l-1.37-1.37c-.4-.4-.92-.59-1.43-.59-.52 0-1.04.2-1.43.59L10.3 9.45l-7.72 7.72c-.78.78-.78 2.05 0 2.83L4 21.41c.39.39.9.59 1.41.59.51 0 1.02-.2 1.41-.59l7.78-7.78 2.81-2.81c.8-.78.8-2.07 0-2.86zM5.41 20L4 18.59l7.72-7.72 1.47 1.35L5.41 20z\"/>\n",
              "  </svg>\n",
              "      </button>\n",
              "      \n",
              "  <style>\n",
              "    .colab-df-container {\n",
              "      display:flex;\n",
              "      flex-wrap:wrap;\n",
              "      gap: 12px;\n",
              "    }\n",
              "\n",
              "    .colab-df-convert {\n",
              "      background-color: #E8F0FE;\n",
              "      border: none;\n",
              "      border-radius: 50%;\n",
              "      cursor: pointer;\n",
              "      display: none;\n",
              "      fill: #1967D2;\n",
              "      height: 32px;\n",
              "      padding: 0 0 0 0;\n",
              "      width: 32px;\n",
              "    }\n",
              "\n",
              "    .colab-df-convert:hover {\n",
              "      background-color: #E2EBFA;\n",
              "      box-shadow: 0px 1px 2px rgba(60, 64, 67, 0.3), 0px 1px 3px 1px rgba(60, 64, 67, 0.15);\n",
              "      fill: #174EA6;\n",
              "    }\n",
              "\n",
              "    [theme=dark] .colab-df-convert {\n",
              "      background-color: #3B4455;\n",
              "      fill: #D2E3FC;\n",
              "    }\n",
              "\n",
              "    [theme=dark] .colab-df-convert:hover {\n",
              "      background-color: #434B5C;\n",
              "      box-shadow: 0px 1px 3px 1px rgba(0, 0, 0, 0.15);\n",
              "      filter: drop-shadow(0px 1px 2px rgba(0, 0, 0, 0.3));\n",
              "      fill: #FFFFFF;\n",
              "    }\n",
              "  </style>\n",
              "\n",
              "      <script>\n",
              "        const buttonEl =\n",
              "          document.querySelector('#df-c388fe74-f24b-4013-ae1a-ed9c9b297850 button.colab-df-convert');\n",
              "        buttonEl.style.display =\n",
              "          google.colab.kernel.accessAllowed ? 'block' : 'none';\n",
              "\n",
              "        async function convertToInteractive(key) {\n",
              "          const element = document.querySelector('#df-c388fe74-f24b-4013-ae1a-ed9c9b297850');\n",
              "          const dataTable =\n",
              "            await google.colab.kernel.invokeFunction('convertToInteractive',\n",
              "                                                     [key], {});\n",
              "          if (!dataTable) return;\n",
              "\n",
              "          const docLinkHtml = 'Like what you see? Visit the ' +\n",
              "            '<a target=\"_blank\" href=https://colab.research.google.com/notebooks/data_table.ipynb>data table notebook</a>'\n",
              "            + ' to learn more about interactive tables.';\n",
              "          element.innerHTML = '';\n",
              "          dataTable['output_type'] = 'display_data';\n",
              "          await google.colab.output.renderOutput(dataTable, element);\n",
              "          const docLink = document.createElement('div');\n",
              "          docLink.innerHTML = docLinkHtml;\n",
              "          element.appendChild(docLink);\n",
              "        }\n",
              "      </script>\n",
              "    </div>\n",
              "  </div>\n",
              "  "
            ]
          },
          "metadata": {},
          "execution_count": 21
        }
      ]
    },
    {
      "cell_type": "code",
      "source": [
        "#Menghapus data duplikat\n",
        "print(\"Shape awal:\", dataset.shape)\n",
        "\n",
        "#Referensi: https://pandas.pydata.org/docs/reference/api/pandas.DataFrame.drop_duplicates.html\n",
        "dataset.drop_duplicates(subset =\"clean_text\",inplace = True)\n",
        "\n",
        "print(\"Shape akhir:\", dataset.shape)"
      ],
      "metadata": {
        "colab": {
          "base_uri": "https://localhost:8080/"
        },
        "id": "kNkDcfNfub4F",
        "outputId": "a9b43fa7-d7eb-4cfa-818f-7e619f69d0f9"
      },
      "execution_count": 22,
      "outputs": [
        {
          "output_type": "stream",
          "name": "stdout",
          "text": [
            "Shape awal: (11370, 9)\n",
            "Shape akhir: (10999, 9)\n"
          ]
        }
      ]
    },
    {
      "cell_type": "markdown",
      "source": [
        "# Split Dataset"
      ],
      "metadata": {
        "id": "riuWsKIdtz-k"
      }
    },
    {
      "cell_type": "code",
      "source": [
        "#Dataset akan dibagi menjadi 3, yaitu dataset train, test dan validation.\n",
        "#dataset diambil dari field lemmatized.\n",
        "X = dataset['lemmatized']\n",
        "y = dataset['target']\n",
        "\n",
        "#Awalnya dataset \"lemmatized\" akan dibagi menjadi 80% untuk dataset train dan 20% untuk dataset Test.\n",
        "X_train, X_rem, y_train, y_rem  = train_test_split(\n",
        "    X, \n",
        "    y, \n",
        "    stratify = y, \n",
        "    test_size = 0.2, \n",
        "    random_state = 321\n",
        ")\n",
        "\n",
        "#Kemudian 20% dataset dibagi sama rata kembali untuk dataset Test dan Validation.\n",
        "X_test, X_val, y_test, y_val = train_test_split(\n",
        "     X_rem, \n",
        "     y_rem, \n",
        "     stratify = y_rem, \n",
        "     test_size = 0.5, \n",
        "     random_state = 321)\n",
        "\n",
        "\n",
        "print('Train Set: ', X_train.shape, y_train.shape)\n",
        "print('Test Set: ', X_test.shape, y_test.shape)\n",
        "print('Validation Set: ', X_val.shape, y_val.shape)"
      ],
      "metadata": {
        "id": "mBHHdUY9t3HT",
        "colab": {
          "base_uri": "https://localhost:8080/"
        },
        "outputId": "74080343-046e-49d8-a5d0-cfb85f9ff9a4"
      },
      "execution_count": 23,
      "outputs": [
        {
          "output_type": "stream",
          "name": "stdout",
          "text": [
            "Train Set:  (8799,) (8799,)\n",
            "Test Set:  (1100,) (1100,)\n",
            "Validation Set:  (1100,) (1100,)\n"
          ]
        }
      ]
    },
    {
      "cell_type": "markdown",
      "source": [
        "# Word Embedding"
      ],
      "metadata": {
        "id": "c11mEh6GpLyD"
      }
    },
    {
      "cell_type": "code",
      "source": [
        "# Tokenize words\n",
        "# Referensi: https://www.tensorflow.org/api_docs/python/tf/keras/preprocessing/text/Tokenizer\n",
        "tokenizer = Tokenizer()\n",
        "\n",
        "#Data validasi (X_test) tidak di tokenize untuk dapat mensimulasikan real world. Sehingga data X_test tidak masuk ke dalam kamus.\n",
        "tokenizer.fit_on_texts(pd.concat([X_train, X_val], axis=0))\n",
        "\n",
        "#mengubah token korpus teks menjadi urutan bilangan integer\n",
        "sequences_train = tokenizer.texts_to_sequences(X_train)\n",
        "sequences_test = tokenizer.texts_to_sequences(X_test)\n",
        "sequences_val = tokenizer.texts_to_sequences(X_val)\n",
        "\n",
        "#digunakan untuk memastikan bahwa semua urutan dalam daftar memiliki panjang yang sama\n",
        "X_train = pad_sequences(sequences_train, maxlen=256, truncating='pre')\n",
        "X_test = pad_sequences(sequences_test, maxlen=256, truncating='pre')\n",
        "X_val = pad_sequences(sequences_val, maxlen=256, truncating='pre')\n",
        "\n",
        "#Menghitung Ukuran kosakata\n",
        "vocabSize = len(tokenizer.index_word) + 1\n",
        "\n",
        "print(f\"Vocabulary size = {vocabSize}\")"
      ],
      "metadata": {
        "colab": {
          "base_uri": "https://localhost:8080/"
        },
        "id": "OehL9K80vWZd",
        "outputId": "f9cc032e-52f5-4162-a256-251cd14edf7e"
      },
      "execution_count": 24,
      "outputs": [
        {
          "output_type": "stream",
          "name": "stdout",
          "text": [
            "Vocabulary size = 19775\n"
          ]
        }
      ]
    },
    {
      "cell_type": "code",
      "source": [
        "#Menyiapkan pre-trained word vectors GLove\n",
        "#Referensi: https://nlp.stanford.edu/projects/glove/\n",
        "embeddings_index = {}\n",
        "embedding_dim = 300\n",
        "hits = 0\n",
        "misses = 0\n",
        "num_tokens = vocabSize\n",
        "\n",
        "# Read word vectors\n",
        "with open('/content/drive/MyDrive/SOSMED_4/glove.6B.300d.txt') as f:\n",
        "    for line in f:\n",
        "        word, coefs = line.split(maxsplit=1)\n",
        "        coefs = np.fromstring(coefs, \"f\", sep=\" \")\n",
        "        embeddings_index[word] = coefs\n",
        "print(\"Found %s word vectors.\" % len(embeddings_index))\n",
        "\n",
        "\n",
        "# Assign word vectors to our dictionary/vocabulary\n",
        "embedding_matrix = np.zeros((num_tokens, embedding_dim))\n",
        "for word, i in tokenizer.word_index.items():\n",
        "    embedding_vector = embeddings_index.get(word)\n",
        "    if embedding_vector is not None:\n",
        "        # Words not found in embedding index will be all-zeros.\n",
        "        # This includes the representation for \"padding\" and \"OOV\"\n",
        "        embedding_matrix[i] = embedding_vector\n",
        "        hits += 1\n",
        "    else:\n",
        "        misses += 1\n",
        "\n",
        "        \n",
        "print(\"Converted %d words (%d misses)\" % (hits, misses))"
      ],
      "metadata": {
        "id": "v8efRsc1qj3I",
        "colab": {
          "base_uri": "https://localhost:8080/"
        },
        "outputId": "e02f9370-1d48-4c65-c1b1-3e96f76698b2"
      },
      "execution_count": 25,
      "outputs": [
        {
          "output_type": "stream",
          "name": "stdout",
          "text": [
            "Found 400001 word vectors.\n",
            "Converted 13045 words (6729 misses)\n"
          ]
        }
      ]
    },
    {
      "cell_type": "markdown",
      "source": [
        "# Modeling"
      ],
      "metadata": {
        "id": "WHVzsuwdpTT6"
      }
    },
    {
      "cell_type": "code",
      "source": [
        "#Membuat callbback untuk menghinadari overfitting\n",
        "#Referensi: https://www.tensorflow.org/api_docs/python/tf/keras/callbacks/EarlyStopping\n",
        "#Memonitor nilai  \"val_loss\" dan epochs  yang tidak ada peningkatan sebanyak 2 kali. Dan menggunakan nilai epch dengan hasil terbaik.\n",
        "early_stopping = EarlyStopping(\n",
        "    monitor=\"val_loss\",\n",
        "    patience=5,\n",
        "    mode=\"auto\",\n",
        "    restore_best_weights=True,\n",
        ")\n",
        "\n",
        "#Merekam waktu yang dibutuhkan oleh setiap epoch untuk membandingkan model nantinya.\n",
        "#Referensi: https://stackoverflow.com/questions/43178668/record-the-computation-time-for-each-epoch-in-keras-during-model-fit\n",
        "class TimeHistory(Callback):\n",
        "    def on_train_begin(self, logs={}):\n",
        "        self.times = []\n",
        "\n",
        "    def on_epoch_begin(self, epoch, logs={}):\n",
        "        self.epoch_time_start = time.time()\n",
        "\n",
        "    def on_epoch_end(self, epoch, logs={}):\n",
        "        self.times.append(time.time() - self.epoch_time_start)\n"
      ],
      "metadata": {
        "id": "o0-vWEeqmeE0"
      },
      "execution_count": 26,
      "outputs": []
    },
    {
      "cell_type": "markdown",
      "source": [
        "## Training & Evaluation (SGD, LSTM) ModelA\n",
        "\n",
        "\n"
      ],
      "metadata": {
        "id": "RQQ_0rBaperl"
      }
    },
    {
      "cell_type": "code",
      "source": [
        "modelA = Sequential([\n",
        "  Embedding(\n",
        "      vocabSize, \n",
        "      embedding_dim, \n",
        "      input_length=256, \n",
        "      embeddings_initializer=Constant(embedding_matrix), \n",
        "      trainable=False\n",
        "      ),\n",
        "  SpatialDropout1D(0.2),\n",
        "  LSTM(128, dropout=0.3, recurrent_dropout=0.2),\n",
        "  BatchNormalization(),\n",
        "  Dense(64, activation='relu'),\n",
        "  Dropout(0.3),\n",
        "  Dense(1, activation='sigmoid')                \n",
        "])\n",
        "optimizerA = SGD(learning_rate=0.0001, momentum=0.9)\n",
        "modelA.compile(loss='binary_crossentropy', \n",
        "              optimizer=optimizerA, \n",
        "              metrics=['accuracy'])\n",
        "modelA.summary()"
      ],
      "metadata": {
        "id": "gpxyxtJdpc6E",
        "colab": {
          "base_uri": "https://localhost:8080/"
        },
        "outputId": "9c0c2448-70b2-470f-dad6-c32c6c8f894f"
      },
      "execution_count": 27,
      "outputs": [
        {
          "output_type": "stream",
          "name": "stdout",
          "text": [
            "WARNING:tensorflow:Layer lstm will not use cuDNN kernels since it doesn't meet the criteria. It will use a generic GPU kernel as fallback when running on GPU.\n",
            "Model: \"sequential\"\n",
            "_________________________________________________________________\n",
            " Layer (type)                Output Shape              Param #   \n",
            "=================================================================\n",
            " embedding (Embedding)       (None, 256, 300)          5932500   \n",
            "                                                                 \n",
            " spatial_dropout1d (SpatialD  (None, 256, 300)         0         \n",
            " ropout1D)                                                       \n",
            "                                                                 \n",
            " lstm (LSTM)                 (None, 128)               219648    \n",
            "                                                                 \n",
            " batch_normalization (BatchN  (None, 128)              512       \n",
            " ormalization)                                                   \n",
            "                                                                 \n",
            " dense (Dense)               (None, 64)                8256      \n",
            "                                                                 \n",
            " dropout (Dropout)           (None, 64)                0         \n",
            "                                                                 \n",
            " dense_1 (Dense)             (None, 1)                 65        \n",
            "                                                                 \n",
            "=================================================================\n",
            "Total params: 6,160,981\n",
            "Trainable params: 228,225\n",
            "Non-trainable params: 5,932,756\n",
            "_________________________________________________________________\n"
          ]
        }
      ]
    },
    {
      "cell_type": "code",
      "source": [
        "#Merekam Waktu yang dibutuhkan dan Melakukan Fit Model dengan dataset train dan validasi\n",
        "time_callbackA = TimeHistory()\n",
        "historyA = modelA.fit(X_train, y_train, batch_size=256, epochs=20, validation_data=(X_val, y_val),verbose=2,callbacks=[early_stopping, time_callbackA])"
      ],
      "metadata": {
        "colab": {
          "base_uri": "https://localhost:8080/"
        },
        "id": "cChHJmo4smJR",
        "outputId": "342e98ae-c7f4-4896-876c-b3112837068a"
      },
      "execution_count": 28,
      "outputs": [
        {
          "output_type": "stream",
          "name": "stdout",
          "text": [
            "Epoch 1/20\n",
            "35/35 - 40s - loss: 0.6757 - accuracy: 0.6330 - val_loss: 0.6427 - val_accuracy: 0.8009 - 40s/epoch - 1s/step\n",
            "Epoch 2/20\n",
            "35/35 - 38s - loss: 0.6427 - accuracy: 0.6628 - val_loss: 0.6334 - val_accuracy: 0.8000 - 38s/epoch - 1s/step\n",
            "Epoch 3/20\n",
            "35/35 - 40s - loss: 0.6086 - accuracy: 0.6901 - val_loss: 0.6221 - val_accuracy: 0.8064 - 40s/epoch - 1s/step\n",
            "Epoch 4/20\n",
            "35/35 - 33s - loss: 0.5988 - accuracy: 0.7020 - val_loss: 0.6095 - val_accuracy: 0.8045 - 33s/epoch - 933ms/step\n",
            "Epoch 5/20\n",
            "35/35 - 35s - loss: 0.5766 - accuracy: 0.7185 - val_loss: 0.5945 - val_accuracy: 0.8045 - 35s/epoch - 995ms/step\n",
            "Epoch 6/20\n",
            "35/35 - 40s - loss: 0.5657 - accuracy: 0.7311 - val_loss: 0.5782 - val_accuracy: 0.8100 - 40s/epoch - 1s/step\n",
            "Epoch 7/20\n",
            "35/35 - 33s - loss: 0.5536 - accuracy: 0.7411 - val_loss: 0.5605 - val_accuracy: 0.8118 - 33s/epoch - 952ms/step\n",
            "Epoch 8/20\n",
            "35/35 - 33s - loss: 0.5428 - accuracy: 0.7485 - val_loss: 0.5423 - val_accuracy: 0.8145 - 33s/epoch - 952ms/step\n",
            "Epoch 9/20\n",
            "35/35 - 33s - loss: 0.5277 - accuracy: 0.7588 - val_loss: 0.5242 - val_accuracy: 0.8164 - 33s/epoch - 951ms/step\n",
            "Epoch 10/20\n",
            "35/35 - 33s - loss: 0.5218 - accuracy: 0.7700 - val_loss: 0.5075 - val_accuracy: 0.8182 - 33s/epoch - 950ms/step\n",
            "Epoch 11/20\n",
            "35/35 - 33s - loss: 0.5145 - accuracy: 0.7655 - val_loss: 0.4917 - val_accuracy: 0.8182 - 33s/epoch - 956ms/step\n",
            "Epoch 12/20\n",
            "35/35 - 33s - loss: 0.5066 - accuracy: 0.7735 - val_loss: 0.4777 - val_accuracy: 0.8191 - 33s/epoch - 956ms/step\n",
            "Epoch 13/20\n",
            "35/35 - 33s - loss: 0.5061 - accuracy: 0.7816 - val_loss: 0.4658 - val_accuracy: 0.8209 - 33s/epoch - 938ms/step\n",
            "Epoch 14/20\n",
            "35/35 - 33s - loss: 0.4942 - accuracy: 0.7862 - val_loss: 0.4557 - val_accuracy: 0.8209 - 33s/epoch - 942ms/step\n",
            "Epoch 15/20\n",
            "35/35 - 33s - loss: 0.4986 - accuracy: 0.7880 - val_loss: 0.4471 - val_accuracy: 0.8209 - 33s/epoch - 938ms/step\n",
            "Epoch 16/20\n",
            "35/35 - 33s - loss: 0.4960 - accuracy: 0.7915 - val_loss: 0.4407 - val_accuracy: 0.8218 - 33s/epoch - 939ms/step\n",
            "Epoch 17/20\n",
            "35/35 - 33s - loss: 0.4878 - accuracy: 0.7909 - val_loss: 0.4346 - val_accuracy: 0.8227 - 33s/epoch - 930ms/step\n",
            "Epoch 18/20\n",
            "35/35 - 33s - loss: 0.4903 - accuracy: 0.7928 - val_loss: 0.4303 - val_accuracy: 0.8227 - 33s/epoch - 939ms/step\n",
            "Epoch 19/20\n",
            "35/35 - 32s - loss: 0.4766 - accuracy: 0.7983 - val_loss: 0.4265 - val_accuracy: 0.8209 - 32s/epoch - 927ms/step\n",
            "Epoch 20/20\n",
            "35/35 - 33s - loss: 0.4688 - accuracy: 0.8030 - val_loss: 0.4232 - val_accuracy: 0.8227 - 33s/epoch - 931ms/step\n"
          ]
        }
      ]
    },
    {
      "cell_type": "code",
      "source": [
        "#Menghitung total dan rerata waktu yang dibutuhkan proses fit.\n",
        "rerataWaktuA = mean(time_callbackA.times)\n",
        "totalWaktuA = sum(time_callbackA.times)\n",
        "\n",
        "print(\"Rerata Waktu =\", round(rerataWaktuA, 2), 'detik')\n",
        "print(\"Total Waktu =\", round(totalWaktuA, 2), 'detik')"
      ],
      "metadata": {
        "colab": {
          "base_uri": "https://localhost:8080/"
        },
        "id": "9hVeXipUu4aw",
        "outputId": "cb02bbfc-4627-4efc-9770-12bc83add41a"
      },
      "execution_count": 29,
      "outputs": [
        {
          "output_type": "stream",
          "name": "stdout",
          "text": [
            "Rerata Waktu = 34.41 detik\n",
            "Total Waktu = 688.11 detik\n"
          ]
        }
      ]
    },
    {
      "cell_type": "code",
      "source": [
        "#Menguji Model dengan dataset test.\n",
        "AccModelA = modelA.evaluate(X_test, y_test, verbose=1)"
      ],
      "metadata": {
        "id": "RHBvOltKzfbl",
        "colab": {
          "base_uri": "https://localhost:8080/"
        },
        "outputId": "86e4e2d5-78fd-4269-e7ac-4d5ef13f67ae"
      },
      "execution_count": 54,
      "outputs": [
        {
          "output_type": "stream",
          "name": "stdout",
          "text": [
            "35/35 [==============================] - 3s 90ms/step - loss: 0.4376 - accuracy: 0.8300\n"
          ]
        }
      ]
    },
    {
      "cell_type": "markdown",
      "source": [
        "## Training & Evaluation (LSTM, Bidirectional, ADAM) ModelB"
      ],
      "metadata": {
        "id": "1TfRlxAQD9o0"
      }
    },
    {
      "cell_type": "code",
      "source": [
        "modelB = Sequential([\n",
        "    Embedding(\n",
        "        num_tokens, \n",
        "        embedding_dim,\n",
        "        input_length=256,\n",
        "        embeddings_initializer=Constant(embedding_matrix),\n",
        "        trainable=False \n",
        "        ),\n",
        "    Conv1D(filters=1024, kernel_size=3,\n",
        "                      strides=1, padding=\"causal\",\n",
        "                      activation=\"relu\"),\n",
        "    Dropout(0.3),\n",
        "    Bidirectional(LSTM(1024, return_sequences = True)),\n",
        "    Dropout(0.3),\n",
        "    Bidirectional(LSTM(512)),\n",
        "    Dropout(0.3),\n",
        "    Dense(1024, activation='relu'),\n",
        "    Dropout(0.3),\n",
        "    Dense(1, activation='sigmoid')\n",
        "])\n",
        "\n",
        "optimizerADAM = Adam(learning_rate=1e-4)\n",
        "\n",
        "modelB.compile(loss='binary_crossentropy', \n",
        "              optimizer=optimizerADAM, \n",
        "              metrics=['accuracy'])\n",
        "modelB.summary()"
      ],
      "metadata": {
        "colab": {
          "base_uri": "https://localhost:8080/"
        },
        "id": "EDQkcYYpEEbt",
        "outputId": "b0eac203-69be-4258-90c3-b5b5713252d8"
      },
      "execution_count": 31,
      "outputs": [
        {
          "output_type": "stream",
          "name": "stdout",
          "text": [
            "Model: \"sequential_1\"\n",
            "_________________________________________________________________\n",
            " Layer (type)                Output Shape              Param #   \n",
            "=================================================================\n",
            " embedding_1 (Embedding)     (None, 256, 300)          5932500   \n",
            "                                                                 \n",
            " conv1d (Conv1D)             (None, 256, 1024)         922624    \n",
            "                                                                 \n",
            " dropout_1 (Dropout)         (None, 256, 1024)         0         \n",
            "                                                                 \n",
            " bidirectional (Bidirectiona  (None, 256, 2048)        16785408  \n",
            " l)                                                              \n",
            "                                                                 \n",
            " dropout_2 (Dropout)         (None, 256, 2048)         0         \n",
            "                                                                 \n",
            " bidirectional_1 (Bidirectio  (None, 1024)             10489856  \n",
            " nal)                                                            \n",
            "                                                                 \n",
            " dropout_3 (Dropout)         (None, 1024)              0         \n",
            "                                                                 \n",
            " dense_2 (Dense)             (None, 1024)              1049600   \n",
            "                                                                 \n",
            " dropout_4 (Dropout)         (None, 1024)              0         \n",
            "                                                                 \n",
            " dense_3 (Dense)             (None, 1)                 1025      \n",
            "                                                                 \n",
            "=================================================================\n",
            "Total params: 35,181,013\n",
            "Trainable params: 29,248,513\n",
            "Non-trainable params: 5,932,500\n",
            "_________________________________________________________________\n"
          ]
        }
      ]
    },
    {
      "cell_type": "code",
      "source": [
        "#Merekam Waktu yang dibutuhkan dan Melakukan Fit Model dengan dataset train dan validasi\n",
        "time_callbackB = TimeHistory()\n",
        "historyB = modelB.fit(X_train, y_train, batch_size=256, epochs=20, validation_data=(X_val, y_val), verbose=2, callbacks=[early_stopping, time_callbackB])"
      ],
      "metadata": {
        "colab": {
          "base_uri": "https://localhost:8080/"
        },
        "id": "C_9KDgb2EGQ3",
        "outputId": "3ff239c1-2b73-422e-ee5e-5a94f2b5d606"
      },
      "execution_count": 32,
      "outputs": [
        {
          "output_type": "stream",
          "name": "stdout",
          "text": [
            "Epoch 1/20\n",
            "35/35 - 131s - loss: 0.4601 - accuracy: 0.8145 - val_loss: 0.3467 - val_accuracy: 0.8609 - 131s/epoch - 4s/step\n",
            "Epoch 2/20\n",
            "35/35 - 112s - loss: 0.3207 - accuracy: 0.8662 - val_loss: 0.3063 - val_accuracy: 0.8645 - 112s/epoch - 3s/step\n",
            "Epoch 3/20\n",
            "35/35 - 112s - loss: 0.2980 - accuracy: 0.8784 - val_loss: 0.3081 - val_accuracy: 0.8636 - 112s/epoch - 3s/step\n",
            "Epoch 4/20\n",
            "35/35 - 112s - loss: 0.2741 - accuracy: 0.8884 - val_loss: 0.2995 - val_accuracy: 0.8727 - 112s/epoch - 3s/step\n",
            "Epoch 5/20\n",
            "35/35 - 112s - loss: 0.2483 - accuracy: 0.8998 - val_loss: 0.3069 - val_accuracy: 0.8655 - 112s/epoch - 3s/step\n",
            "Epoch 6/20\n",
            "35/35 - 112s - loss: 0.2201 - accuracy: 0.9139 - val_loss: 0.3254 - val_accuracy: 0.8764 - 112s/epoch - 3s/step\n",
            "Epoch 7/20\n",
            "35/35 - 112s - loss: 0.1896 - accuracy: 0.9273 - val_loss: 0.3605 - val_accuracy: 0.8845 - 112s/epoch - 3s/step\n",
            "Epoch 8/20\n",
            "35/35 - 112s - loss: 0.1534 - accuracy: 0.9399 - val_loss: 0.3706 - val_accuracy: 0.8873 - 112s/epoch - 3s/step\n",
            "Epoch 9/20\n",
            "35/35 - 112s - loss: 0.1022 - accuracy: 0.9651 - val_loss: 0.3770 - val_accuracy: 0.8873 - 112s/epoch - 3s/step\n"
          ]
        }
      ]
    },
    {
      "cell_type": "code",
      "source": [
        "#Menghitung total dan rerata waktu yang dibutuhkan proses fit.\n",
        "rerataWaktuB = mean(time_callbackB.times)\n",
        "totalWaktuB = sum(time_callbackB.times)\n",
        "\n",
        "print(\"Rerata Waktu =\", round(rerataWaktuB, 2), 'detik')\n",
        "print(\"Total Waktu =\", round(totalWaktuB, 2), 'detik')"
      ],
      "metadata": {
        "colab": {
          "base_uri": "https://localhost:8080/"
        },
        "id": "0zNehhzX02ao",
        "outputId": "9267ca67-778e-41d4-e963-1ed62d2fc9ef"
      },
      "execution_count": 33,
      "outputs": [
        {
          "output_type": "stream",
          "name": "stdout",
          "text": [
            "Rerata Waktu = 114.13 detik\n",
            "Total Waktu = 1027.17 detik\n"
          ]
        }
      ]
    },
    {
      "cell_type": "code",
      "source": [
        "#Menguji Model dengan dataset test.\n",
        "AccModelB = modelB.evaluate(X_test, y_test, verbose=1)"
      ],
      "metadata": {
        "colab": {
          "base_uri": "https://localhost:8080/"
        },
        "id": "jeSuKTDGEImz",
        "outputId": "8b6a5e69-f4ff-4a82-ceec-e7f312dcb1f7"
      },
      "execution_count": 34,
      "outputs": [
        {
          "output_type": "stream",
          "name": "stdout",
          "text": [
            "35/35 [==============================] - 6s 156ms/step - loss: 0.3117 - accuracy: 0.8845\n"
          ]
        }
      ]
    },
    {
      "cell_type": "markdown",
      "source": [
        "##Training & Evaluation (LSTM, ADAM) ModelC"
      ],
      "metadata": {
        "id": "yszImSZZkFVm"
      }
    },
    {
      "cell_type": "code",
      "source": [
        "modelC = Sequential([\n",
        "  Embedding(\n",
        "        num_tokens, \n",
        "        embedding_dim,\n",
        "        input_length=256,\n",
        "        embeddings_initializer=Constant(embedding_matrix),\n",
        "        trainable=False \n",
        "        ),\n",
        "  LSTM(embedding_dim, return_sequences=True),\n",
        "  Dropout(0.25),\n",
        "  LSTM(embedding_dim),\n",
        "  Dropout(0.25),\n",
        "  Dense(embedding_dim, activation=\"relu\"),\n",
        "  Dropout(0.5),\n",
        "  Dense(1, activation='sigmoid')\n",
        "])\n",
        "\n",
        "modelC.compile(loss='binary_crossentropy', \n",
        "              optimizer= Adam(learning_rate=0.001), \n",
        "              metrics=['accuracy'])\n",
        "modelC.summary()"
      ],
      "metadata": {
        "colab": {
          "base_uri": "https://localhost:8080/"
        },
        "id": "y0xGfmBZkKbT",
        "outputId": "0c92b52a-f608-4662-c379-51d2c87c9d2c"
      },
      "execution_count": 35,
      "outputs": [
        {
          "output_type": "stream",
          "name": "stdout",
          "text": [
            "Model: \"sequential_2\"\n",
            "_________________________________________________________________\n",
            " Layer (type)                Output Shape              Param #   \n",
            "=================================================================\n",
            " embedding_2 (Embedding)     (None, 256, 300)          5932500   \n",
            "                                                                 \n",
            " lstm_3 (LSTM)               (None, 256, 300)          721200    \n",
            "                                                                 \n",
            " dropout_5 (Dropout)         (None, 256, 300)          0         \n",
            "                                                                 \n",
            " lstm_4 (LSTM)               (None, 300)               721200    \n",
            "                                                                 \n",
            " dropout_6 (Dropout)         (None, 300)               0         \n",
            "                                                                 \n",
            " dense_4 (Dense)             (None, 300)               90300     \n",
            "                                                                 \n",
            " dropout_7 (Dropout)         (None, 300)               0         \n",
            "                                                                 \n",
            " dense_5 (Dense)             (None, 1)                 301       \n",
            "                                                                 \n",
            "=================================================================\n",
            "Total params: 7,465,501\n",
            "Trainable params: 1,533,001\n",
            "Non-trainable params: 5,932,500\n",
            "_________________________________________________________________\n"
          ]
        }
      ]
    },
    {
      "cell_type": "code",
      "source": [
        "#Merekam Waktu yang dibutuhkan dan Melakukan Fit Model dengan dataset train dan validasi\n",
        "time_callbackC = TimeHistory()\n",
        "historyC = modelC.fit(X_train, y_train, epochs=20, batch_size=256, validation_data=(X_val, y_val), verbose=2, callbacks=[early_stopping, time_callbackC])"
      ],
      "metadata": {
        "colab": {
          "base_uri": "https://localhost:8080/"
        },
        "id": "r5Teo1NEmMn0",
        "outputId": "09bb591a-db40-49a7-a2d7-a9abf6587041"
      },
      "execution_count": 36,
      "outputs": [
        {
          "output_type": "stream",
          "name": "stdout",
          "text": [
            "Epoch 1/20\n",
            "35/35 - 12s - loss: 0.3869 - accuracy: 0.8377 - val_loss: 0.3129 - val_accuracy: 0.8627 - 12s/epoch - 342ms/step\n",
            "Epoch 2/20\n",
            "35/35 - 8s - loss: 0.2984 - accuracy: 0.8793 - val_loss: 0.3051 - val_accuracy: 0.8736 - 8s/epoch - 217ms/step\n",
            "Epoch 3/20\n",
            "35/35 - 8s - loss: 0.2713 - accuracy: 0.8895 - val_loss: 0.3051 - val_accuracy: 0.8664 - 8s/epoch - 223ms/step\n",
            "Epoch 4/20\n",
            "35/35 - 8s - loss: 0.2467 - accuracy: 0.8992 - val_loss: 0.3085 - val_accuracy: 0.8773 - 8s/epoch - 223ms/step\n",
            "Epoch 5/20\n",
            "35/35 - 8s - loss: 0.2188 - accuracy: 0.9117 - val_loss: 0.3148 - val_accuracy: 0.8800 - 8s/epoch - 223ms/step\n",
            "Epoch 6/20\n",
            "35/35 - 8s - loss: 0.1853 - accuracy: 0.9239 - val_loss: 0.3329 - val_accuracy: 0.8855 - 8s/epoch - 221ms/step\n",
            "Epoch 7/20\n",
            "35/35 - 8s - loss: 0.1514 - accuracy: 0.9427 - val_loss: 0.3579 - val_accuracy: 0.8691 - 8s/epoch - 217ms/step\n"
          ]
        }
      ]
    },
    {
      "cell_type": "code",
      "source": [
        "#Menghitung total dan rerata waktu yang dibutuhkan proses fit.\n",
        "rerataWaktuC = mean(time_callbackC.times)\n",
        "totalWaktuC = sum(time_callbackC.times)\n",
        "\n",
        "print(\"Rerata Waktu =\", round(rerataWaktuC, 2), 'detik')\n",
        "print(\"Total Waktu =\", round(totalWaktuC, 2), 'detik')"
      ],
      "metadata": {
        "colab": {
          "base_uri": "https://localhost:8080/"
        },
        "id": "2ctawRc3AhF7",
        "outputId": "97495ae6-b51f-4f8d-f028-a6d39b9da8d2"
      },
      "execution_count": 37,
      "outputs": [
        {
          "output_type": "stream",
          "name": "stdout",
          "text": [
            "Rerata Waktu = 8.34 detik\n",
            "Total Waktu = 58.35 detik\n"
          ]
        }
      ]
    },
    {
      "cell_type": "code",
      "source": [
        "#Menguji Model dengan dataset test.\n",
        "AccModelC = modelC.evaluate(X_test, y_test, verbose=1)"
      ],
      "metadata": {
        "colab": {
          "base_uri": "https://localhost:8080/"
        },
        "id": "MrkOga5qmRHD",
        "outputId": "a4225ad6-2832-4e88-d36d-33016c6c98a0"
      },
      "execution_count": 38,
      "outputs": [
        {
          "output_type": "stream",
          "name": "stdout",
          "text": [
            "35/35 [==============================] - 1s 18ms/step - loss: 0.3167 - accuracy: 0.8836\n"
          ]
        }
      ]
    },
    {
      "cell_type": "markdown",
      "source": [
        "## Training & Evaluation (GRU, Bidirectional, ADAM) ModelD\n",
        "\n"
      ],
      "metadata": {
        "id": "53mzRnaRSVNW"
      }
    },
    {
      "cell_type": "code",
      "source": [
        "modelD = Sequential([\n",
        "  Embedding(\n",
        "        num_tokens, \n",
        "        embedding_dim,\n",
        "        input_length=256,\n",
        "        embeddings_initializer=Constant(embedding_matrix),\n",
        "        trainable=False \n",
        "        ),\n",
        "  GRU(embedding_dim, return_sequences=True),\n",
        "  Dropout(0.25),\n",
        "  Bidirectional(GRU(embedding_dim)),\n",
        "  Dropout(0.25),\n",
        "  Dense(150, activation=\"relu\"),\n",
        "  Dropout(0.25),\n",
        "  Dense(1, activation='sigmoid')\n",
        "])\n",
        "\n",
        "modelD.compile(loss='binary_crossentropy', \n",
        "              optimizer= Adam(learning_rate=0.001), \n",
        "              metrics=['accuracy'])\n",
        "modelD.summary()"
      ],
      "metadata": {
        "colab": {
          "base_uri": "https://localhost:8080/"
        },
        "id": "X5F_ZnFaCFHQ",
        "outputId": "3b2c14a6-d732-46ad-d9fe-8db8cd729a08"
      },
      "execution_count": 40,
      "outputs": [
        {
          "output_type": "stream",
          "name": "stdout",
          "text": [
            "Model: \"sequential_3\"\n",
            "_________________________________________________________________\n",
            " Layer (type)                Output Shape              Param #   \n",
            "=================================================================\n",
            " embedding_3 (Embedding)     (None, 256, 300)          5932500   \n",
            "                                                                 \n",
            " gru (GRU)                   (None, 256, 300)          541800    \n",
            "                                                                 \n",
            " dropout_8 (Dropout)         (None, 256, 300)          0         \n",
            "                                                                 \n",
            " bidirectional_2 (Bidirectio  (None, 600)              1083600   \n",
            " nal)                                                            \n",
            "                                                                 \n",
            " dropout_9 (Dropout)         (None, 600)               0         \n",
            "                                                                 \n",
            " dense_6 (Dense)             (None, 150)               90150     \n",
            "                                                                 \n",
            " dropout_10 (Dropout)        (None, 150)               0         \n",
            "                                                                 \n",
            " dense_7 (Dense)             (None, 1)                 151       \n",
            "                                                                 \n",
            "=================================================================\n",
            "Total params: 7,648,201\n",
            "Trainable params: 1,715,701\n",
            "Non-trainable params: 5,932,500\n",
            "_________________________________________________________________\n"
          ]
        }
      ]
    },
    {
      "cell_type": "code",
      "source": [
        "#Merekam Waktu yang dibutuhkan dan Melakukan Fit Model dengan dataset train dan validasi\n",
        "time_callbackD = TimeHistory()\n",
        "historyD = modelD.fit(X_train, y_train, epochs=20, batch_size=256, validation_data=(X_val, y_val), verbose=2, callbacks=[early_stopping, time_callbackD])"
      ],
      "metadata": {
        "colab": {
          "base_uri": "https://localhost:8080/"
        },
        "id": "lu9qOhzlZIYX",
        "outputId": "e1b01c3d-197d-44dc-cc31-0e6cf22e904e"
      },
      "execution_count": 41,
      "outputs": [
        {
          "output_type": "stream",
          "name": "stdout",
          "text": [
            "Epoch 1/20\n",
            "35/35 - 19s - loss: 0.3748 - accuracy: 0.8387 - val_loss: 0.3085 - val_accuracy: 0.8691 - 19s/epoch - 534ms/step\n",
            "Epoch 2/20\n",
            "35/35 - 10s - loss: 0.2939 - accuracy: 0.8758 - val_loss: 0.3084 - val_accuracy: 0.8682 - 10s/epoch - 273ms/step\n",
            "Epoch 3/20\n",
            "35/35 - 10s - loss: 0.2716 - accuracy: 0.8879 - val_loss: 0.3159 - val_accuracy: 0.8736 - 10s/epoch - 278ms/step\n",
            "Epoch 4/20\n",
            "35/35 - 10s - loss: 0.2492 - accuracy: 0.8931 - val_loss: 0.3197 - val_accuracy: 0.8727 - 10s/epoch - 283ms/step\n",
            "Epoch 5/20\n",
            "35/35 - 10s - loss: 0.2189 - accuracy: 0.9098 - val_loss: 0.3215 - val_accuracy: 0.8764 - 10s/epoch - 281ms/step\n",
            "Epoch 6/20\n",
            "35/35 - 10s - loss: 0.1962 - accuracy: 0.9187 - val_loss: 0.3442 - val_accuracy: 0.8745 - 10s/epoch - 278ms/step\n",
            "Epoch 7/20\n",
            "35/35 - 10s - loss: 0.1703 - accuracy: 0.9289 - val_loss: 0.3534 - val_accuracy: 0.8818 - 10s/epoch - 275ms/step\n"
          ]
        }
      ]
    },
    {
      "cell_type": "code",
      "source": [
        "#Menghitung total dan rerata waktu yang dibutuhkan proses fit.\n",
        "rerataWaktuD = mean(time_callbackD.times)\n",
        "totalWaktuD = sum(time_callbackD.times)\n",
        "\n",
        "print(\"Rerata Waktu =\", round(rerataWaktuD, 2), 'detik')\n",
        "print(\"Total Waktu =\", round(totalWaktuD, 2), 'detik')"
      ],
      "metadata": {
        "colab": {
          "base_uri": "https://localhost:8080/"
        },
        "id": "RgVDzmrMBUVa",
        "outputId": "c4bd4ea2-41d7-4733-def4-87102b477655"
      },
      "execution_count": 42,
      "outputs": [
        {
          "output_type": "stream",
          "name": "stdout",
          "text": [
            "Rerata Waktu = 11.01 detik\n",
            "Total Waktu = 77.09 detik\n"
          ]
        }
      ]
    },
    {
      "cell_type": "code",
      "source": [
        "#Menguji Model dengan dataset test.\n",
        "AccModelD = modelD.evaluate(X_test, y_test, verbose=1)"
      ],
      "metadata": {
        "colab": {
          "base_uri": "https://localhost:8080/"
        },
        "id": "rGtYBA6nZhsA",
        "outputId": "06a5b378-bc15-4f89-fe8a-fc8c68ef7c4b"
      },
      "execution_count": 43,
      "outputs": [
        {
          "output_type": "stream",
          "name": "stdout",
          "text": [
            "35/35 [==============================] - 1s 25ms/step - loss: 0.3043 - accuracy: 0.8818\n"
          ]
        }
      ]
    },
    {
      "cell_type": "markdown",
      "source": [
        "# Perbandingan Setiap Model"
      ],
      "metadata": {
        "id": "HfYuWMwZKuCG"
      }
    },
    {
      "cell_type": "code",
      "source": [
        "# Rangkuman history dari proses fit accuracy setiap Model dengan dataset val per-epoch\n",
        "plt.plot(historyA.history['val_accuracy'])\n",
        "plt.plot(historyB.history['val_accuracy'])\n",
        "plt.plot(historyC.history['val_accuracy'])\n",
        "plt.plot(historyD.history['val_accuracy'])\n",
        "plt.title('Model Evaluasi Accuracy per-epoch')\n",
        "plt.ylabel('val_accuracy')\n",
        "plt.xlabel('epoch')\n",
        "plt.legend(['ModelA', 'ModelB', 'ModelC', 'ModelD'], loc='lower right')\n",
        "plt.show()"
      ],
      "metadata": {
        "colab": {
          "base_uri": "https://localhost:8080/",
          "height": 295
        },
        "id": "gbLW-4hpKxRo",
        "outputId": "56f3195d-23f1-43f4-ec15-7ef312ddc2a6"
      },
      "execution_count": 44,
      "outputs": [
        {
          "output_type": "display_data",
          "data": {
            "text/plain": [
              "<Figure size 432x288 with 1 Axes>"
            ],
            "image/png": "[encoded data removed]"
          },
          "metadata": {
            "needs_background": "light"
          }
        }
      ]
    },
    {
      "cell_type": "code",
      "source": [
        "#Menampilkan Perbandingan Evaluasi Akurasi dari dataset test di setiap model.\n",
        "a = round(AccModelA[1], 2)\n",
        "b = round(AccModelB[1], 2)\n",
        "c = round(AccModelC[1], 2)\n",
        "d = round(AccModelD[1], 2)\n",
        "fig = plt.figure()\n",
        "ax = fig.add_axes([0,0,1,1])\n",
        "models = ['ModelA: '+str(a), 'ModelB: '+str(b), 'ModelC: '+str(c), 'ModelD: '+str(d)]\n",
        "akurasi = [a,b,c,d]\n",
        "ax.bar(models,akurasi)\n",
        "plt.title('Perbandingan Evaluasi Akurasi (%)')\n",
        "plt.show()"
      ],
      "metadata": {
        "colab": {
          "base_uri": "https://localhost:8080/",
          "height": 352
        },
        "id": "8JRa51RpS97G",
        "outputId": "c974ae0d-e080-48b9-affb-845918541e6e"
      },
      "execution_count": 45,
      "outputs": [
        {
          "output_type": "display_data",
          "data": {
            "text/plain": [
              "<Figure size 432x288 with 1 Axes>"
            ],
            "image/png": "[encoded data removed]"
          },
          "metadata": {
            "needs_background": "light"
          }
        }
      ]
    },
    {
      "cell_type": "code",
      "source": [
        "#Menampilkan Perbandingan Rerata Waktu Trainning di setiap model.\n",
        "RWa = round(rerataWaktuA, 2)\n",
        "RWb = round(rerataWaktuB, 2)\n",
        "RWc = round(rerataWaktuC, 2)\n",
        "RWd = round(rerataWaktuD, 2)\n",
        "fig = plt.figure()\n",
        "ax = fig.add_axes([0,0,1,1])\n",
        "models = ['ModelA: '+str(RWa), 'ModelB: '+str(RWb), 'ModelC: '+str(RWc), 'ModelD: '+str(RWd)]\n",
        "rerata = [RWa,RWb,RWc,RWd]\n",
        "ax.bar(models,rerata)\n",
        "plt.title('Rerata Waktu Trainning (s) per epoch')\n",
        "plt.show()"
      ],
      "metadata": {
        "colab": {
          "base_uri": "https://localhost:8080/",
          "height": 352
        },
        "id": "75DdwLwEMr7J",
        "outputId": "aecdcabc-74aa-49e4-be92-3c0c9b99ddcd"
      },
      "execution_count": 46,
      "outputs": [
        {
          "output_type": "display_data",
          "data": {
            "text/plain": [
              "<Figure size 432x288 with 1 Axes>"
            ],
            "image/png": "[encoded data removed]"
          },
          "metadata": {
            "needs_background": "light"
          }
        }
      ]
    },
    {
      "cell_type": "code",
      "source": [
        "#Menampilkan Perbandingan Total Waktu Trainning di setiap model.\n",
        "TWa = round(totalWaktuA, 2)\n",
        "TWb = round(totalWaktuB, 2)\n",
        "TWc = round(totalWaktuC, 2)\n",
        "TWd = round(totalWaktuD, 2)\n",
        "fig = plt.figure()\n",
        "ax = fig.add_axes([0,0,1,1])\n",
        "models = ['ModelA: '+str(TWa), 'ModelB: '+str(TWb), 'ModelC: '+str(TWc), 'ModelD: '+str(TWd)]\n",
        "rerata = [TWa,TWb,TWc,TWd]\n",
        "ax.bar(models,rerata)\n",
        "plt.title('Perbandingan Total Waktu Trainning (s)')\n",
        "plt.show()"
      ],
      "metadata": {
        "colab": {
          "base_uri": "https://localhost:8080/",
          "height": 352
        },
        "id": "H4rHvshHUWAd",
        "outputId": "8af4cef7-ce2c-4091-c5a6-9ee3dd63deae"
      },
      "execution_count": 47,
      "outputs": [
        {
          "output_type": "display_data",
          "data": {
            "text/plain": [
              "<Figure size 432x288 with 1 Axes>"
            ],
            "image/png": "[encoded data removed]"
          },
          "metadata": {
            "needs_background": "light"
          }
        }
      ]
    },
    {
      "cell_type": "markdown",
      "source": [
        "#Custom Sample Dataset Test\n",
        "Sumber dataset: https://www.kaggle.com/c/nlp-getting-started dan mengambil dataset train.csv (File sudah di tambahkan ke GDrive pada link sebelumnya)"
      ],
      "metadata": {
        "id": "5CVPq8upbOOQ"
      }
    },
    {
      "cell_type": "code",
      "source": [
        "# Classify custom sample\n",
        "\n",
        "df_test = pd.read_csv ('/content/drive/MyDrive/SOSMED_4/train.csv')\n",
        "\n",
        "#Cleanning\n",
        "df_test['clean_text'] = df_test['text'].apply(lambda x: hapus_URL(x))\n",
        "df_test['clean_text'] = df_test['clean_text'].apply(lambda x: hapus_emoji(x))\n",
        "df_test['clean_text'] = df_test['clean_text'].apply(lambda x: hapus_html(x))\n",
        "df_test['clean_text'] = df_test['clean_text'].apply(lambda x: hapus_tandaBaca(x))\n",
        "\n",
        "#Referensi: https://www.geeksforgeeks.org/python-nltk-nltk-tokenizer-word_tokenize/\n",
        "df_test['tokenized'] = df_test['clean_text'].apply(word_tokenize)\n",
        "\n",
        "#Referensi: https://www.geeksforgeeks.org/isupper-islower-lower-upper-python-applications/\n",
        "df_test['lower'] = df_test['tokenized'].apply(\n",
        "    lambda x: [word.lower() for word in x])\n",
        "\n",
        "#Referensi: https://www.geeksforgeeks.org/removing-stop-words-nltk-python/\n",
        "df_test['no_stopwords'] = df_test['lower'].apply(\n",
        "    lambda x: [word for word in x if word not in set(nltk.corpus.stopwords.words('english'))])\n",
        "df_test['no_stopwords'] = [' '.join(map(str, l)) for l in df_test['no_stopwords']]\n",
        "\n",
        "#Lemmatize field \"no_stopwords\" dengan POS tag yang sesuai.\n",
        "df_test['lemmatized'] =  df_test['no_stopwords'].apply(\n",
        "    lambda x: [lemma.lemmatize(w, get_wordnet_pos(w)) for w in nltk.word_tokenize(x)])\n",
        "\n",
        "df_test.head()"
      ],
      "metadata": {
        "colab": {
          "base_uri": "https://localhost:8080/",
          "height": 372
        },
        "id": "ibJo5s0lbQ11",
        "outputId": "0d90cc8e-5b72-4019-eb9c-2bd86606f376"
      },
      "execution_count": 48,
      "outputs": [
        {
          "output_type": "execute_result",
          "data": {
            "text/plain": [
              "   id keyword location                                               text  \\\n",
              "0   1     NaN      NaN  Our Deeds are the Reason of this #earthquake M...   \n",
              "1   4     NaN      NaN             Forest fire near La Ronge Sask. Canada   \n",
              "2   5     NaN      NaN  All residents asked to 'shelter in place' are ...   \n",
              "3   6     NaN      NaN  13,000 people receive #wildfires evacuation or...   \n",
              "4   7     NaN      NaN  Just got sent this photo from Ruby #Alaska as ...   \n",
              "\n",
              "   target                                         clean_text  \\\n",
              "0       1  Our Deeds are the Reason of this earthquake Ma...   \n",
              "1       1              Forest fire near La Ronge Sask Canada   \n",
              "2       1  All residents asked to shelter in place are be...   \n",
              "3       1  13000 people receive wildfires evacuation orde...   \n",
              "4       1  Just got sent this photo from Ruby Alaska as s...   \n",
              "\n",
              "                                           tokenized  \\\n",
              "0  [Our, Deeds, are, the, Reason, of, this, earth...   \n",
              "1      [Forest, fire, near, La, Ronge, Sask, Canada]   \n",
              "2  [All, residents, asked, to, shelter, in, place...   \n",
              "3  [13000, people, receive, wildfires, evacuation...   \n",
              "4  [Just, got, sent, this, photo, from, Ruby, Ala...   \n",
              "\n",
              "                                               lower  \\\n",
              "0  [our, deeds, are, the, reason, of, this, earth...   \n",
              "1      [forest, fire, near, la, ronge, sask, canada]   \n",
              "2  [all, residents, asked, to, shelter, in, place...   \n",
              "3  [13000, people, receive, wildfires, evacuation...   \n",
              "4  [just, got, sent, this, photo, from, ruby, ala...   \n",
              "\n",
              "                                        no_stopwords  \\\n",
              "0       deeds reason earthquake may allah forgive us   \n",
              "1              forest fire near la ronge sask canada   \n",
              "2  residents asked shelter place notified officer...   \n",
              "3  13000 people receive wildfires evacuation orde...   \n",
              "4  got sent photo ruby alaska smoke wildfires pou...   \n",
              "\n",
              "                                          lemmatized  \n",
              "0  [deed, reason, earthquake, may, allah, forgive...  \n",
              "1      [forest, fire, near, la, ronge, sask, canada]  \n",
              "2  [resident, ask, shelter, place, notify, office...  \n",
              "3  [13000, people, receive, wildfire, evacuation,...  \n",
              "4  [get, sent, photo, ruby, alaska, smoke, wildfi...  "
            ],
            "text/html": [
              "\n",
              "  <div id=\"df-4b60f9de-a1f6-415a-8d2a-f84b1611c3ec\">\n",
              "    <div class=\"colab-df-container\">\n",
              "      <div>\n",
              "<style scoped>\n",
              "    .dataframe tbody tr th:only-of-type {\n",
              "        vertical-align: middle;\n",
              "    }\n",
              "\n",
              "    .dataframe tbody tr th {\n",
              "        vertical-align: top;\n",
              "    }\n",
              "\n",
              "    .dataframe thead th {\n",
              "        text-align: right;\n",
              "    }\n",
              "</style>\n",
              "<table border=\"1\" class=\"dataframe\">\n",
              "  <thead>\n",
              "    <tr style=\"text-align: right;\">\n",
              "      <th></th>\n",
              "      <th>id</th>\n",
              "      <th>keyword</th>\n",
              "      <th>location</th>\n",
              "      <th>text</th>\n",
              "      <th>target</th>\n",
              "      <th>clean_text</th>\n",
              "      <th>tokenized</th>\n",
              "      <th>lower</th>\n",
              "      <th>no_stopwords</th>\n",
              "      <th>lemmatized</th>\n",
              "    </tr>\n",
              "  </thead>\n",
              "  <tbody>\n",
              "    <tr>\n",
              "      <th>0</th>\n",
              "      <td>1</td>\n",
              "      <td>NaN</td>\n",
              "      <td>NaN</td>\n",
              "      <td>Our Deeds are the Reason of this #earthquake M...</td>\n",
              "      <td>1</td>\n",
              "      <td>Our Deeds are the Reason of this earthquake Ma...</td>\n",
              "      <td>[Our, Deeds, are, the, Reason, of, this, earth...</td>\n",
              "      <td>[our, deeds, are, the, reason, of, this, earth...</td>\n",
              "      <td>deeds reason earthquake may allah forgive us</td>\n",
              "      <td>[deed, reason, earthquake, may, allah, forgive...</td>\n",
              "    </tr>\n",
              "    <tr>\n",
              "      <th>1</th>\n",
              "      <td>4</td>\n",
              "      <td>NaN</td>\n",
              "      <td>NaN</td>\n",
              "      <td>Forest fire near La Ronge Sask. Canada</td>\n",
              "      <td>1</td>\n",
              "      <td>Forest fire near La Ronge Sask Canada</td>\n",
              "      <td>[Forest, fire, near, La, Ronge, Sask, Canada]</td>\n",
              "      <td>[forest, fire, near, la, ronge, sask, canada]</td>\n",
              "      <td>forest fire near la ronge sask canada</td>\n",
              "      <td>[forest, fire, near, la, ronge, sask, canada]</td>\n",
              "    </tr>\n",
              "    <tr>\n",
              "      <th>2</th>\n",
              "      <td>5</td>\n",
              "      <td>NaN</td>\n",
              "      <td>NaN</td>\n",
              "      <td>All residents asked to 'shelter in place' are ...</td>\n",
              "      <td>1</td>\n",
              "      <td>All residents asked to shelter in place are be...</td>\n",
              "      <td>[All, residents, asked, to, shelter, in, place...</td>\n",
              "      <td>[all, residents, asked, to, shelter, in, place...</td>\n",
              "      <td>residents asked shelter place notified officer...</td>\n",
              "      <td>[resident, ask, shelter, place, notify, office...</td>\n",
              "    </tr>\n",
              "    <tr>\n",
              "      <th>3</th>\n",
              "      <td>6</td>\n",
              "      <td>NaN</td>\n",
              "      <td>NaN</td>\n",
              "      <td>13,000 people receive #wildfires evacuation or...</td>\n",
              "      <td>1</td>\n",
              "      <td>13000 people receive wildfires evacuation orde...</td>\n",
              "      <td>[13000, people, receive, wildfires, evacuation...</td>\n",
              "      <td>[13000, people, receive, wildfires, evacuation...</td>\n",
              "      <td>13000 people receive wildfires evacuation orde...</td>\n",
              "      <td>[13000, people, receive, wildfire, evacuation,...</td>\n",
              "    </tr>\n",
              "    <tr>\n",
              "      <th>4</th>\n",
              "      <td>7</td>\n",
              "      <td>NaN</td>\n",
              "      <td>NaN</td>\n",
              "      <td>Just got sent this photo from Ruby #Alaska as ...</td>\n",
              "      <td>1</td>\n",
              "      <td>Just got sent this photo from Ruby Alaska as s...</td>\n",
              "      <td>[Just, got, sent, this, photo, from, Ruby, Ala...</td>\n",
              "      <td>[just, got, sent, this, photo, from, ruby, ala...</td>\n",
              "      <td>got sent photo ruby alaska smoke wildfires pou...</td>\n",
              "      <td>[get, sent, photo, ruby, alaska, smoke, wildfi...</td>\n",
              "    </tr>\n",
              "  </tbody>\n",
              "</table>\n",
              "</div>\n",
              "      <button class=\"colab-df-convert\" onclick=\"convertToInteractive('df-4b60f9de-a1f6-415a-8d2a-f84b1611c3ec')\"\n",
              "              title=\"Convert this dataframe to an interactive table.\"\n",
              "              style=\"display:none;\">\n",
              "        \n",
              "  <svg xmlns=\"http://www.w3.org/2000/svg\" height=\"24px\"viewBox=\"0 0 24 24\"\n",
              "       width=\"24px\">\n",
              "    <path d=\"M0 0h24v24H0V0z\" fill=\"none\"/>\n",
              "    <path d=\"M18.56 5.44l.94 2.06.94-2.06 2.06-.94-2.06-.94-.94-2.06-.94 2.06-2.06.94zm-11 1L8.5 8.5l.94-2.06 2.06-.94-2.06-.94L8.5 2.5l-.94 2.06-2.06.94zm10 10l.94 2.06.94-2.06 2.06-.94-2.06-.94-.94-2.06-.94 2.06-2.06.94z\"/><path d=\"M17.41 7.96l-1.37-1.37c-.4-.4-.92-.59-1.43-.59-.52 0-1.04.2-1.43.59L10.3 9.45l-7.72 7.72c-.78.78-.78 2.05 0 2.83L4 21.41c.39.39.9.59 1.41.59.51 0 1.02-.2 1.41-.59l7.78-7.78 2.81-2.81c.8-.78.8-2.07 0-2.86zM5.41 20L4 18.59l7.72-7.72 1.47 1.35L5.41 20z\"/>\n",
              "  </svg>\n",
              "      </button>\n",
              "      \n",
              "  <style>\n",
              "    .colab-df-container {\n",
              "      display:flex;\n",
              "      flex-wrap:wrap;\n",
              "      gap: 12px;\n",
              "    }\n",
              "\n",
              "    .colab-df-convert {\n",
              "      background-color: #E8F0FE;\n",
              "      border: none;\n",
              "      border-radius: 50%;\n",
              "      cursor: pointer;\n",
              "      display: none;\n",
              "      fill: #1967D2;\n",
              "      height: 32px;\n",
              "      padding: 0 0 0 0;\n",
              "      width: 32px;\n",
              "    }\n",
              "\n",
              "    .colab-df-convert:hover {\n",
              "      background-color: #E2EBFA;\n",
              "      box-shadow: 0px 1px 2px rgba(60, 64, 67, 0.3), 0px 1px 3px 1px rgba(60, 64, 67, 0.15);\n",
              "      fill: #174EA6;\n",
              "    }\n",
              "\n",
              "    [theme=dark] .colab-df-convert {\n",
              "      background-color: #3B4455;\n",
              "      fill: #D2E3FC;\n",
              "    }\n",
              "\n",
              "    [theme=dark] .colab-df-convert:hover {\n",
              "      background-color: #434B5C;\n",
              "      box-shadow: 0px 1px 3px 1px rgba(0, 0, 0, 0.15);\n",
              "      filter: drop-shadow(0px 1px 2px rgba(0, 0, 0, 0.3));\n",
              "      fill: #FFFFFF;\n",
              "    }\n",
              "  </style>\n",
              "\n",
              "      <script>\n",
              "        const buttonEl =\n",
              "          document.querySelector('#df-4b60f9de-a1f6-415a-8d2a-f84b1611c3ec button.colab-df-convert');\n",
              "        buttonEl.style.display =\n",
              "          google.colab.kernel.accessAllowed ? 'block' : 'none';\n",
              "\n",
              "        async function convertToInteractive(key) {\n",
              "          const element = document.querySelector('#df-4b60f9de-a1f6-415a-8d2a-f84b1611c3ec');\n",
              "          const dataTable =\n",
              "            await google.colab.kernel.invokeFunction('convertToInteractive',\n",
              "                                                     [key], {});\n",
              "          if (!dataTable) return;\n",
              "\n",
              "          const docLinkHtml = 'Like what you see? Visit the ' +\n",
              "            '<a target=\"_blank\" href=https://colab.research.google.com/notebooks/data_table.ipynb>data table notebook</a>'\n",
              "            + ' to learn more about interactive tables.';\n",
              "          element.innerHTML = '';\n",
              "          dataTable['output_type'] = 'display_data';\n",
              "          await google.colab.output.renderOutput(dataTable, element);\n",
              "          const docLink = document.createElement('div');\n",
              "          docLink.innerHTML = docLinkHtml;\n",
              "          element.appendChild(docLink);\n",
              "        }\n",
              "      </script>\n",
              "    </div>\n",
              "  </div>\n",
              "  "
            ]
          },
          "metadata": {},
          "execution_count": 48
        }
      ]
    },
    {
      "cell_type": "code",
      "source": [
        "#mengubah token korpus teks menjadi urutan bilangan integer\n",
        "sequences_test2 = tokenizer.texts_to_sequences(df_test['lemmatized'])\n",
        "\n",
        "#digunakan untuk memastikan bahwa semua urutan dalam daftar memiliki panjang yang sama\n",
        "X_test2 = pad_sequences(sequences_test2, maxlen=256, truncating='pre')"
      ],
      "metadata": {
        "id": "yMID5HgfgcBP"
      },
      "execution_count": 49,
      "outputs": []
    },
    {
      "cell_type": "code",
      "source": [
        "#Evaluasi dengan dataset custom/external: \n",
        "#https://www.kaggle.com/competitions/nlp-getting-started/data?select=train.csv\n",
        "modelA.evaluate(X_test2, df_test['target'], verbose = 1)\n",
        "modelB.evaluate(X_test2, df_test['target'], verbose = 1)\n",
        "modelC.evaluate(X_test2, df_test['target'], verbose = 1)\n",
        "modelD.evaluate(X_test2, df_test['target'], verbose = 1)"
      ],
      "metadata": {
        "colab": {
          "base_uri": "https://localhost:8080/"
        },
        "id": "DscyUL0q-62o",
        "outputId": "db5caf80-a72a-4f4b-acde-1425a0d806a4"
      },
      "execution_count": 50,
      "outputs": [
        {
          "output_type": "stream",
          "name": "stdout",
          "text": [
            "238/238 [==============================] - 17s 71ms/step - loss: 0.7150 - accuracy: 0.6359\n",
            "238/238 [==============================] - 39s 163ms/step - loss: 0.8676 - accuracy: 0.6808\n",
            "238/238 [==============================] - 4s 17ms/step - loss: 0.8036 - accuracy: 0.6740\n",
            "238/238 [==============================] - 5s 21ms/step - loss: 0.8308 - accuracy: 0.6750\n"
          ]
        },
        {
          "output_type": "execute_result",
          "data": {
            "text/plain": [
              "[0.8307787179946899, 0.6750295758247375]"
            ]
          },
          "metadata": {},
          "execution_count": 50
        }
      ]
    },
    {
      "cell_type": "code",
      "source": [
        "#Melakukan Prediksi terhadap data external\n",
        "from sklearn.metrics import accuracy_score, confusion_matrix, classification_report, f1_score\n",
        "\n",
        "y_valid2 =  df_test['target']\n",
        "\n",
        "predictionA = modelA.predict(X_test2).reshape(-1) > 0.5\n",
        "predictionB = modelB.predict(X_test2).reshape(-1) > 0.5\n",
        "predictionC = modelC.predict(X_test2).reshape(-1) > 0.5\n",
        "predictionD = modelD.predict(X_test2).reshape(-1) > 0.5\n",
        "\n",
        "def report(y_valid, prediction):\n",
        "  print(\"Confusion Matrix: \\n\",confusion_matrix(y_valid, prediction))\n",
        "  print(\"Accuracy Score: \",accuracy_score(y_valid, prediction))\n",
        "  print(\"Classification Report: \\n\",classification_report(y_valid, prediction))\n",
        "  print(\"F1 Score: \",f1_score(y_valid, prediction))\n",
        "\n"
      ],
      "metadata": {
        "id": "VFr8VUGXAeH5"
      },
      "execution_count": 64,
      "outputs": []
    },
    {
      "cell_type": "code",
      "source": [
        "#Mengevaluasi model terhadap dataset external\n",
        "report(y_valid2, predictionA)"
      ],
      "metadata": {
        "colab": {
          "base_uri": "https://localhost:8080/"
        },
        "id": "JJEqSLpmDlyQ",
        "outputId": "8b0175ba-3a1e-45e4-89be-8873b84fc250"
      },
      "execution_count": 65,
      "outputs": [
        {
          "output_type": "stream",
          "name": "stdout",
          "text": [
            "Confusion Matrix: \n",
            " [[4156  186]\n",
            " [2586  685]]\n",
            "Accuracy Score:  0.6358859845001971\n",
            "Classification Report: \n",
            "               precision    recall  f1-score   support\n",
            "\n",
            "           0       0.62      0.96      0.75      4342\n",
            "           1       0.79      0.21      0.33      3271\n",
            "\n",
            "    accuracy                           0.64      7613\n",
            "   macro avg       0.70      0.58      0.54      7613\n",
            "weighted avg       0.69      0.64      0.57      7613\n",
            "\n",
            "F1 Score:  0.33075808788025113\n"
          ]
        }
      ]
    },
    {
      "cell_type": "code",
      "source": [
        "#Mengevaluasi model terhadap dataset external\n",
        "report(y_valid2, predictionB)"
      ],
      "metadata": {
        "colab": {
          "base_uri": "https://localhost:8080/"
        },
        "id": "GkMdVmWmDrcs",
        "outputId": "dfaaf2d1-9e6f-4a55-ed5b-d7218e6accd4"
      },
      "execution_count": 66,
      "outputs": [
        {
          "output_type": "stream",
          "name": "stdout",
          "text": [
            "Confusion Matrix: \n",
            " [[4259   83]\n",
            " [2347  924]]\n",
            "Accuracy Score:  0.6808091422566662\n",
            "Classification Report: \n",
            "               precision    recall  f1-score   support\n",
            "\n",
            "           0       0.64      0.98      0.78      4342\n",
            "           1       0.92      0.28      0.43      3271\n",
            "\n",
            "    accuracy                           0.68      7613\n",
            "   macro avg       0.78      0.63      0.61      7613\n",
            "weighted avg       0.76      0.68      0.63      7613\n",
            "\n",
            "F1 Score:  0.43197755960729306\n"
          ]
        }
      ]
    },
    {
      "cell_type": "code",
      "source": [
        "#Mengevaluasi model terhadap dataset external\n",
        "report(y_valid2, predictionC)"
      ],
      "metadata": {
        "colab": {
          "base_uri": "https://localhost:8080/"
        },
        "id": "Dyq1xfjeDsC4",
        "outputId": "26a52e12-bc05-4053-e231-e1607e89e69c"
      },
      "execution_count": 67,
      "outputs": [
        {
          "output_type": "stream",
          "name": "stdout",
          "text": [
            "Confusion Matrix: \n",
            " [[4251   91]\n",
            " [2391  880]]\n",
            "Accuracy Score:  0.6739787206094838\n",
            "Classification Report: \n",
            "               precision    recall  f1-score   support\n",
            "\n",
            "           0       0.64      0.98      0.77      4342\n",
            "           1       0.91      0.27      0.41      3271\n",
            "\n",
            "    accuracy                           0.67      7613\n",
            "   macro avg       0.77      0.62      0.59      7613\n",
            "weighted avg       0.75      0.67      0.62      7613\n",
            "\n",
            "F1 Score:  0.4148986327204149\n"
          ]
        }
      ]
    },
    {
      "cell_type": "code",
      "source": [
        "#Mengevaluasi model terhadap dataset external\n",
        "report(y_valid2, predictionD)"
      ],
      "metadata": {
        "colab": {
          "base_uri": "https://localhost:8080/"
        },
        "id": "RtMeEiL6DsnJ",
        "outputId": "cf4a3f31-617d-4ed5-efa5-a93ad77ccd94"
      },
      "execution_count": 68,
      "outputs": [
        {
          "output_type": "stream",
          "name": "stdout",
          "text": [
            "Confusion Matrix: \n",
            " [[4279   63]\n",
            " [2411  860]]\n",
            "Accuracy Score:  0.6750295547090504\n",
            "Classification Report: \n",
            "               precision    recall  f1-score   support\n",
            "\n",
            "           0       0.64      0.99      0.78      4342\n",
            "           1       0.93      0.26      0.41      3271\n",
            "\n",
            "    accuracy                           0.68      7613\n",
            "   macro avg       0.79      0.62      0.59      7613\n",
            "weighted avg       0.77      0.68      0.62      7613\n",
            "\n",
            "F1 Score:  0.41010968049594665\n"
          ]
        }
      ]
    }
  ]
}