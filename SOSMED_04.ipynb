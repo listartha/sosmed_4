{
  "nbformat": 4,
  "nbformat_minor": 0,
  "metadata": {
    "colab": {
      "name": "SOSMED_04Final.ipynb",
      "provenance": [],
      "collapsed_sections": [
        "iW2INe9qcCK2",
        "3oglCA43ohRT",
        "naas1MGZsUxv",
        "riuWsKIdtz-k"
      ]
    },
    "kernelspec": {
      "name": "python3",
      "display_name": "Python 3"
    },
    "language_info": {
      "name": "python"
    },
    "accelerator": "GPU",
    "gpuClass": "standard"
  },
  "cells": [
    {
      "cell_type": "markdown",
      "source": [
        "**Selected Theme:** Sosial Media\n",
        "\n",
        "**Title of the Project:** Klasifikasi Tweet Bencana\n",
        "\n",
        "**Team:**\n",
        "1. Hanzholah Shobri - 152236035100-349: Split Dataset Code, Membuat Model B, Analisis Feature Dataset Code dan Membuat Dokumentasi Final Report.\n",
        "2. I Made Edy Listartha - 152236035100-809: Menyiapkan WorkSpace (Zoom Meet, Colab, GDrive, Github), Explore Dataset Code, Membuat Model D, Models Comparison Graph\n",
        "3. Yudhi Nugraha Riyansyah - 152236035100-972: Pre-Processing Dataset, Word Embedding Code, Membuat Model A, Lemmatization Code\n",
        "4. Ega Wahyu Cahyono - 152236035101-901: Grafik Gantt Proposal, Membuat Model C, Custom Dataset Test Code, Membuat Dokumentasi Laporan\n",
        "\n",
        "\n",
        "---\n",
        "Link Dataset, Glove dan Custom Dataset : https://drive.google.com/drive/folders/1OaLBdY9u2PfePygDJrAhh-63aLZwEhQB?usp=sharing\n"
      ],
      "metadata": {
        "id": "wdxH0htefFnf"
      }
    },
    {
      "cell_type": "markdown",
      "source": [
        "#Import Library"
      ],
      "metadata": {
        "id": "iW2INe9qcCK2"
      }
    },
    {
      "cell_type": "code",
      "source": [
        "import os\n",
        "import re\n",
        "import nltk\n",
        "import string\n",
        "import pandas as pd\n",
        "import matplotlib.pyplot as plt\n",
        "import numpy as np\n",
        "import seaborn as sns\n",
        "import time\n",
        "\n",
        "from google.colab import drive\n",
        "from shutil import unpack_archive\n",
        "from nltk.tokenize import word_tokenize\n",
        "from nltk.stem import WordNetLemmatizer\n",
        "from nltk.corpus import wordnet\n",
        "from sklearn.model_selection import train_test_split\n",
        "from keras.preprocessing.text import Tokenizer\n",
        "from keras.preprocessing.sequence import pad_sequences\n",
        "from keras.models import Sequential\n",
        "from keras.callbacks import EarlyStopping, Callback\n",
        "from keras.layers import Dense, Bidirectional, LSTM, Dropout, BatchNormalization, SpatialDropout1D, Conv1D, GlobalAveragePooling1D, GRU\n",
        "from keras.layers.embeddings import Embedding\n",
        "from keras.initializers import Constant\n",
        "from tensorflow.keras.optimizers import SGD, Adam\n",
        "\n",
        "import matplotlib.pyplot as plt\n",
        "from statistics import mean"
      ],
      "metadata": {
        "id": "u43jdTOPcFEM"
      },
      "execution_count": 132,
      "outputs": []
    },
    {
      "cell_type": "markdown",
      "source": [
        "#Load Dataset"
      ],
      "metadata": {
        "id": "uDQqvWkGcAAZ"
      }
    },
    {
      "cell_type": "code",
      "execution_count": 133,
      "metadata": {
        "colab": {
          "base_uri": "https://localhost:8080/"
        },
        "id": "2Q207pzanRN9",
        "outputId": "b42326f4-3bba-431b-af6a-f97507438d5d"
      },
      "outputs": [
        {
          "output_type": "stream",
          "name": "stdout",
          "text": [
            "Drive already mounted at /content/drive; to attempt to forcibly remount, call drive.mount(\"/content/drive\", force_remount=True).\n"
          ]
        }
      ],
      "source": [
        "#Mengakses GDrive untuk Dataset dan Glove nantinya.\n",
        "drive.mount('/content/drive')"
      ]
    },
    {
      "cell_type": "code",
      "source": [
        "# Load dataset Tweet studi kasus\n",
        "dataset = pd.read_csv('/content/drive/MyDrive/SOSMED_4/tweets.csv')\n",
        "\n",
        "dataset.head()"
      ],
      "metadata": {
        "id": "320X4xYfnexI",
        "colab": {
          "base_uri": "https://localhost:8080/",
          "height": 0
        },
        "outputId": "3e33e3e9-f716-4fca-f628-39e1ff515589"
      },
      "execution_count": 134,
      "outputs": [
        {
          "output_type": "execute_result",
          "data": {
            "text/plain": [
              "   id keyword        location  \\\n",
              "0   0  ablaze             NaN   \n",
              "1   1  ablaze             NaN   \n",
              "2   2  ablaze   New York City   \n",
              "3   3  ablaze  Morgantown, WV   \n",
              "4   4  ablaze             NaN   \n",
              "\n",
              "                                                text  target  \n",
              "0  Communal violence in Bhainsa, Telangana. \"Ston...       1  \n",
              "1  Telangana: Section 144 has been imposed in Bha...       1  \n",
              "2  Arsonist sets cars ablaze at dealership https:...       1  \n",
              "3  Arsonist sets cars ablaze at dealership https:...       1  \n",
              "4  \"Lord Jesus, your love brings freedom and pard...       0  "
            ],
            "text/html": [
              "\n",
              "  <div id=\"df-ca5f2032-74af-4eb2-b353-d8abae24d17e\">\n",
              "    <div class=\"colab-df-container\">\n",
              "      <div>\n",
              "<style scoped>\n",
              "    .dataframe tbody tr th:only-of-type {\n",
              "        vertical-align: middle;\n",
              "    }\n",
              "\n",
              "    .dataframe tbody tr th {\n",
              "        vertical-align: top;\n",
              "    }\n",
              "\n",
              "    .dataframe thead th {\n",
              "        text-align: right;\n",
              "    }\n",
              "</style>\n",
              "<table border=\"1\" class=\"dataframe\">\n",
              "  <thead>\n",
              "    <tr style=\"text-align: right;\">\n",
              "      <th></th>\n",
              "      <th>id</th>\n",
              "      <th>keyword</th>\n",
              "      <th>location</th>\n",
              "      <th>text</th>\n",
              "      <th>target</th>\n",
              "    </tr>\n",
              "  </thead>\n",
              "  <tbody>\n",
              "    <tr>\n",
              "      <th>0</th>\n",
              "      <td>0</td>\n",
              "      <td>ablaze</td>\n",
              "      <td>NaN</td>\n",
              "      <td>Communal violence in Bhainsa, Telangana. \"Ston...</td>\n",
              "      <td>1</td>\n",
              "    </tr>\n",
              "    <tr>\n",
              "      <th>1</th>\n",
              "      <td>1</td>\n",
              "      <td>ablaze</td>\n",
              "      <td>NaN</td>\n",
              "      <td>Telangana: Section 144 has been imposed in Bha...</td>\n",
              "      <td>1</td>\n",
              "    </tr>\n",
              "    <tr>\n",
              "      <th>2</th>\n",
              "      <td>2</td>\n",
              "      <td>ablaze</td>\n",
              "      <td>New York City</td>\n",
              "      <td>Arsonist sets cars ablaze at dealership https:...</td>\n",
              "      <td>1</td>\n",
              "    </tr>\n",
              "    <tr>\n",
              "      <th>3</th>\n",
              "      <td>3</td>\n",
              "      <td>ablaze</td>\n",
              "      <td>Morgantown, WV</td>\n",
              "      <td>Arsonist sets cars ablaze at dealership https:...</td>\n",
              "      <td>1</td>\n",
              "    </tr>\n",
              "    <tr>\n",
              "      <th>4</th>\n",
              "      <td>4</td>\n",
              "      <td>ablaze</td>\n",
              "      <td>NaN</td>\n",
              "      <td>\"Lord Jesus, your love brings freedom and pard...</td>\n",
              "      <td>0</td>\n",
              "    </tr>\n",
              "  </tbody>\n",
              "</table>\n",
              "</div>\n",
              "      <button class=\"colab-df-convert\" onclick=\"convertToInteractive('df-ca5f2032-74af-4eb2-b353-d8abae24d17e')\"\n",
              "              title=\"Convert this dataframe to an interactive table.\"\n",
              "              style=\"display:none;\">\n",
              "        \n",
              "  <svg xmlns=\"http://www.w3.org/2000/svg\" height=\"24px\"viewBox=\"0 0 24 24\"\n",
              "       width=\"24px\">\n",
              "    <path d=\"M0 0h24v24H0V0z\" fill=\"none\"/>\n",
              "    <path d=\"M18.56 5.44l.94 2.06.94-2.06 2.06-.94-2.06-.94-.94-2.06-.94 2.06-2.06.94zm-11 1L8.5 8.5l.94-2.06 2.06-.94-2.06-.94L8.5 2.5l-.94 2.06-2.06.94zm10 10l.94 2.06.94-2.06 2.06-.94-2.06-.94-.94-2.06-.94 2.06-2.06.94z\"/><path d=\"M17.41 7.96l-1.37-1.37c-.4-.4-.92-.59-1.43-.59-.52 0-1.04.2-1.43.59L10.3 9.45l-7.72 7.72c-.78.78-.78 2.05 0 2.83L4 21.41c.39.39.9.59 1.41.59.51 0 1.02-.2 1.41-.59l7.78-7.78 2.81-2.81c.8-.78.8-2.07 0-2.86zM5.41 20L4 18.59l7.72-7.72 1.47 1.35L5.41 20z\"/>\n",
              "  </svg>\n",
              "      </button>\n",
              "      \n",
              "  <style>\n",
              "    .colab-df-container {\n",
              "      display:flex;\n",
              "      flex-wrap:wrap;\n",
              "      gap: 12px;\n",
              "    }\n",
              "\n",
              "    .colab-df-convert {\n",
              "      background-color: #E8F0FE;\n",
              "      border: none;\n",
              "      border-radius: 50%;\n",
              "      cursor: pointer;\n",
              "      display: none;\n",
              "      fill: #1967D2;\n",
              "      height: 32px;\n",
              "      padding: 0 0 0 0;\n",
              "      width: 32px;\n",
              "    }\n",
              "\n",
              "    .colab-df-convert:hover {\n",
              "      background-color: #E2EBFA;\n",
              "      box-shadow: 0px 1px 2px rgba(60, 64, 67, 0.3), 0px 1px 3px 1px rgba(60, 64, 67, 0.15);\n",
              "      fill: #174EA6;\n",
              "    }\n",
              "\n",
              "    [theme=dark] .colab-df-convert {\n",
              "      background-color: #3B4455;\n",
              "      fill: #D2E3FC;\n",
              "    }\n",
              "\n",
              "    [theme=dark] .colab-df-convert:hover {\n",
              "      background-color: #434B5C;\n",
              "      box-shadow: 0px 1px 3px 1px rgba(0, 0, 0, 0.15);\n",
              "      filter: drop-shadow(0px 1px 2px rgba(0, 0, 0, 0.3));\n",
              "      fill: #FFFFFF;\n",
              "    }\n",
              "  </style>\n",
              "\n",
              "      <script>\n",
              "        const buttonEl =\n",
              "          document.querySelector('#df-ca5f2032-74af-4eb2-b353-d8abae24d17e button.colab-df-convert');\n",
              "        buttonEl.style.display =\n",
              "          google.colab.kernel.accessAllowed ? 'block' : 'none';\n",
              "\n",
              "        async function convertToInteractive(key) {\n",
              "          const element = document.querySelector('#df-ca5f2032-74af-4eb2-b353-d8abae24d17e');\n",
              "          const dataTable =\n",
              "            await google.colab.kernel.invokeFunction('convertToInteractive',\n",
              "                                                     [key], {});\n",
              "          if (!dataTable) return;\n",
              "\n",
              "          const docLinkHtml = 'Like what you see? Visit the ' +\n",
              "            '<a target=\"_blank\" href=https://colab.research.google.com/notebooks/data_table.ipynb>data table notebook</a>'\n",
              "            + ' to learn more about interactive tables.';\n",
              "          element.innerHTML = '';\n",
              "          dataTable['output_type'] = 'display_data';\n",
              "          await google.colab.output.renderOutput(dataTable, element);\n",
              "          const docLink = document.createElement('div');\n",
              "          docLink.innerHTML = docLinkHtml;\n",
              "          element.appendChild(docLink);\n",
              "        }\n",
              "      </script>\n",
              "    </div>\n",
              "  </div>\n",
              "  "
            ]
          },
          "metadata": {},
          "execution_count": 134
        }
      ]
    },
    {
      "cell_type": "markdown",
      "source": [
        "# Mengexplore Dataset Tweet"
      ],
      "metadata": {
        "id": "3oglCA43ohRT"
      }
    },
    {
      "cell_type": "code",
      "source": [
        "#Melihat isi dari dataset\n",
        "dataset"
      ],
      "metadata": {
        "colab": {
          "base_uri": "https://localhost:8080/",
          "height": 0
        },
        "id": "UVI59_bVobPv",
        "outputId": "d4fabba7-d069-40ed-b8b0-260bc251893b"
      },
      "execution_count": 135,
      "outputs": [
        {
          "output_type": "execute_result",
          "data": {
            "text/plain": [
              "          id  keyword                 location  \\\n",
              "0          0   ablaze                      NaN   \n",
              "1          1   ablaze                      NaN   \n",
              "2          2   ablaze            New York City   \n",
              "3          3   ablaze           Morgantown, WV   \n",
              "4          4   ablaze                      NaN   \n",
              "...      ...      ...                      ...   \n",
              "11365  11365  wrecked  Blue State in a red sea   \n",
              "11366  11366  wrecked               arohaonces   \n",
              "11367  11367  wrecked                       🇵🇭   \n",
              "11368  11368  wrecked           auroraborealis   \n",
              "11369  11369  wrecked                      NaN   \n",
              "\n",
              "                                                    text  target  \n",
              "0      Communal violence in Bhainsa, Telangana. \"Ston...       1  \n",
              "1      Telangana: Section 144 has been imposed in Bha...       1  \n",
              "2      Arsonist sets cars ablaze at dealership https:...       1  \n",
              "3      Arsonist sets cars ablaze at dealership https:...       1  \n",
              "4      \"Lord Jesus, your love brings freedom and pard...       0  \n",
              "...                                                  ...     ...  \n",
              "11365  Media should have warned us well in advance. T...       0  \n",
              "11366  i feel directly attacked 💀 i consider moonbin ...       0  \n",
              "11367  i feel directly attacked 💀 i consider moonbin ...       0  \n",
              "11368  ok who remember \"outcast\" nd the \"dora\" au?? T...       0  \n",
              "11369     Jake Corway wrecked while running 14th at IRP.       1  \n",
              "\n",
              "[11370 rows x 5 columns]"
            ],
            "text/html": [
              "\n",
              "  <div id=\"df-8ba532c3-c624-4b80-aaae-d2c30edd9329\">\n",
              "    <div class=\"colab-df-container\">\n",
              "      <div>\n",
              "<style scoped>\n",
              "    .dataframe tbody tr th:only-of-type {\n",
              "        vertical-align: middle;\n",
              "    }\n",
              "\n",
              "    .dataframe tbody tr th {\n",
              "        vertical-align: top;\n",
              "    }\n",
              "\n",
              "    .dataframe thead th {\n",
              "        text-align: right;\n",
              "    }\n",
              "</style>\n",
              "<table border=\"1\" class=\"dataframe\">\n",
              "  <thead>\n",
              "    <tr style=\"text-align: right;\">\n",
              "      <th></th>\n",
              "      <th>id</th>\n",
              "      <th>keyword</th>\n",
              "      <th>location</th>\n",
              "      <th>text</th>\n",
              "      <th>target</th>\n",
              "    </tr>\n",
              "  </thead>\n",
              "  <tbody>\n",
              "    <tr>\n",
              "      <th>0</th>\n",
              "      <td>0</td>\n",
              "      <td>ablaze</td>\n",
              "      <td>NaN</td>\n",
              "      <td>Communal violence in Bhainsa, Telangana. \"Ston...</td>\n",
              "      <td>1</td>\n",
              "    </tr>\n",
              "    <tr>\n",
              "      <th>1</th>\n",
              "      <td>1</td>\n",
              "      <td>ablaze</td>\n",
              "      <td>NaN</td>\n",
              "      <td>Telangana: Section 144 has been imposed in Bha...</td>\n",
              "      <td>1</td>\n",
              "    </tr>\n",
              "    <tr>\n",
              "      <th>2</th>\n",
              "      <td>2</td>\n",
              "      <td>ablaze</td>\n",
              "      <td>New York City</td>\n",
              "      <td>Arsonist sets cars ablaze at dealership https:...</td>\n",
              "      <td>1</td>\n",
              "    </tr>\n",
              "    <tr>\n",
              "      <th>3</th>\n",
              "      <td>3</td>\n",
              "      <td>ablaze</td>\n",
              "      <td>Morgantown, WV</td>\n",
              "      <td>Arsonist sets cars ablaze at dealership https:...</td>\n",
              "      <td>1</td>\n",
              "    </tr>\n",
              "    <tr>\n",
              "      <th>4</th>\n",
              "      <td>4</td>\n",
              "      <td>ablaze</td>\n",
              "      <td>NaN</td>\n",
              "      <td>\"Lord Jesus, your love brings freedom and pard...</td>\n",
              "      <td>0</td>\n",
              "    </tr>\n",
              "    <tr>\n",
              "      <th>...</th>\n",
              "      <td>...</td>\n",
              "      <td>...</td>\n",
              "      <td>...</td>\n",
              "      <td>...</td>\n",
              "      <td>...</td>\n",
              "    </tr>\n",
              "    <tr>\n",
              "      <th>11365</th>\n",
              "      <td>11365</td>\n",
              "      <td>wrecked</td>\n",
              "      <td>Blue State in a red sea</td>\n",
              "      <td>Media should have warned us well in advance. T...</td>\n",
              "      <td>0</td>\n",
              "    </tr>\n",
              "    <tr>\n",
              "      <th>11366</th>\n",
              "      <td>11366</td>\n",
              "      <td>wrecked</td>\n",
              "      <td>arohaonces</td>\n",
              "      <td>i feel directly attacked 💀 i consider moonbin ...</td>\n",
              "      <td>0</td>\n",
              "    </tr>\n",
              "    <tr>\n",
              "      <th>11367</th>\n",
              "      <td>11367</td>\n",
              "      <td>wrecked</td>\n",
              "      <td>🇵🇭</td>\n",
              "      <td>i feel directly attacked 💀 i consider moonbin ...</td>\n",
              "      <td>0</td>\n",
              "    </tr>\n",
              "    <tr>\n",
              "      <th>11368</th>\n",
              "      <td>11368</td>\n",
              "      <td>wrecked</td>\n",
              "      <td>auroraborealis</td>\n",
              "      <td>ok who remember \"outcast\" nd the \"dora\" au?? T...</td>\n",
              "      <td>0</td>\n",
              "    </tr>\n",
              "    <tr>\n",
              "      <th>11369</th>\n",
              "      <td>11369</td>\n",
              "      <td>wrecked</td>\n",
              "      <td>NaN</td>\n",
              "      <td>Jake Corway wrecked while running 14th at IRP.</td>\n",
              "      <td>1</td>\n",
              "    </tr>\n",
              "  </tbody>\n",
              "</table>\n",
              "<p>11370 rows × 5 columns</p>\n",
              "</div>\n",
              "      <button class=\"colab-df-convert\" onclick=\"convertToInteractive('df-8ba532c3-c624-4b80-aaae-d2c30edd9329')\"\n",
              "              title=\"Convert this dataframe to an interactive table.\"\n",
              "              style=\"display:none;\">\n",
              "        \n",
              "  <svg xmlns=\"http://www.w3.org/2000/svg\" height=\"24px\"viewBox=\"0 0 24 24\"\n",
              "       width=\"24px\">\n",
              "    <path d=\"M0 0h24v24H0V0z\" fill=\"none\"/>\n",
              "    <path d=\"M18.56 5.44l.94 2.06.94-2.06 2.06-.94-2.06-.94-.94-2.06-.94 2.06-2.06.94zm-11 1L8.5 8.5l.94-2.06 2.06-.94-2.06-.94L8.5 2.5l-.94 2.06-2.06.94zm10 10l.94 2.06.94-2.06 2.06-.94-2.06-.94-.94-2.06-.94 2.06-2.06.94z\"/><path d=\"M17.41 7.96l-1.37-1.37c-.4-.4-.92-.59-1.43-.59-.52 0-1.04.2-1.43.59L10.3 9.45l-7.72 7.72c-.78.78-.78 2.05 0 2.83L4 21.41c.39.39.9.59 1.41.59.51 0 1.02-.2 1.41-.59l7.78-7.78 2.81-2.81c.8-.78.8-2.07 0-2.86zM5.41 20L4 18.59l7.72-7.72 1.47 1.35L5.41 20z\"/>\n",
              "  </svg>\n",
              "      </button>\n",
              "      \n",
              "  <style>\n",
              "    .colab-df-container {\n",
              "      display:flex;\n",
              "      flex-wrap:wrap;\n",
              "      gap: 12px;\n",
              "    }\n",
              "\n",
              "    .colab-df-convert {\n",
              "      background-color: #E8F0FE;\n",
              "      border: none;\n",
              "      border-radius: 50%;\n",
              "      cursor: pointer;\n",
              "      display: none;\n",
              "      fill: #1967D2;\n",
              "      height: 32px;\n",
              "      padding: 0 0 0 0;\n",
              "      width: 32px;\n",
              "    }\n",
              "\n",
              "    .colab-df-convert:hover {\n",
              "      background-color: #E2EBFA;\n",
              "      box-shadow: 0px 1px 2px rgba(60, 64, 67, 0.3), 0px 1px 3px 1px rgba(60, 64, 67, 0.15);\n",
              "      fill: #174EA6;\n",
              "    }\n",
              "\n",
              "    [theme=dark] .colab-df-convert {\n",
              "      background-color: #3B4455;\n",
              "      fill: #D2E3FC;\n",
              "    }\n",
              "\n",
              "    [theme=dark] .colab-df-convert:hover {\n",
              "      background-color: #434B5C;\n",
              "      box-shadow: 0px 1px 3px 1px rgba(0, 0, 0, 0.15);\n",
              "      filter: drop-shadow(0px 1px 2px rgba(0, 0, 0, 0.3));\n",
              "      fill: #FFFFFF;\n",
              "    }\n",
              "  </style>\n",
              "\n",
              "      <script>\n",
              "        const buttonEl =\n",
              "          document.querySelector('#df-8ba532c3-c624-4b80-aaae-d2c30edd9329 button.colab-df-convert');\n",
              "        buttonEl.style.display =\n",
              "          google.colab.kernel.accessAllowed ? 'block' : 'none';\n",
              "\n",
              "        async function convertToInteractive(key) {\n",
              "          const element = document.querySelector('#df-8ba532c3-c624-4b80-aaae-d2c30edd9329');\n",
              "          const dataTable =\n",
              "            await google.colab.kernel.invokeFunction('convertToInteractive',\n",
              "                                                     [key], {});\n",
              "          if (!dataTable) return;\n",
              "\n",
              "          const docLinkHtml = 'Like what you see? Visit the ' +\n",
              "            '<a target=\"_blank\" href=https://colab.research.google.com/notebooks/data_table.ipynb>data table notebook</a>'\n",
              "            + ' to learn more about interactive tables.';\n",
              "          element.innerHTML = '';\n",
              "          dataTable['output_type'] = 'display_data';\n",
              "          await google.colab.output.renderOutput(dataTable, element);\n",
              "          const docLink = document.createElement('div');\n",
              "          docLink.innerHTML = docLinkHtml;\n",
              "          element.appendChild(docLink);\n",
              "        }\n",
              "      </script>\n",
              "    </div>\n",
              "  </div>\n",
              "  "
            ]
          },
          "metadata": {},
          "execution_count": 135
        }
      ]
    },
    {
      "cell_type": "code",
      "source": [
        "#Menampilkan statistik deskriptif mencakup statistik yang merangkum tendensi sentral, \n",
        "#dispersi, dan bentuk distribusi kumpulan data, tidak termasuk nilai NaN.\n",
        "dataset.describe(include=\"all\")"
      ],
      "metadata": {
        "colab": {
          "base_uri": "https://localhost:8080/",
          "height": 0
        },
        "id": "eVr0TXdHpyf5",
        "outputId": "c5640056-7d0e-4000-fc36-feeace200d5e"
      },
      "execution_count": 136,
      "outputs": [
        {
          "output_type": "execute_result",
          "data": {
            "text/plain": [
              "                  id       keyword       location  \\\n",
              "count   11370.000000         11370           7952   \n",
              "unique           NaN           219           4504   \n",
              "top              NaN  thunderstorm  United States   \n",
              "freq             NaN            93             96   \n",
              "mean     5684.500000           NaN            NaN   \n",
              "std      3282.380615           NaN            NaN   \n",
              "min         0.000000           NaN            NaN   \n",
              "25%      2842.250000           NaN            NaN   \n",
              "50%      5684.500000           NaN            NaN   \n",
              "75%      8526.750000           NaN            NaN   \n",
              "max     11369.000000           NaN            NaN   \n",
              "\n",
              "                                                     text        target  \n",
              "count                                               11370  11370.000000  \n",
              "unique                                              11223           NaN  \n",
              "top     I want to help you with my project to save the...           NaN  \n",
              "freq                                                    3           NaN  \n",
              "mean                                                  NaN      0.185928  \n",
              "std                                                   NaN      0.389066  \n",
              "min                                                   NaN      0.000000  \n",
              "25%                                                   NaN      0.000000  \n",
              "50%                                                   NaN      0.000000  \n",
              "75%                                                   NaN      0.000000  \n",
              "max                                                   NaN      1.000000  "
            ],
            "text/html": [
              "\n",
              "  <div id=\"df-29d03ee5-2abd-47e7-a02b-6a45feb64636\">\n",
              "    <div class=\"colab-df-container\">\n",
              "      <div>\n",
              "<style scoped>\n",
              "    .dataframe tbody tr th:only-of-type {\n",
              "        vertical-align: middle;\n",
              "    }\n",
              "\n",
              "    .dataframe tbody tr th {\n",
              "        vertical-align: top;\n",
              "    }\n",
              "\n",
              "    .dataframe thead th {\n",
              "        text-align: right;\n",
              "    }\n",
              "</style>\n",
              "<table border=\"1\" class=\"dataframe\">\n",
              "  <thead>\n",
              "    <tr style=\"text-align: right;\">\n",
              "      <th></th>\n",
              "      <th>id</th>\n",
              "      <th>keyword</th>\n",
              "      <th>location</th>\n",
              "      <th>text</th>\n",
              "      <th>target</th>\n",
              "    </tr>\n",
              "  </thead>\n",
              "  <tbody>\n",
              "    <tr>\n",
              "      <th>count</th>\n",
              "      <td>11370.000000</td>\n",
              "      <td>11370</td>\n",
              "      <td>7952</td>\n",
              "      <td>11370</td>\n",
              "      <td>11370.000000</td>\n",
              "    </tr>\n",
              "    <tr>\n",
              "      <th>unique</th>\n",
              "      <td>NaN</td>\n",
              "      <td>219</td>\n",
              "      <td>4504</td>\n",
              "      <td>11223</td>\n",
              "      <td>NaN</td>\n",
              "    </tr>\n",
              "    <tr>\n",
              "      <th>top</th>\n",
              "      <td>NaN</td>\n",
              "      <td>thunderstorm</td>\n",
              "      <td>United States</td>\n",
              "      <td>I want to help you with my project to save the...</td>\n",
              "      <td>NaN</td>\n",
              "    </tr>\n",
              "    <tr>\n",
              "      <th>freq</th>\n",
              "      <td>NaN</td>\n",
              "      <td>93</td>\n",
              "      <td>96</td>\n",
              "      <td>3</td>\n",
              "      <td>NaN</td>\n",
              "    </tr>\n",
              "    <tr>\n",
              "      <th>mean</th>\n",
              "      <td>5684.500000</td>\n",
              "      <td>NaN</td>\n",
              "      <td>NaN</td>\n",
              "      <td>NaN</td>\n",
              "      <td>0.185928</td>\n",
              "    </tr>\n",
              "    <tr>\n",
              "      <th>std</th>\n",
              "      <td>3282.380615</td>\n",
              "      <td>NaN</td>\n",
              "      <td>NaN</td>\n",
              "      <td>NaN</td>\n",
              "      <td>0.389066</td>\n",
              "    </tr>\n",
              "    <tr>\n",
              "      <th>min</th>\n",
              "      <td>0.000000</td>\n",
              "      <td>NaN</td>\n",
              "      <td>NaN</td>\n",
              "      <td>NaN</td>\n",
              "      <td>0.000000</td>\n",
              "    </tr>\n",
              "    <tr>\n",
              "      <th>25%</th>\n",
              "      <td>2842.250000</td>\n",
              "      <td>NaN</td>\n",
              "      <td>NaN</td>\n",
              "      <td>NaN</td>\n",
              "      <td>0.000000</td>\n",
              "    </tr>\n",
              "    <tr>\n",
              "      <th>50%</th>\n",
              "      <td>5684.500000</td>\n",
              "      <td>NaN</td>\n",
              "      <td>NaN</td>\n",
              "      <td>NaN</td>\n",
              "      <td>0.000000</td>\n",
              "    </tr>\n",
              "    <tr>\n",
              "      <th>75%</th>\n",
              "      <td>8526.750000</td>\n",
              "      <td>NaN</td>\n",
              "      <td>NaN</td>\n",
              "      <td>NaN</td>\n",
              "      <td>0.000000</td>\n",
              "    </tr>\n",
              "    <tr>\n",
              "      <th>max</th>\n",
              "      <td>11369.000000</td>\n",
              "      <td>NaN</td>\n",
              "      <td>NaN</td>\n",
              "      <td>NaN</td>\n",
              "      <td>1.000000</td>\n",
              "    </tr>\n",
              "  </tbody>\n",
              "</table>\n",
              "</div>\n",
              "      <button class=\"colab-df-convert\" onclick=\"convertToInteractive('df-29d03ee5-2abd-47e7-a02b-6a45feb64636')\"\n",
              "              title=\"Convert this dataframe to an interactive table.\"\n",
              "              style=\"display:none;\">\n",
              "        \n",
              "  <svg xmlns=\"http://www.w3.org/2000/svg\" height=\"24px\"viewBox=\"0 0 24 24\"\n",
              "       width=\"24px\">\n",
              "    <path d=\"M0 0h24v24H0V0z\" fill=\"none\"/>\n",
              "    <path d=\"M18.56 5.44l.94 2.06.94-2.06 2.06-.94-2.06-.94-.94-2.06-.94 2.06-2.06.94zm-11 1L8.5 8.5l.94-2.06 2.06-.94-2.06-.94L8.5 2.5l-.94 2.06-2.06.94zm10 10l.94 2.06.94-2.06 2.06-.94-2.06-.94-.94-2.06-.94 2.06-2.06.94z\"/><path d=\"M17.41 7.96l-1.37-1.37c-.4-.4-.92-.59-1.43-.59-.52 0-1.04.2-1.43.59L10.3 9.45l-7.72 7.72c-.78.78-.78 2.05 0 2.83L4 21.41c.39.39.9.59 1.41.59.51 0 1.02-.2 1.41-.59l7.78-7.78 2.81-2.81c.8-.78.8-2.07 0-2.86zM5.41 20L4 18.59l7.72-7.72 1.47 1.35L5.41 20z\"/>\n",
              "  </svg>\n",
              "      </button>\n",
              "      \n",
              "  <style>\n",
              "    .colab-df-container {\n",
              "      display:flex;\n",
              "      flex-wrap:wrap;\n",
              "      gap: 12px;\n",
              "    }\n",
              "\n",
              "    .colab-df-convert {\n",
              "      background-color: #E8F0FE;\n",
              "      border: none;\n",
              "      border-radius: 50%;\n",
              "      cursor: pointer;\n",
              "      display: none;\n",
              "      fill: #1967D2;\n",
              "      height: 32px;\n",
              "      padding: 0 0 0 0;\n",
              "      width: 32px;\n",
              "    }\n",
              "\n",
              "    .colab-df-convert:hover {\n",
              "      background-color: #E2EBFA;\n",
              "      box-shadow: 0px 1px 2px rgba(60, 64, 67, 0.3), 0px 1px 3px 1px rgba(60, 64, 67, 0.15);\n",
              "      fill: #174EA6;\n",
              "    }\n",
              "\n",
              "    [theme=dark] .colab-df-convert {\n",
              "      background-color: #3B4455;\n",
              "      fill: #D2E3FC;\n",
              "    }\n",
              "\n",
              "    [theme=dark] .colab-df-convert:hover {\n",
              "      background-color: #434B5C;\n",
              "      box-shadow: 0px 1px 3px 1px rgba(0, 0, 0, 0.15);\n",
              "      filter: drop-shadow(0px 1px 2px rgba(0, 0, 0, 0.3));\n",
              "      fill: #FFFFFF;\n",
              "    }\n",
              "  </style>\n",
              "\n",
              "      <script>\n",
              "        const buttonEl =\n",
              "          document.querySelector('#df-29d03ee5-2abd-47e7-a02b-6a45feb64636 button.colab-df-convert');\n",
              "        buttonEl.style.display =\n",
              "          google.colab.kernel.accessAllowed ? 'block' : 'none';\n",
              "\n",
              "        async function convertToInteractive(key) {\n",
              "          const element = document.querySelector('#df-29d03ee5-2abd-47e7-a02b-6a45feb64636');\n",
              "          const dataTable =\n",
              "            await google.colab.kernel.invokeFunction('convertToInteractive',\n",
              "                                                     [key], {});\n",
              "          if (!dataTable) return;\n",
              "\n",
              "          const docLinkHtml = 'Like what you see? Visit the ' +\n",
              "            '<a target=\"_blank\" href=https://colab.research.google.com/notebooks/data_table.ipynb>data table notebook</a>'\n",
              "            + ' to learn more about interactive tables.';\n",
              "          element.innerHTML = '';\n",
              "          dataTable['output_type'] = 'display_data';\n",
              "          await google.colab.output.renderOutput(dataTable, element);\n",
              "          const docLink = document.createElement('div');\n",
              "          docLink.innerHTML = docLinkHtml;\n",
              "          element.appendChild(docLink);\n",
              "        }\n",
              "      </script>\n",
              "    </div>\n",
              "  </div>\n",
              "  "
            ]
          },
          "metadata": {},
          "execution_count": 136
        }
      ]
    },
    {
      "cell_type": "code",
      "source": [
        "#Mencetak informasi tentang DataFrame termasuk indeks dtype dan kolom, \n",
        "#nilai non-null dan penggunaan memori.\n",
        "dataset.info()"
      ],
      "metadata": {
        "colab": {
          "base_uri": "https://localhost:8080/"
        },
        "id": "t9iS18QHqpQw",
        "outputId": "4cfb9cbc-4b41-4069-807c-d62ae6f6f024"
      },
      "execution_count": 137,
      "outputs": [
        {
          "output_type": "stream",
          "name": "stdout",
          "text": [
            "<class 'pandas.core.frame.DataFrame'>\n",
            "RangeIndex: 11370 entries, 0 to 11369\n",
            "Data columns (total 5 columns):\n",
            " #   Column    Non-Null Count  Dtype \n",
            "---  ------    --------------  ----- \n",
            " 0   id        11370 non-null  int64 \n",
            " 1   keyword   11370 non-null  object\n",
            " 2   location  7952 non-null   object\n",
            " 3   text      11370 non-null  object\n",
            " 4   target    11370 non-null  int64 \n",
            "dtypes: int64(2), object(3)\n",
            "memory usage: 444.3+ KB\n"
          ]
        }
      ]
    },
    {
      "cell_type": "code",
      "source": [
        "#Memvisualisasikan nilai-nilai yang hilang pada dataset\n",
        "#Terlihat feature location banyak yang kosong.\n",
        "\n",
        "ax, fig = plt.subplots(figsize=(5,5))\n",
        "ax = sns.heatmap(dataset.isna(),yticklabels=False,cbar=False,cmap='BuGn_r', alpha = 0.9)\n",
        "plt.xticks(rotation = 45, ha=\"right\")\n",
        "plt.tight_layout()"
      ],
      "metadata": {
        "colab": {
          "base_uri": "https://localhost:8080/",
          "height": 0
        },
        "id": "GlqoHjRUrF63",
        "outputId": "8d28cfdd-70c1-4384-c982-1dd39721c3e4"
      },
      "execution_count": 138,
      "outputs": [
        {
          "output_type": "display_data",
          "data": {
            "text/plain": [
              "<Figure size 360x360 with 1 Axes>"
            ],
            "image/png": "[encoded data removed]"
          },
          "metadata": {
            "needs_background": "light"
          }
        }
      ]
    },
    {
      "cell_type": "markdown",
      "source": [
        "# Menganalisis Feature Dataset Tweet"
      ],
      "metadata": {
        "id": "naas1MGZsUxv"
      }
    },
    {
      "cell_type": "markdown",
      "source": [
        "**Feature ID**"
      ],
      "metadata": {
        "id": "T8hjfi2-v913"
      }
    },
    {
      "cell_type": "code",
      "source": [
        "#ID tidak memiliki relasi dengan feature Target, feature ini akan dihapus.\n",
        "dataset[\"id\"]"
      ],
      "metadata": {
        "id": "O3qWx5JbsjGA",
        "colab": {
          "base_uri": "https://localhost:8080/"
        },
        "outputId": "e4b7a242-e610-4b53-e743-760bbd6e37a8"
      },
      "execution_count": 139,
      "outputs": [
        {
          "output_type": "execute_result",
          "data": {
            "text/plain": [
              "0            0\n",
              "1            1\n",
              "2            2\n",
              "3            3\n",
              "4            4\n",
              "         ...  \n",
              "11365    11365\n",
              "11366    11366\n",
              "11367    11367\n",
              "11368    11368\n",
              "11369    11369\n",
              "Name: id, Length: 11370, dtype: int64"
            ]
          },
          "metadata": {},
          "execution_count": 139
        }
      ]
    },
    {
      "cell_type": "code",
      "source": [
        "dataset = dataset.drop(\"id\", axis='columns')"
      ],
      "metadata": {
        "id": "WBcf-eRgh5Vn"
      },
      "execution_count": 140,
      "outputs": []
    },
    {
      "cell_type": "markdown",
      "source": [
        "**Feature KEYWORD**"
      ],
      "metadata": {
        "id": "RzWnqLn4wBOm"
      }
    },
    {
      "cell_type": "code",
      "source": [
        "#Keyword terbanyak adalah thunderstorm, dan disini terlihat ada 219 nilai keyword\n",
        "dataset[\"keyword\"].describe()"
      ],
      "metadata": {
        "id": "b-e07oXTv2Cg",
        "colab": {
          "base_uri": "https://localhost:8080/"
        },
        "outputId": "e150076b-3990-4845-d09f-dc2a85f6da84"
      },
      "execution_count": 141,
      "outputs": [
        {
          "output_type": "execute_result",
          "data": {
            "text/plain": [
              "count            11370\n",
              "unique             219\n",
              "top       thunderstorm\n",
              "freq                93\n",
              "Name: keyword, dtype: object"
            ]
          },
          "metadata": {},
          "execution_count": 141
        }
      ]
    },
    {
      "cell_type": "code",
      "source": [
        "#Melihat beberapa kelompok nilai yang ada pada feature keyword.\n",
        "dataset[~dataset[\"keyword\"].isna()][\"keyword\"].unique().tolist()[:30]"
      ],
      "metadata": {
        "id": "ndIamyjmub9n",
        "colab": {
          "base_uri": "https://localhost:8080/"
        },
        "outputId": "5471c559-7625-451b-a56c-a432e15b26dd"
      },
      "execution_count": 142,
      "outputs": [
        {
          "output_type": "execute_result",
          "data": {
            "text/plain": [
              "['ablaze',\n",
              " 'accident',\n",
              " 'aftershock',\n",
              " 'airplane%20accident',\n",
              " 'ambulance',\n",
              " 'annihilated',\n",
              " 'annihilation',\n",
              " 'apocalypse',\n",
              " 'armageddon',\n",
              " 'army',\n",
              " 'arson',\n",
              " 'arsonist',\n",
              " 'attack',\n",
              " 'attacked',\n",
              " 'avalanche',\n",
              " 'battle',\n",
              " 'bioterror',\n",
              " 'bioterrorism',\n",
              " 'blaze',\n",
              " 'blazing',\n",
              " 'bleeding',\n",
              " 'blew%20up',\n",
              " 'blight',\n",
              " 'blizzard',\n",
              " 'blood',\n",
              " 'bloody',\n",
              " 'blown%20up',\n",
              " 'body%20bag',\n",
              " 'body%20bagging',\n",
              " 'body%20bags']"
            ]
          },
          "metadata": {},
          "execution_count": 142
        }
      ]
    },
    {
      "cell_type": "markdown",
      "source": [
        "**Feature LOCATION**"
      ],
      "metadata": {
        "id": "RGwcWu3m0PV6"
      }
    },
    {
      "cell_type": "code",
      "source": [
        "#Location terbanyak adalah United States, dan disini terlihat ada 4504 nilai Location\n",
        "dataset[\"location\"].describe()"
      ],
      "metadata": {
        "colab": {
          "base_uri": "https://localhost:8080/"
        },
        "id": "YBQH_UT_0TuR",
        "outputId": "0b184e80-c3dd-4f66-b6cc-74f8532fda17"
      },
      "execution_count": 143,
      "outputs": [
        {
          "output_type": "execute_result",
          "data": {
            "text/plain": [
              "count              7952\n",
              "unique             4504\n",
              "top       United States\n",
              "freq                 96\n",
              "Name: location, dtype: object"
            ]
          },
          "metadata": {},
          "execution_count": 143
        }
      ]
    },
    {
      "cell_type": "code",
      "source": [
        "#Melihat julah nilai yang hilang, dan terlihat 30% kosong\n",
        "dataset[\"location\"].isna().value_counts(normalize=True)*100"
      ],
      "metadata": {
        "colab": {
          "base_uri": "https://localhost:8080/"
        },
        "id": "ZAkj76d-0HbH",
        "outputId": "ca39f98f-de7c-4506-f578-a10bd3a578f7"
      },
      "execution_count": 144,
      "outputs": [
        {
          "output_type": "execute_result",
          "data": {
            "text/plain": [
              "False    69.938434\n",
              "True     30.061566\n",
              "Name: location, dtype: float64"
            ]
          },
          "metadata": {},
          "execution_count": 144
        }
      ]
    },
    {
      "cell_type": "code",
      "source": [
        "#Melihat beberapa kelompok nilai yang ada pada feature location.\n",
        "#Feature ini terdapat symbol, char yang tidak konsisten menunjukan tempat (location)\n",
        "dataset[~dataset[\"location\"].isna()][\"location\"].values.tolist()[:30]"
      ],
      "metadata": {
        "colab": {
          "base_uri": "https://localhost:8080/"
        },
        "id": "G8ICR7uD01T_",
        "outputId": "51992a2c-437f-457f-b544-5adbd096032f"
      },
      "execution_count": 145,
      "outputs": [
        {
          "output_type": "execute_result",
          "data": {
            "text/plain": [
              "['New York City',\n",
              " 'Morgantown, WV',\n",
              " 'OC',\n",
              " 'London, England',\n",
              " 'Bharat',\n",
              " 'Accra, Ghana',\n",
              " 'Searching',\n",
              " 'HYDERABAD',\n",
              " 'Reno, NV',\n",
              " 'Worldwide',\n",
              " 'Italy',\n",
              " \"` ˗ˏˋ i'm⠀waiting⠀for⠀you⠀to⠀pour⠀my⠀𝘀𝗶𝗻𝘀⠀onto⠀me⠀;⠀call⠀me⠀your⠀𝘭𝘰𝘷𝘦𝘳⠀whispering⠀hymns⠀to⠀my⠀ear⠀,⠀crucify⠀me⠀in⠀claims⠀of⠀praising⠀me .\",\n",
              " 'Okielahoma',\n",
              " 'Havana 3am',\n",
              " 'Washington, DC',\n",
              " 'India',\n",
              " 'Salta, Argentina',\n",
              " 'Wherever socks go in the dryer',\n",
              " 'Kuala Lumpur',\n",
              " 'Sydney, New South Wales',\n",
              " 'Nigeria',\n",
              " 'Davanagere, India ',\n",
              " 'Lyndhurst, OH',\n",
              " 'Covina, Ca',\n",
              " 'Colorado, Brighton',\n",
              " 'North Carolina, USA',\n",
              " 'kurger bing',\n",
              " 'Faridabad, India',\n",
              " '60',\n",
              " 'ngovhela Mahunguni']"
            ]
          },
          "metadata": {},
          "execution_count": 145
        }
      ]
    },
    {
      "cell_type": "markdown",
      "source": [
        "**Feature TEXT**"
      ],
      "metadata": {
        "id": "A2Y73m0Qw-oi"
      }
    },
    {
      "cell_type": "code",
      "source": [
        "#Melihat nilai feature text.\n",
        "#Terlihat nilai test berisi link url, emoji, symbol, escape char, tab, dll yang perlu dihilangkan.\n",
        "dataset[\"text\"].values.tolist()[:30]"
      ],
      "metadata": {
        "id": "y_3A0D4MxjDi",
        "colab": {
          "base_uri": "https://localhost:8080/"
        },
        "outputId": "726d40b8-2374-4163-abc1-3df965663f42"
      },
      "execution_count": 146,
      "outputs": [
        {
          "output_type": "execute_result",
          "data": {
            "text/plain": [
              "['Communal violence in Bhainsa, Telangana. \"Stones were pelted on Muslims\\' houses and some houses and vehicles were set ablaze…',\n",
              " 'Telangana: Section 144 has been imposed in Bhainsa from January 13 to 15, after clash erupted between two groups on January 12. Po…',\n",
              " 'Arsonist sets cars ablaze at dealership https://t.co/gOQvyJbpVI',\n",
              " 'Arsonist sets cars ablaze at dealership https://t.co/0gL7NUCPlb https://t.co/u1CcBhOWh9',\n",
              " '\"Lord Jesus, your love brings freedom and pardon. Fill me with your Holy Spirit and set my heart ablaze with your l… https://t.co/VlTznnPNi8',\n",
              " 'If this child was Chinese, this tweet would have gone viral. Social media would be ablaze. SNL would have made a racist j…',\n",
              " 'Several houses have been set ablaze in Ngemsibaa village, Oku sub division in the North West Region of Cameroon by… https://t.co/99uHGAzxy2',\n",
              " 'Asansol: A BJP office in Salanpur village was set ablaze last night. BJP has alleged that TMC is behind the incident. Police has b…',\n",
              " \"National Security Minister, Kan Dapaah's side chic has set the internet ablaze with her latest powerful video.… https://t.co/rhzOMQVSlj\",\n",
              " 'This creature who’s soul is no longer clarent but blue ablaze This thing Carrying memories Memories of… https://t.co/tBKSNDrDoX',\n",
              " 'Images showing the havoc caused by the #Cameroon military as they torched houses in #Oku.The shameless military is reported…',\n",
              " 'Social media went bananas after Chuba Hubbard announced Monday evening his plans to return to #okstate. https://t.co/peN…',\n",
              " 'Hausa youths set Area Office of Apapa-Iganmu Local Council Development Area ablaze. Okada Riders stormed the LG area office…',\n",
              " 'Under #MamataBanerjee political violence &amp; vandalism continues to unabated in West Bengal! office in Asanol was…',\n",
              " 'AMEN! Set the whole system ablaze, man. https://t.co/J08xHDcGbD',\n",
              " 'Images showing the havoc caused by the #Cameroon military as they torched houses in #Oku.The shameless military is… https://t.co/gIwZCH533D',\n",
              " 'No cows today but our local factory is sadly still ablaze #REDJanuary2020 https://t.co/CMyuKzrcKz',\n",
              " 'Rengoku sets my heart ablaze😔❤️🔥 P.s. I missed this style of coloring I do so here it is c: #鬼滅の刃 https://t.co/YrUF9g68s0',\n",
              " 'paulzizkaphoto: “Rundle Ablaze” Wishing you all a good evening... https://t.co/d0NlME1HQz https://t.co/hlVlT6qiIp',\n",
              " 'French cameroun set houses ablaze in Ndu and roasted two young boys in their homes in #targeted killings in a #GenocideInSou…',\n",
              " \"Cameroon's #BIR soldiers on the 05/01/2020 invaded the #SouthernCameroons Village of Kimar - So setting ablaze a total of…\",\n",
              " 'As fires ablaze throughout the land/as the prophosized apocalypse comes to fruition/not a building standing/as we all come st…',\n",
              " '#ThankfulTuesday Isaiah 43:2 When you pass through the waters, I will be with you; and when you pass through the r… https://t.co/jEp3L1oU36',\n",
              " '⠀⠀When you walk through the fire, ⠀⠀you will not be scorched, and the ⠀⠀flames will not set you ablaze. ──── product…',\n",
              " \"Originally they were intended to be fired at boarders or the opposing ship's crew from gunners in the ships's riggi… https://t.co/z5vPwuyBCL\",\n",
              " \"Warm greetings to all on the occasion of #Lohri. As winter passes by may everyone's woes and troubles be set ablaze in t…\",\n",
              " 'Another arson in Njikom,Boyo,NWR. The ambazombies yesterday 13/1/2020 set ablaze the Council building. Which country in the wo…',\n",
              " 'Another public market in #Haiti mysteriously set ablaze. The independent merchants, who are overwhelmingly women, become…',\n",
              " 'that is kind true sadly',\n",
              " 'I swear that jam will set the world ablaze']"
            ]
          },
          "metadata": {},
          "execution_count": 146
        }
      ]
    },
    {
      "cell_type": "markdown",
      "source": [
        "**Feature TARGET**"
      ],
      "metadata": {
        "id": "yILbx5ui2J3R"
      }
    },
    {
      "cell_type": "code",
      "source": [
        "#Melihat jumlah dan perbandingan feature target\n",
        "dataset[\"target\"].value_counts()"
      ],
      "metadata": {
        "colab": {
          "base_uri": "https://localhost:8080/"
        },
        "id": "IJ-OPS-I2fAv",
        "outputId": "50ca8dd6-c8f6-4673-bf89-ff8b9821e55e"
      },
      "execution_count": 147,
      "outputs": [
        {
          "output_type": "execute_result",
          "data": {
            "text/plain": [
              "0    9256\n",
              "1    2114\n",
              "Name: target, dtype: int64"
            ]
          },
          "metadata": {},
          "execution_count": 147
        }
      ]
    },
    {
      "cell_type": "code",
      "source": [
        "#Terlihat 18,59% tweet merupakan Disaster (Bencana)\n",
        "dataset[\"target\"].value_counts(normalize=True)*100"
      ],
      "metadata": {
        "colab": {
          "base_uri": "https://localhost:8080/"
        },
        "id": "Z0lkaYxT2LgP",
        "outputId": "f28769f7-bd9d-4db4-dcc1-ba5aaa71ed76"
      },
      "execution_count": 148,
      "outputs": [
        {
          "output_type": "execute_result",
          "data": {
            "text/plain": [
              "0    81.407212\n",
              "1    18.592788\n",
              "Name: target, dtype: float64"
            ]
          },
          "metadata": {},
          "execution_count": 148
        }
      ]
    },
    {
      "cell_type": "markdown",
      "source": [
        "# Preprocessing Dataset"
      ],
      "metadata": {
        "id": "X6xFI68r3715"
      }
    },
    {
      "cell_type": "code",
      "source": [
        "#Membuat Fungsi untuk menghapus URL, emoji, html dan tanda baca.\n",
        "\n",
        "#Refensi: https://stackoverflow.com/questions/24399820/expression-to-remove-url-links-from-twitter-tweet\n",
        "def hapus_URL(text):\n",
        "    url = re.compile(r'https?://\\S+|www\\.\\S+')\n",
        "    return url.sub(r'', text)\n",
        "\n",
        "#Referensi: https://stackoverflow.com/questions/33404752/removing-emojis-from-a-string-in-python\n",
        "def hapus_emoji(text):\n",
        "    emoji_pattern = re.compile(\n",
        "        '['\n",
        "        u'\\U0001F600-\\U0001F64F'  # Kode Emoticon\n",
        "        u'\\U0001F300-\\U0001F5FF'  # Kode symbols & pictograph\n",
        "        u'\\U0001F680-\\U0001F6FF'  # Kode transport & map symbols\n",
        "        u'\\U0001F1E0-\\U0001F1FF'  # Kode flags (iOS)\n",
        "        u'\\U00002702-\\U000027B0'\n",
        "        u'\\U000024C2-\\U0001F251'\n",
        "        ']+',\n",
        "        flags=re.UNICODE)\n",
        "    return emoji_pattern.sub(r'', text)\n",
        "\n",
        "#Referensi: https://stackoverflow.com/questions/9662346/python-code-to-remove-html-tags-from-a-string\n",
        "def hapus_html(text):\n",
        "    html = re.compile(r'<.*?>|&([a-z0-9]+|#[0-9]{1,6}|#x[0-9a-f]{1,6});')\n",
        "    return re.sub(html, '', text)\n",
        "\n",
        "#Referensi: https://stackoverflow.com/questions/265960/best-way-to-strip-punctuation-from-a-string\n",
        "def hapus_tandaBaca(text):\n",
        "    table = str.maketrans('', '', string.punctuation)\n",
        "    return text.translate(table)"
      ],
      "metadata": {
        "id": "V0yTVG3A4HhR"
      },
      "execution_count": 149,
      "outputs": []
    },
    {
      "cell_type": "code",
      "source": [
        "# Menerapkan Fungsi untuk menghapus URL, emoji, html dan tanda baca\n",
        "# Output berupa field baru bernama clean_text\n",
        "dataset['clean_text'] = dataset['text'].apply(lambda x: hapus_URL(x))\n",
        "dataset['clean_text'] = dataset['clean_text'].apply(lambda x: hapus_emoji(x))\n",
        "dataset['clean_text'] = dataset['clean_text'].apply(lambda x: hapus_html(x))\n",
        "dataset['clean_text'] = dataset['clean_text'].apply(lambda x: hapus_tandaBaca(x))\n",
        "\n",
        "dataset.head()"
      ],
      "metadata": {
        "colab": {
          "base_uri": "https://localhost:8080/",
          "height": 0
        },
        "id": "2csblF7r6fF3",
        "outputId": "e29ecbfe-b6a6-406f-f1f8-7e17334ec924"
      },
      "execution_count": 150,
      "outputs": [
        {
          "output_type": "execute_result",
          "data": {
            "text/plain": [
              "  keyword        location                                               text  \\\n",
              "0  ablaze             NaN  Communal violence in Bhainsa, Telangana. \"Ston...   \n",
              "1  ablaze             NaN  Telangana: Section 144 has been imposed in Bha...   \n",
              "2  ablaze   New York City  Arsonist sets cars ablaze at dealership https:...   \n",
              "3  ablaze  Morgantown, WV  Arsonist sets cars ablaze at dealership https:...   \n",
              "4  ablaze             NaN  \"Lord Jesus, your love brings freedom and pard...   \n",
              "\n",
              "   target                                         clean_text  \n",
              "0       1  Communal violence in Bhainsa Telangana Stones ...  \n",
              "1       1  Telangana Section 144 has been imposed in Bhai...  \n",
              "2       1           Arsonist sets cars ablaze at dealership   \n",
              "3       1          Arsonist sets cars ablaze at dealership    \n",
              "4       0  Lord Jesus your love brings freedom and pardon...  "
            ],
            "text/html": [
              "\n",
              "  <div id=\"df-755d0d5f-d0e9-47bc-ad23-81b95ce29c26\">\n",
              "    <div class=\"colab-df-container\">\n",
              "      <div>\n",
              "<style scoped>\n",
              "    .dataframe tbody tr th:only-of-type {\n",
              "        vertical-align: middle;\n",
              "    }\n",
              "\n",
              "    .dataframe tbody tr th {\n",
              "        vertical-align: top;\n",
              "    }\n",
              "\n",
              "    .dataframe thead th {\n",
              "        text-align: right;\n",
              "    }\n",
              "</style>\n",
              "<table border=\"1\" class=\"dataframe\">\n",
              "  <thead>\n",
              "    <tr style=\"text-align: right;\">\n",
              "      <th></th>\n",
              "      <th>keyword</th>\n",
              "      <th>location</th>\n",
              "      <th>text</th>\n",
              "      <th>target</th>\n",
              "      <th>clean_text</th>\n",
              "    </tr>\n",
              "  </thead>\n",
              "  <tbody>\n",
              "    <tr>\n",
              "      <th>0</th>\n",
              "      <td>ablaze</td>\n",
              "      <td>NaN</td>\n",
              "      <td>Communal violence in Bhainsa, Telangana. \"Ston...</td>\n",
              "      <td>1</td>\n",
              "      <td>Communal violence in Bhainsa Telangana Stones ...</td>\n",
              "    </tr>\n",
              "    <tr>\n",
              "      <th>1</th>\n",
              "      <td>ablaze</td>\n",
              "      <td>NaN</td>\n",
              "      <td>Telangana: Section 144 has been imposed in Bha...</td>\n",
              "      <td>1</td>\n",
              "      <td>Telangana Section 144 has been imposed in Bhai...</td>\n",
              "    </tr>\n",
              "    <tr>\n",
              "      <th>2</th>\n",
              "      <td>ablaze</td>\n",
              "      <td>New York City</td>\n",
              "      <td>Arsonist sets cars ablaze at dealership https:...</td>\n",
              "      <td>1</td>\n",
              "      <td>Arsonist sets cars ablaze at dealership</td>\n",
              "    </tr>\n",
              "    <tr>\n",
              "      <th>3</th>\n",
              "      <td>ablaze</td>\n",
              "      <td>Morgantown, WV</td>\n",
              "      <td>Arsonist sets cars ablaze at dealership https:...</td>\n",
              "      <td>1</td>\n",
              "      <td>Arsonist sets cars ablaze at dealership</td>\n",
              "    </tr>\n",
              "    <tr>\n",
              "      <th>4</th>\n",
              "      <td>ablaze</td>\n",
              "      <td>NaN</td>\n",
              "      <td>\"Lord Jesus, your love brings freedom and pard...</td>\n",
              "      <td>0</td>\n",
              "      <td>Lord Jesus your love brings freedom and pardon...</td>\n",
              "    </tr>\n",
              "  </tbody>\n",
              "</table>\n",
              "</div>\n",
              "      <button class=\"colab-df-convert\" onclick=\"convertToInteractive('df-755d0d5f-d0e9-47bc-ad23-81b95ce29c26')\"\n",
              "              title=\"Convert this dataframe to an interactive table.\"\n",
              "              style=\"display:none;\">\n",
              "        \n",
              "  <svg xmlns=\"http://www.w3.org/2000/svg\" height=\"24px\"viewBox=\"0 0 24 24\"\n",
              "       width=\"24px\">\n",
              "    <path d=\"M0 0h24v24H0V0z\" fill=\"none\"/>\n",
              "    <path d=\"M18.56 5.44l.94 2.06.94-2.06 2.06-.94-2.06-.94-.94-2.06-.94 2.06-2.06.94zm-11 1L8.5 8.5l.94-2.06 2.06-.94-2.06-.94L8.5 2.5l-.94 2.06-2.06.94zm10 10l.94 2.06.94-2.06 2.06-.94-2.06-.94-.94-2.06-.94 2.06-2.06.94z\"/><path d=\"M17.41 7.96l-1.37-1.37c-.4-.4-.92-.59-1.43-.59-.52 0-1.04.2-1.43.59L10.3 9.45l-7.72 7.72c-.78.78-.78 2.05 0 2.83L4 21.41c.39.39.9.59 1.41.59.51 0 1.02-.2 1.41-.59l7.78-7.78 2.81-2.81c.8-.78.8-2.07 0-2.86zM5.41 20L4 18.59l7.72-7.72 1.47 1.35L5.41 20z\"/>\n",
              "  </svg>\n",
              "      </button>\n",
              "      \n",
              "  <style>\n",
              "    .colab-df-container {\n",
              "      display:flex;\n",
              "      flex-wrap:wrap;\n",
              "      gap: 12px;\n",
              "    }\n",
              "\n",
              "    .colab-df-convert {\n",
              "      background-color: #E8F0FE;\n",
              "      border: none;\n",
              "      border-radius: 50%;\n",
              "      cursor: pointer;\n",
              "      display: none;\n",
              "      fill: #1967D2;\n",
              "      height: 32px;\n",
              "      padding: 0 0 0 0;\n",
              "      width: 32px;\n",
              "    }\n",
              "\n",
              "    .colab-df-convert:hover {\n",
              "      background-color: #E2EBFA;\n",
              "      box-shadow: 0px 1px 2px rgba(60, 64, 67, 0.3), 0px 1px 3px 1px rgba(60, 64, 67, 0.15);\n",
              "      fill: #174EA6;\n",
              "    }\n",
              "\n",
              "    [theme=dark] .colab-df-convert {\n",
              "      background-color: #3B4455;\n",
              "      fill: #D2E3FC;\n",
              "    }\n",
              "\n",
              "    [theme=dark] .colab-df-convert:hover {\n",
              "      background-color: #434B5C;\n",
              "      box-shadow: 0px 1px 3px 1px rgba(0, 0, 0, 0.15);\n",
              "      filter: drop-shadow(0px 1px 2px rgba(0, 0, 0, 0.3));\n",
              "      fill: #FFFFFF;\n",
              "    }\n",
              "  </style>\n",
              "\n",
              "      <script>\n",
              "        const buttonEl =\n",
              "          document.querySelector('#df-755d0d5f-d0e9-47bc-ad23-81b95ce29c26 button.colab-df-convert');\n",
              "        buttonEl.style.display =\n",
              "          google.colab.kernel.accessAllowed ? 'block' : 'none';\n",
              "\n",
              "        async function convertToInteractive(key) {\n",
              "          const element = document.querySelector('#df-755d0d5f-d0e9-47bc-ad23-81b95ce29c26');\n",
              "          const dataTable =\n",
              "            await google.colab.kernel.invokeFunction('convertToInteractive',\n",
              "                                                     [key], {});\n",
              "          if (!dataTable) return;\n",
              "\n",
              "          const docLinkHtml = 'Like what you see? Visit the ' +\n",
              "            '<a target=\"_blank\" href=https://colab.research.google.com/notebooks/data_table.ipynb>data table notebook</a>'\n",
              "            + ' to learn more about interactive tables.';\n",
              "          element.innerHTML = '';\n",
              "          dataTable['output_type'] = 'display_data';\n",
              "          await google.colab.output.renderOutput(dataTable, element);\n",
              "          const docLink = document.createElement('div');\n",
              "          docLink.innerHTML = docLinkHtml;\n",
              "          element.appendChild(docLink);\n",
              "        }\n",
              "      </script>\n",
              "    </div>\n",
              "  </div>\n",
              "  "
            ]
          },
          "metadata": {},
          "execution_count": 150
        }
      ]
    },
    {
      "cell_type": "code",
      "source": [
        "#Tokenized, Mengecilkan huruf dan menghilangkan stop_word pada field clean_text\n",
        "nltk.download('punkt')\n",
        "nltk.download('stopwords')\n",
        "\n",
        "#Referensi: https://www.geeksforgeeks.org/python-nltk-nltk-tokenizer-word_tokenize/\n",
        "dataset['tokenized'] = dataset['clean_text'].apply(word_tokenize)\n",
        "\n",
        "#Referensi: https://www.geeksforgeeks.org/isupper-islower-lower-upper-python-applications/\n",
        "dataset['lower'] = dataset['tokenized'].apply(\n",
        "    lambda x: [word.lower() for word in x])\n",
        "\n",
        "#Referensi: https://www.geeksforgeeks.org/removing-stop-words-nltk-python/\n",
        "dataset['no_stopwords'] = dataset['lower'].apply(\n",
        "    lambda x: [word for word in x if word not in set(nltk.corpus.stopwords.words('english'))])\n",
        "dataset['no_stopwords'] = [' '.join(map(str, l)) for l in dataset['no_stopwords']]\n",
        "\n",
        "\n",
        "dataset.head()"
      ],
      "metadata": {
        "id": "JZF1-45LpLFl",
        "colab": {
          "base_uri": "https://localhost:8080/",
          "height": 0
        },
        "outputId": "97166dbf-6744-4fe6-f578-a01a3a9fb06e"
      },
      "execution_count": 151,
      "outputs": [
        {
          "output_type": "stream",
          "name": "stderr",
          "text": [
            "[nltk_data] Downloading package punkt to /root/nltk_data...\n",
            "[nltk_data]   Package punkt is already up-to-date!\n",
            "[nltk_data] Downloading package stopwords to /root/nltk_data...\n",
            "[nltk_data]   Package stopwords is already up-to-date!\n"
          ]
        },
        {
          "output_type": "execute_result",
          "data": {
            "text/plain": [
              "  keyword        location                                               text  \\\n",
              "0  ablaze             NaN  Communal violence in Bhainsa, Telangana. \"Ston...   \n",
              "1  ablaze             NaN  Telangana: Section 144 has been imposed in Bha...   \n",
              "2  ablaze   New York City  Arsonist sets cars ablaze at dealership https:...   \n",
              "3  ablaze  Morgantown, WV  Arsonist sets cars ablaze at dealership https:...   \n",
              "4  ablaze             NaN  \"Lord Jesus, your love brings freedom and pard...   \n",
              "\n",
              "   target                                         clean_text  \\\n",
              "0       1  Communal violence in Bhainsa Telangana Stones ...   \n",
              "1       1  Telangana Section 144 has been imposed in Bhai...   \n",
              "2       1           Arsonist sets cars ablaze at dealership    \n",
              "3       1          Arsonist sets cars ablaze at dealership     \n",
              "4       0  Lord Jesus your love brings freedom and pardon...   \n",
              "\n",
              "                                           tokenized  \\\n",
              "0  [Communal, violence, in, Bhainsa, Telangana, S...   \n",
              "1  [Telangana, Section, 144, has, been, imposed, ...   \n",
              "2     [Arsonist, sets, cars, ablaze, at, dealership]   \n",
              "3     [Arsonist, sets, cars, ablaze, at, dealership]   \n",
              "4  [Lord, Jesus, your, love, brings, freedom, and...   \n",
              "\n",
              "                                               lower  \\\n",
              "0  [communal, violence, in, bhainsa, telangana, s...   \n",
              "1  [telangana, section, 144, has, been, imposed, ...   \n",
              "2     [arsonist, sets, cars, ablaze, at, dealership]   \n",
              "3     [arsonist, sets, cars, ablaze, at, dealership]   \n",
              "4  [lord, jesus, your, love, brings, freedom, and...   \n",
              "\n",
              "                                        no_stopwords  \n",
              "0  communal violence bhainsa telangana stones pel...  \n",
              "1  telangana section 144 imposed bhainsa january ...  \n",
              "2               arsonist sets cars ablaze dealership  \n",
              "3               arsonist sets cars ablaze dealership  \n",
              "4  lord jesus love brings freedom pardon fill hol...  "
            ],
            "text/html": [
              "\n",
              "  <div id=\"df-8686c172-a677-40ef-b2c9-1e4d4b337cc8\">\n",
              "    <div class=\"colab-df-container\">\n",
              "      <div>\n",
              "<style scoped>\n",
              "    .dataframe tbody tr th:only-of-type {\n",
              "        vertical-align: middle;\n",
              "    }\n",
              "\n",
              "    .dataframe tbody tr th {\n",
              "        vertical-align: top;\n",
              "    }\n",
              "\n",
              "    .dataframe thead th {\n",
              "        text-align: right;\n",
              "    }\n",
              "</style>\n",
              "<table border=\"1\" class=\"dataframe\">\n",
              "  <thead>\n",
              "    <tr style=\"text-align: right;\">\n",
              "      <th></th>\n",
              "      <th>keyword</th>\n",
              "      <th>location</th>\n",
              "      <th>text</th>\n",
              "      <th>target</th>\n",
              "      <th>clean_text</th>\n",
              "      <th>tokenized</th>\n",
              "      <th>lower</th>\n",
              "      <th>no_stopwords</th>\n",
              "    </tr>\n",
              "  </thead>\n",
              "  <tbody>\n",
              "    <tr>\n",
              "      <th>0</th>\n",
              "      <td>ablaze</td>\n",
              "      <td>NaN</td>\n",
              "      <td>Communal violence in Bhainsa, Telangana. \"Ston...</td>\n",
              "      <td>1</td>\n",
              "      <td>Communal violence in Bhainsa Telangana Stones ...</td>\n",
              "      <td>[Communal, violence, in, Bhainsa, Telangana, S...</td>\n",
              "      <td>[communal, violence, in, bhainsa, telangana, s...</td>\n",
              "      <td>communal violence bhainsa telangana stones pel...</td>\n",
              "    </tr>\n",
              "    <tr>\n",
              "      <th>1</th>\n",
              "      <td>ablaze</td>\n",
              "      <td>NaN</td>\n",
              "      <td>Telangana: Section 144 has been imposed in Bha...</td>\n",
              "      <td>1</td>\n",
              "      <td>Telangana Section 144 has been imposed in Bhai...</td>\n",
              "      <td>[Telangana, Section, 144, has, been, imposed, ...</td>\n",
              "      <td>[telangana, section, 144, has, been, imposed, ...</td>\n",
              "      <td>telangana section 144 imposed bhainsa january ...</td>\n",
              "    </tr>\n",
              "    <tr>\n",
              "      <th>2</th>\n",
              "      <td>ablaze</td>\n",
              "      <td>New York City</td>\n",
              "      <td>Arsonist sets cars ablaze at dealership https:...</td>\n",
              "      <td>1</td>\n",
              "      <td>Arsonist sets cars ablaze at dealership</td>\n",
              "      <td>[Arsonist, sets, cars, ablaze, at, dealership]</td>\n",
              "      <td>[arsonist, sets, cars, ablaze, at, dealership]</td>\n",
              "      <td>arsonist sets cars ablaze dealership</td>\n",
              "    </tr>\n",
              "    <tr>\n",
              "      <th>3</th>\n",
              "      <td>ablaze</td>\n",
              "      <td>Morgantown, WV</td>\n",
              "      <td>Arsonist sets cars ablaze at dealership https:...</td>\n",
              "      <td>1</td>\n",
              "      <td>Arsonist sets cars ablaze at dealership</td>\n",
              "      <td>[Arsonist, sets, cars, ablaze, at, dealership]</td>\n",
              "      <td>[arsonist, sets, cars, ablaze, at, dealership]</td>\n",
              "      <td>arsonist sets cars ablaze dealership</td>\n",
              "    </tr>\n",
              "    <tr>\n",
              "      <th>4</th>\n",
              "      <td>ablaze</td>\n",
              "      <td>NaN</td>\n",
              "      <td>\"Lord Jesus, your love brings freedom and pard...</td>\n",
              "      <td>0</td>\n",
              "      <td>Lord Jesus your love brings freedom and pardon...</td>\n",
              "      <td>[Lord, Jesus, your, love, brings, freedom, and...</td>\n",
              "      <td>[lord, jesus, your, love, brings, freedom, and...</td>\n",
              "      <td>lord jesus love brings freedom pardon fill hol...</td>\n",
              "    </tr>\n",
              "  </tbody>\n",
              "</table>\n",
              "</div>\n",
              "      <button class=\"colab-df-convert\" onclick=\"convertToInteractive('df-8686c172-a677-40ef-b2c9-1e4d4b337cc8')\"\n",
              "              title=\"Convert this dataframe to an interactive table.\"\n",
              "              style=\"display:none;\">\n",
              "        \n",
              "  <svg xmlns=\"http://www.w3.org/2000/svg\" height=\"24px\"viewBox=\"0 0 24 24\"\n",
              "       width=\"24px\">\n",
              "    <path d=\"M0 0h24v24H0V0z\" fill=\"none\"/>\n",
              "    <path d=\"M18.56 5.44l.94 2.06.94-2.06 2.06-.94-2.06-.94-.94-2.06-.94 2.06-2.06.94zm-11 1L8.5 8.5l.94-2.06 2.06-.94-2.06-.94L8.5 2.5l-.94 2.06-2.06.94zm10 10l.94 2.06.94-2.06 2.06-.94-2.06-.94-.94-2.06-.94 2.06-2.06.94z\"/><path d=\"M17.41 7.96l-1.37-1.37c-.4-.4-.92-.59-1.43-.59-.52 0-1.04.2-1.43.59L10.3 9.45l-7.72 7.72c-.78.78-.78 2.05 0 2.83L4 21.41c.39.39.9.59 1.41.59.51 0 1.02-.2 1.41-.59l7.78-7.78 2.81-2.81c.8-.78.8-2.07 0-2.86zM5.41 20L4 18.59l7.72-7.72 1.47 1.35L5.41 20z\"/>\n",
              "  </svg>\n",
              "      </button>\n",
              "      \n",
              "  <style>\n",
              "    .colab-df-container {\n",
              "      display:flex;\n",
              "      flex-wrap:wrap;\n",
              "      gap: 12px;\n",
              "    }\n",
              "\n",
              "    .colab-df-convert {\n",
              "      background-color: #E8F0FE;\n",
              "      border: none;\n",
              "      border-radius: 50%;\n",
              "      cursor: pointer;\n",
              "      display: none;\n",
              "      fill: #1967D2;\n",
              "      height: 32px;\n",
              "      padding: 0 0 0 0;\n",
              "      width: 32px;\n",
              "    }\n",
              "\n",
              "    .colab-df-convert:hover {\n",
              "      background-color: #E2EBFA;\n",
              "      box-shadow: 0px 1px 2px rgba(60, 64, 67, 0.3), 0px 1px 3px 1px rgba(60, 64, 67, 0.15);\n",
              "      fill: #174EA6;\n",
              "    }\n",
              "\n",
              "    [theme=dark] .colab-df-convert {\n",
              "      background-color: #3B4455;\n",
              "      fill: #D2E3FC;\n",
              "    }\n",
              "\n",
              "    [theme=dark] .colab-df-convert:hover {\n",
              "      background-color: #434B5C;\n",
              "      box-shadow: 0px 1px 3px 1px rgba(0, 0, 0, 0.15);\n",
              "      filter: drop-shadow(0px 1px 2px rgba(0, 0, 0, 0.3));\n",
              "      fill: #FFFFFF;\n",
              "    }\n",
              "  </style>\n",
              "\n",
              "      <script>\n",
              "        const buttonEl =\n",
              "          document.querySelector('#df-8686c172-a677-40ef-b2c9-1e4d4b337cc8 button.colab-df-convert');\n",
              "        buttonEl.style.display =\n",
              "          google.colab.kernel.accessAllowed ? 'block' : 'none';\n",
              "\n",
              "        async function convertToInteractive(key) {\n",
              "          const element = document.querySelector('#df-8686c172-a677-40ef-b2c9-1e4d4b337cc8');\n",
              "          const dataTable =\n",
              "            await google.colab.kernel.invokeFunction('convertToInteractive',\n",
              "                                                     [key], {});\n",
              "          if (!dataTable) return;\n",
              "\n",
              "          const docLinkHtml = 'Like what you see? Visit the ' +\n",
              "            '<a target=\"_blank\" href=https://colab.research.google.com/notebooks/data_table.ipynb>data table notebook</a>'\n",
              "            + ' to learn more about interactive tables.';\n",
              "          element.innerHTML = '';\n",
              "          dataTable['output_type'] = 'display_data';\n",
              "          await google.colab.output.renderOutput(dataTable, element);\n",
              "          const docLink = document.createElement('div');\n",
              "          docLink.innerHTML = docLinkHtml;\n",
              "          element.appendChild(docLink);\n",
              "        }\n",
              "      </script>\n",
              "    </div>\n",
              "  </div>\n",
              "  "
            ]
          },
          "metadata": {},
          "execution_count": 151
        }
      ]
    },
    {
      "cell_type": "code",
      "source": [
        "#Lemmatization adalah pengubahan kata dengan makna yang sama menjadi satu bentuk karena \n",
        "#komputer akan membacanya sebagai data yang berbeda sehingga proses analisis akan menjadi \n",
        "#lebih sulit. Contohnya, “eat”,  “ate”, “eaten”, “eating” merupakan bentuk dari “eat”, sehingga akan diubah menjadi “eat”.\n",
        "\n",
        "nltk.download('omw-1.4')\n",
        "nltk.download('wordnet')\n",
        "nltk.download('averaged_perceptron_tagger')\n",
        "lemma = WordNetLemmatizer()\n",
        "\n",
        "#Referensi: https://www.machinelearningplus.com/nlp/lemmatization-examples-python/\n",
        "#nltk.pos_tag() mengembalikan tupel dengan tag POS. Kuncinya di sini adalah memetakan tag \n",
        "#POS NLTK ke format yang akan diterima lemmatizer wordnet. Fungsi yang didefinisikan di \n",
        "#bawah ini melakukan pekerjaan pemetaan ini. get_wordnet_pos()\n",
        "def get_wordnet_pos(word):\n",
        "    \"\"\"Map POS tag to first character lemmatize() accepts\"\"\"\n",
        "    tag = nltk.pos_tag([word])[0][1][0].upper()\n",
        "    tag_dict = {\"J\": wordnet.ADJ,\n",
        "                \"N\": wordnet.NOUN,\n",
        "                \"V\": wordnet.VERB,\n",
        "                \"R\": wordnet.ADV}\n",
        "    return tag_dict.get(tag, wordnet.NOUN)\n",
        "\n",
        "#Lemmatize field \"no_stopwords\" dengan POS tag yang sesuai.\n",
        "dataset['lemmatized'] =  dataset['no_stopwords'].apply(\n",
        "    lambda x: [lemma.lemmatize(w, get_wordnet_pos(w)) for w in nltk.word_tokenize(x)])\n",
        "\n",
        "dataset.head()"
      ],
      "metadata": {
        "colab": {
          "base_uri": "https://localhost:8080/",
          "height": 0
        },
        "id": "Sz6nHVoQs-U1",
        "outputId": "55b88ec4-73e6-48b8-b288-45c5b461bb7c"
      },
      "execution_count": 152,
      "outputs": [
        {
          "output_type": "stream",
          "name": "stderr",
          "text": [
            "[nltk_data] Downloading package omw-1.4 to /root/nltk_data...\n",
            "[nltk_data]   Package omw-1.4 is already up-to-date!\n",
            "[nltk_data] Downloading package wordnet to /root/nltk_data...\n",
            "[nltk_data]   Package wordnet is already up-to-date!\n",
            "[nltk_data] Downloading package averaged_perceptron_tagger to\n",
            "[nltk_data]     /root/nltk_data...\n",
            "[nltk_data]   Package averaged_perceptron_tagger is already up-to-\n",
            "[nltk_data]       date!\n"
          ]
        },
        {
          "output_type": "execute_result",
          "data": {
            "text/plain": [
              "  keyword        location                                               text  \\\n",
              "0  ablaze             NaN  Communal violence in Bhainsa, Telangana. \"Ston...   \n",
              "1  ablaze             NaN  Telangana: Section 144 has been imposed in Bha...   \n",
              "2  ablaze   New York City  Arsonist sets cars ablaze at dealership https:...   \n",
              "3  ablaze  Morgantown, WV  Arsonist sets cars ablaze at dealership https:...   \n",
              "4  ablaze             NaN  \"Lord Jesus, your love brings freedom and pard...   \n",
              "\n",
              "   target                                         clean_text  \\\n",
              "0       1  Communal violence in Bhainsa Telangana Stones ...   \n",
              "1       1  Telangana Section 144 has been imposed in Bhai...   \n",
              "2       1           Arsonist sets cars ablaze at dealership    \n",
              "3       1          Arsonist sets cars ablaze at dealership     \n",
              "4       0  Lord Jesus your love brings freedom and pardon...   \n",
              "\n",
              "                                           tokenized  \\\n",
              "0  [Communal, violence, in, Bhainsa, Telangana, S...   \n",
              "1  [Telangana, Section, 144, has, been, imposed, ...   \n",
              "2     [Arsonist, sets, cars, ablaze, at, dealership]   \n",
              "3     [Arsonist, sets, cars, ablaze, at, dealership]   \n",
              "4  [Lord, Jesus, your, love, brings, freedom, and...   \n",
              "\n",
              "                                               lower  \\\n",
              "0  [communal, violence, in, bhainsa, telangana, s...   \n",
              "1  [telangana, section, 144, has, been, imposed, ...   \n",
              "2     [arsonist, sets, cars, ablaze, at, dealership]   \n",
              "3     [arsonist, sets, cars, ablaze, at, dealership]   \n",
              "4  [lord, jesus, your, love, brings, freedom, and...   \n",
              "\n",
              "                                        no_stopwords  \\\n",
              "0  communal violence bhainsa telangana stones pel...   \n",
              "1  telangana section 144 imposed bhainsa january ...   \n",
              "2               arsonist sets cars ablaze dealership   \n",
              "3               arsonist sets cars ablaze dealership   \n",
              "4  lord jesus love brings freedom pardon fill hol...   \n",
              "\n",
              "                                          lemmatized  \n",
              "0  [communal, violence, bhainsa, telangana, stone...  \n",
              "1  [telangana, section, 144, impose, bhainsa, jan...  \n",
              "2           [arsonist, set, car, ablaze, dealership]  \n",
              "3           [arsonist, set, car, ablaze, dealership]  \n",
              "4  [lord, jesus, love, brings, freedom, pardon, f...  "
            ],
            "text/html": [
              "\n",
              "  <div id=\"df-b70ae04b-34b8-4e6f-b669-160ec99c72ac\">\n",
              "    <div class=\"colab-df-container\">\n",
              "      <div>\n",
              "<style scoped>\n",
              "    .dataframe tbody tr th:only-of-type {\n",
              "        vertical-align: middle;\n",
              "    }\n",
              "\n",
              "    .dataframe tbody tr th {\n",
              "        vertical-align: top;\n",
              "    }\n",
              "\n",
              "    .dataframe thead th {\n",
              "        text-align: right;\n",
              "    }\n",
              "</style>\n",
              "<table border=\"1\" class=\"dataframe\">\n",
              "  <thead>\n",
              "    <tr style=\"text-align: right;\">\n",
              "      <th></th>\n",
              "      <th>keyword</th>\n",
              "      <th>location</th>\n",
              "      <th>text</th>\n",
              "      <th>target</th>\n",
              "      <th>clean_text</th>\n",
              "      <th>tokenized</th>\n",
              "      <th>lower</th>\n",
              "      <th>no_stopwords</th>\n",
              "      <th>lemmatized</th>\n",
              "    </tr>\n",
              "  </thead>\n",
              "  <tbody>\n",
              "    <tr>\n",
              "      <th>0</th>\n",
              "      <td>ablaze</td>\n",
              "      <td>NaN</td>\n",
              "      <td>Communal violence in Bhainsa, Telangana. \"Ston...</td>\n",
              "      <td>1</td>\n",
              "      <td>Communal violence in Bhainsa Telangana Stones ...</td>\n",
              "      <td>[Communal, violence, in, Bhainsa, Telangana, S...</td>\n",
              "      <td>[communal, violence, in, bhainsa, telangana, s...</td>\n",
              "      <td>communal violence bhainsa telangana stones pel...</td>\n",
              "      <td>[communal, violence, bhainsa, telangana, stone...</td>\n",
              "    </tr>\n",
              "    <tr>\n",
              "      <th>1</th>\n",
              "      <td>ablaze</td>\n",
              "      <td>NaN</td>\n",
              "      <td>Telangana: Section 144 has been imposed in Bha...</td>\n",
              "      <td>1</td>\n",
              "      <td>Telangana Section 144 has been imposed in Bhai...</td>\n",
              "      <td>[Telangana, Section, 144, has, been, imposed, ...</td>\n",
              "      <td>[telangana, section, 144, has, been, imposed, ...</td>\n",
              "      <td>telangana section 144 imposed bhainsa january ...</td>\n",
              "      <td>[telangana, section, 144, impose, bhainsa, jan...</td>\n",
              "    </tr>\n",
              "    <tr>\n",
              "      <th>2</th>\n",
              "      <td>ablaze</td>\n",
              "      <td>New York City</td>\n",
              "      <td>Arsonist sets cars ablaze at dealership https:...</td>\n",
              "      <td>1</td>\n",
              "      <td>Arsonist sets cars ablaze at dealership</td>\n",
              "      <td>[Arsonist, sets, cars, ablaze, at, dealership]</td>\n",
              "      <td>[arsonist, sets, cars, ablaze, at, dealership]</td>\n",
              "      <td>arsonist sets cars ablaze dealership</td>\n",
              "      <td>[arsonist, set, car, ablaze, dealership]</td>\n",
              "    </tr>\n",
              "    <tr>\n",
              "      <th>3</th>\n",
              "      <td>ablaze</td>\n",
              "      <td>Morgantown, WV</td>\n",
              "      <td>Arsonist sets cars ablaze at dealership https:...</td>\n",
              "      <td>1</td>\n",
              "      <td>Arsonist sets cars ablaze at dealership</td>\n",
              "      <td>[Arsonist, sets, cars, ablaze, at, dealership]</td>\n",
              "      <td>[arsonist, sets, cars, ablaze, at, dealership]</td>\n",
              "      <td>arsonist sets cars ablaze dealership</td>\n",
              "      <td>[arsonist, set, car, ablaze, dealership]</td>\n",
              "    </tr>\n",
              "    <tr>\n",
              "      <th>4</th>\n",
              "      <td>ablaze</td>\n",
              "      <td>NaN</td>\n",
              "      <td>\"Lord Jesus, your love brings freedom and pard...</td>\n",
              "      <td>0</td>\n",
              "      <td>Lord Jesus your love brings freedom and pardon...</td>\n",
              "      <td>[Lord, Jesus, your, love, brings, freedom, and...</td>\n",
              "      <td>[lord, jesus, your, love, brings, freedom, and...</td>\n",
              "      <td>lord jesus love brings freedom pardon fill hol...</td>\n",
              "      <td>[lord, jesus, love, brings, freedom, pardon, f...</td>\n",
              "    </tr>\n",
              "  </tbody>\n",
              "</table>\n",
              "</div>\n",
              "      <button class=\"colab-df-convert\" onclick=\"convertToInteractive('df-b70ae04b-34b8-4e6f-b669-160ec99c72ac')\"\n",
              "              title=\"Convert this dataframe to an interactive table.\"\n",
              "              style=\"display:none;\">\n",
              "        \n",
              "  <svg xmlns=\"http://www.w3.org/2000/svg\" height=\"24px\"viewBox=\"0 0 24 24\"\n",
              "       width=\"24px\">\n",
              "    <path d=\"M0 0h24v24H0V0z\" fill=\"none\"/>\n",
              "    <path d=\"M18.56 5.44l.94 2.06.94-2.06 2.06-.94-2.06-.94-.94-2.06-.94 2.06-2.06.94zm-11 1L8.5 8.5l.94-2.06 2.06-.94-2.06-.94L8.5 2.5l-.94 2.06-2.06.94zm10 10l.94 2.06.94-2.06 2.06-.94-2.06-.94-.94-2.06-.94 2.06-2.06.94z\"/><path d=\"M17.41 7.96l-1.37-1.37c-.4-.4-.92-.59-1.43-.59-.52 0-1.04.2-1.43.59L10.3 9.45l-7.72 7.72c-.78.78-.78 2.05 0 2.83L4 21.41c.39.39.9.59 1.41.59.51 0 1.02-.2 1.41-.59l7.78-7.78 2.81-2.81c.8-.78.8-2.07 0-2.86zM5.41 20L4 18.59l7.72-7.72 1.47 1.35L5.41 20z\"/>\n",
              "  </svg>\n",
              "      </button>\n",
              "      \n",
              "  <style>\n",
              "    .colab-df-container {\n",
              "      display:flex;\n",
              "      flex-wrap:wrap;\n",
              "      gap: 12px;\n",
              "    }\n",
              "\n",
              "    .colab-df-convert {\n",
              "      background-color: #E8F0FE;\n",
              "      border: none;\n",
              "      border-radius: 50%;\n",
              "      cursor: pointer;\n",
              "      display: none;\n",
              "      fill: #1967D2;\n",
              "      height: 32px;\n",
              "      padding: 0 0 0 0;\n",
              "      width: 32px;\n",
              "    }\n",
              "\n",
              "    .colab-df-convert:hover {\n",
              "      background-color: #E2EBFA;\n",
              "      box-shadow: 0px 1px 2px rgba(60, 64, 67, 0.3), 0px 1px 3px 1px rgba(60, 64, 67, 0.15);\n",
              "      fill: #174EA6;\n",
              "    }\n",
              "\n",
              "    [theme=dark] .colab-df-convert {\n",
              "      background-color: #3B4455;\n",
              "      fill: #D2E3FC;\n",
              "    }\n",
              "\n",
              "    [theme=dark] .colab-df-convert:hover {\n",
              "      background-color: #434B5C;\n",
              "      box-shadow: 0px 1px 3px 1px rgba(0, 0, 0, 0.15);\n",
              "      filter: drop-shadow(0px 1px 2px rgba(0, 0, 0, 0.3));\n",
              "      fill: #FFFFFF;\n",
              "    }\n",
              "  </style>\n",
              "\n",
              "      <script>\n",
              "        const buttonEl =\n",
              "          document.querySelector('#df-b70ae04b-34b8-4e6f-b669-160ec99c72ac button.colab-df-convert');\n",
              "        buttonEl.style.display =\n",
              "          google.colab.kernel.accessAllowed ? 'block' : 'none';\n",
              "\n",
              "        async function convertToInteractive(key) {\n",
              "          const element = document.querySelector('#df-b70ae04b-34b8-4e6f-b669-160ec99c72ac');\n",
              "          const dataTable =\n",
              "            await google.colab.kernel.invokeFunction('convertToInteractive',\n",
              "                                                     [key], {});\n",
              "          if (!dataTable) return;\n",
              "\n",
              "          const docLinkHtml = 'Like what you see? Visit the ' +\n",
              "            '<a target=\"_blank\" href=https://colab.research.google.com/notebooks/data_table.ipynb>data table notebook</a>'\n",
              "            + ' to learn more about interactive tables.';\n",
              "          element.innerHTML = '';\n",
              "          dataTable['output_type'] = 'display_data';\n",
              "          await google.colab.output.renderOutput(dataTable, element);\n",
              "          const docLink = document.createElement('div');\n",
              "          docLink.innerHTML = docLinkHtml;\n",
              "          element.appendChild(docLink);\n",
              "        }\n",
              "      </script>\n",
              "    </div>\n",
              "  </div>\n",
              "  "
            ]
          },
          "metadata": {},
          "execution_count": 152
        }
      ]
    },
    {
      "cell_type": "code",
      "source": [
        "#Menghapus data duplikat\n",
        "print(\"Shape awal:\", dataset.shape)\n",
        "\n",
        "#Referensi: https://pandas.pydata.org/docs/reference/api/pandas.DataFrame.drop_duplicates.html\n",
        "dataset.drop_duplicates(subset =\"clean_text\",inplace = True)\n",
        "\n",
        "print(\"Shape akhir:\", dataset.shape)"
      ],
      "metadata": {
        "colab": {
          "base_uri": "https://localhost:8080/"
        },
        "id": "kNkDcfNfub4F",
        "outputId": "3695409f-caa5-4117-9e19-2a7ebef8de65"
      },
      "execution_count": 153,
      "outputs": [
        {
          "output_type": "stream",
          "name": "stdout",
          "text": [
            "Shape awal: (11370, 9)\n",
            "Shape akhir: (10999, 9)\n"
          ]
        }
      ]
    },
    {
      "cell_type": "markdown",
      "source": [
        "# Split Dataset"
      ],
      "metadata": {
        "id": "riuWsKIdtz-k"
      }
    },
    {
      "cell_type": "code",
      "source": [
        "#Dataset akan dibagi menjadi 3, yaitu dataset train, test dan validation.\n",
        "#dataset diambil dari field lemmatized.\n",
        "X = dataset['lemmatized']\n",
        "y = dataset['target']\n",
        "\n",
        "#Awalnya dataset \"lemmatized\" akan dibagi menjadi 80% untuk dataset train dan 20% untuk dataset Test.\n",
        "X_train, X_rem, y_train, y_rem  = train_test_split(\n",
        "    X, \n",
        "    y, \n",
        "    stratify = y, \n",
        "    test_size = 0.2, \n",
        "    random_state = 321\n",
        ")\n",
        "\n",
        "#Kemudian 20% dataset dibagi sama rata kembali untuk dataset Test dan Validation.\n",
        "X_test, X_val, y_test, y_val = train_test_split(\n",
        "     X_rem, \n",
        "     y_rem, \n",
        "     stratify = y_rem, \n",
        "     test_size = 0.5, \n",
        "     random_state = 321)\n",
        "\n",
        "\n",
        "print('Train Set: ', X_train.shape, y_train.shape)\n",
        "print('Test Set: ', X_test.shape, y_test.shape)\n",
        "print('Validation Set: ', X_val.shape, y_val.shape)"
      ],
      "metadata": {
        "id": "mBHHdUY9t3HT",
        "colab": {
          "base_uri": "https://localhost:8080/"
        },
        "outputId": "aff0fb48-07da-4868-d18e-c5bb3669345d"
      },
      "execution_count": 154,
      "outputs": [
        {
          "output_type": "stream",
          "name": "stdout",
          "text": [
            "Train Set:  (8799,) (8799,)\n",
            "Test Set:  (1100,) (1100,)\n",
            "Validation Set:  (1100,) (1100,)\n"
          ]
        }
      ]
    },
    {
      "cell_type": "markdown",
      "source": [
        "# Word Embedding"
      ],
      "metadata": {
        "id": "c11mEh6GpLyD"
      }
    },
    {
      "cell_type": "code",
      "source": [
        "# Tokenize words\n",
        "# Referensi: https://www.tensorflow.org/api_docs/python/tf/keras/preprocessing/text/Tokenizer\n",
        "tokenizer = Tokenizer()\n",
        "\n",
        "#Data validasi (x_val) tidak di tekenize untuk dapat mensimulasikan real world. Sehingga data x_val tidak masuk ke dalam kamus.\n",
        "tokenizer.fit_on_texts(pd.concat([X_train, X_test], axis=0))\n",
        "\n",
        "#mengubah token korpus teks menjadi urutan bilangan integer\n",
        "sequences_train = tokenizer.texts_to_sequences(X_train)\n",
        "sequences_test = tokenizer.texts_to_sequences(X_test)\n",
        "sequences_val = tokenizer.texts_to_sequences(X_val)\n",
        "\n",
        "#digunakan untuk memastikan bahwa semua urutan dalam daftar memiliki panjang yang sama\n",
        "X_train = pad_sequences(sequences_train, maxlen=256, truncating='pre')\n",
        "X_test = pad_sequences(sequences_test, maxlen=256, truncating='pre')\n",
        "X_val = pad_sequences(sequences_val, maxlen=256, truncating='pre')\n",
        "\n",
        "#Menghitung Ukuran kosakata\n",
        "vocabSize = len(tokenizer.index_word) + 1\n",
        "\n",
        "print(f\"Vocabulary size = {vocabSize}\")"
      ],
      "metadata": {
        "colab": {
          "base_uri": "https://localhost:8080/"
        },
        "id": "OehL9K80vWZd",
        "outputId": "538f4375-2425-4fc9-843c-4d9c4e1499c0"
      },
      "execution_count": 155,
      "outputs": [
        {
          "output_type": "stream",
          "name": "stdout",
          "text": [
            "Vocabulary size = 19749\n"
          ]
        }
      ]
    },
    {
      "cell_type": "code",
      "source": [
        "#Menyiapkan pre-trained word vectors GLove\n",
        "#Referensi: https://nlp.stanford.edu/projects/glove/\n",
        "embeddings_index = {}\n",
        "embedding_dim = 300\n",
        "hits = 0\n",
        "misses = 0\n",
        "num_tokens = vocabSize\n",
        "\n",
        "# Read word vectors\n",
        "with open('/content/drive/MyDrive/SOSMED_4/glove.6B.300d.txt') as f:\n",
        "    for line in f:\n",
        "        word, coefs = line.split(maxsplit=1)\n",
        "        coefs = np.fromstring(coefs, \"f\", sep=\" \")\n",
        "        embeddings_index[word] = coefs\n",
        "print(\"Found %s word vectors.\" % len(embeddings_index))\n",
        "\n",
        "\n",
        "# Assign word vectors to our dictionary/vocabulary\n",
        "embedding_matrix = np.zeros((num_tokens, embedding_dim))\n",
        "for word, i in tokenizer.word_index.items():\n",
        "    embedding_vector = embeddings_index.get(word)\n",
        "    if embedding_vector is not None:\n",
        "        # Words not found in embedding index will be all-zeros.\n",
        "        # This includes the representation for \"padding\" and \"OOV\"\n",
        "        embedding_matrix[i] = embedding_vector\n",
        "        hits += 1\n",
        "    else:\n",
        "        misses += 1\n",
        "\n",
        "        \n",
        "print(\"Converted %d words (%d misses)\" % (hits, misses))"
      ],
      "metadata": {
        "id": "v8efRsc1qj3I",
        "colab": {
          "base_uri": "https://localhost:8080/"
        },
        "outputId": "f6d823b1-2a08-44ef-db52-a4961c0d817a"
      },
      "execution_count": 156,
      "outputs": [
        {
          "output_type": "stream",
          "name": "stdout",
          "text": [
            "Found 400001 word vectors.\n",
            "Converted 13010 words (6738 misses)\n"
          ]
        }
      ]
    },
    {
      "cell_type": "markdown",
      "source": [
        "# Modeling"
      ],
      "metadata": {
        "id": "WHVzsuwdpTT6"
      }
    },
    {
      "cell_type": "code",
      "source": [
        "#Membuat callbback untuk menghinadari overfitting\n",
        "#Referensi: https://www.tensorflow.org/api_docs/python/tf/keras/callbacks/EarlyStopping\n",
        "#Memonitor nilai  \"val_loss\" dan epochs  yang tidak ada peningkatan sebanyak 2 kali. Dan menggunakan nilai epch dengan hasil terbaik.\n",
        "early_stopping = EarlyStopping(\n",
        "    monitor=\"val_loss\",\n",
        "    patience=5,\n",
        "    mode=\"auto\",\n",
        "    restore_best_weights=True,\n",
        ")\n",
        "\n",
        "#Merekam waktu yang dibutuhkan oleh setiap epoch untuk membandingkan model nantinya.\n",
        "#Referensi: https://stackoverflow.com/questions/43178668/record-the-computation-time-for-each-epoch-in-keras-during-model-fit\n",
        "class TimeHistory(Callback):\n",
        "    def on_train_begin(self, logs={}):\n",
        "        self.times = []\n",
        "\n",
        "    def on_epoch_begin(self, epoch, logs={}):\n",
        "        self.epoch_time_start = time.time()\n",
        "\n",
        "    def on_epoch_end(self, epoch, logs={}):\n",
        "        self.times.append(time.time() - self.epoch_time_start)\n"
      ],
      "metadata": {
        "id": "o0-vWEeqmeE0"
      },
      "execution_count": 157,
      "outputs": []
    },
    {
      "cell_type": "markdown",
      "source": [
        "## Training & Evaluation (SGD, LSTM) ModelA\n",
        "\n",
        "\n"
      ],
      "metadata": {
        "id": "RQQ_0rBaperl"
      }
    },
    {
      "cell_type": "code",
      "source": [
        "modelA = Sequential([\n",
        "  Embedding(\n",
        "      vocabSize, \n",
        "      embedding_dim, \n",
        "      input_length=256, \n",
        "      embeddings_initializer=Constant(embedding_matrix), \n",
        "      trainable=False\n",
        "      ),\n",
        "  SpatialDropout1D(0.2),\n",
        "  LSTM(128, dropout=0.3, recurrent_dropout=0.2),\n",
        "  BatchNormalization(),\n",
        "  Dense(64, activation='relu'),\n",
        "  Dropout(0.3),\n",
        "  Dense(1, activation='sigmoid')                \n",
        "])\n",
        "optimizerA = SGD(learning_rate=0.0001, momentum=0.9)\n",
        "modelA.compile(loss='binary_crossentropy', \n",
        "              optimizer=optimizerA, \n",
        "              metrics=['accuracy'])\n",
        "modelA.summary()"
      ],
      "metadata": {
        "id": "gpxyxtJdpc6E",
        "colab": {
          "base_uri": "https://localhost:8080/"
        },
        "outputId": "97432485-92b9-4213-b7b6-536e3e3568ce"
      },
      "execution_count": 158,
      "outputs": [
        {
          "output_type": "stream",
          "name": "stdout",
          "text": [
            "WARNING:tensorflow:Layer lstm_12 will not use cuDNN kernels since it doesn't meet the criteria. It will use a generic GPU kernel as fallback when running on GPU.\n",
            "Model: \"sequential_10\"\n",
            "_________________________________________________________________\n",
            " Layer (type)                Output Shape              Param #   \n",
            "=================================================================\n",
            " embedding_10 (Embedding)    (None, 256, 300)          5924700   \n",
            "                                                                 \n",
            " spatial_dropout1d_4 (Spatia  (None, 256, 300)         0         \n",
            " lDropout1D)                                                     \n",
            "                                                                 \n",
            " lstm_12 (LSTM)              (None, 128)               219648    \n",
            "                                                                 \n",
            " batch_normalization_4 (Batc  (None, 128)              512       \n",
            " hNormalization)                                                 \n",
            "                                                                 \n",
            " dense_20 (Dense)            (None, 64)                8256      \n",
            "                                                                 \n",
            " dropout_24 (Dropout)        (None, 64)                0         \n",
            "                                                                 \n",
            " dense_21 (Dense)            (None, 1)                 65        \n",
            "                                                                 \n",
            "=================================================================\n",
            "Total params: 6,153,181\n",
            "Trainable params: 228,225\n",
            "Non-trainable params: 5,924,956\n",
            "_________________________________________________________________\n"
          ]
        }
      ]
    },
    {
      "cell_type": "code",
      "source": [
        "#Merekam Waktu yang dibutuhkan dan Melakukan Fit Model dengan dataset train dan validasi\n",
        "time_callbackA = TimeHistory()\n",
        "historyA = modelA.fit(X_train, y_train, batch_size=256, epochs=20, validation_data=(X_val, y_val),verbose=2,callbacks=[early_stopping, time_callbackA])"
      ],
      "metadata": {
        "colab": {
          "base_uri": "https://localhost:8080/"
        },
        "id": "cChHJmo4smJR",
        "outputId": "44944f22-4ed8-42f9-86c9-f2a15edd85dc"
      },
      "execution_count": 159,
      "outputs": [
        {
          "output_type": "stream",
          "name": "stdout",
          "text": [
            "Epoch 1/20\n",
            "35/35 - 37s - loss: 0.7178 - accuracy: 0.5765 - val_loss: 0.6775 - val_accuracy: 0.6264 - 37s/epoch - 1s/step\n",
            "Epoch 2/20\n",
            "35/35 - 34s - loss: 0.6785 - accuracy: 0.6192 - val_loss: 0.6614 - val_accuracy: 0.7082 - 34s/epoch - 971ms/step\n",
            "Epoch 3/20\n",
            "35/35 - 34s - loss: 0.6518 - accuracy: 0.6425 - val_loss: 0.6462 - val_accuracy: 0.7518 - 34s/epoch - 982ms/step\n",
            "Epoch 4/20\n",
            "35/35 - 36s - loss: 0.6201 - accuracy: 0.6738 - val_loss: 0.6310 - val_accuracy: 0.7745 - 36s/epoch - 1s/step\n",
            "Epoch 5/20\n",
            "35/35 - 34s - loss: 0.6016 - accuracy: 0.6941 - val_loss: 0.6147 - val_accuracy: 0.7827 - 34s/epoch - 968ms/step\n",
            "Epoch 6/20\n",
            "35/35 - 34s - loss: 0.5840 - accuracy: 0.7180 - val_loss: 0.5986 - val_accuracy: 0.7882 - 34s/epoch - 964ms/step\n",
            "Epoch 7/20\n",
            "35/35 - 34s - loss: 0.5710 - accuracy: 0.7228 - val_loss: 0.5811 - val_accuracy: 0.8000 - 34s/epoch - 982ms/step\n",
            "Epoch 8/20\n",
            "35/35 - 35s - loss: 0.5532 - accuracy: 0.7408 - val_loss: 0.5628 - val_accuracy: 0.8055 - 35s/epoch - 1s/step\n",
            "Epoch 9/20\n",
            "35/35 - 34s - loss: 0.5443 - accuracy: 0.7493 - val_loss: 0.5457 - val_accuracy: 0.8064 - 34s/epoch - 966ms/step\n",
            "Epoch 10/20\n",
            "35/35 - 34s - loss: 0.5358 - accuracy: 0.7543 - val_loss: 0.5292 - val_accuracy: 0.8091 - 34s/epoch - 968ms/step\n",
            "Epoch 11/20\n",
            "35/35 - 33s - loss: 0.5246 - accuracy: 0.7671 - val_loss: 0.5138 - val_accuracy: 0.8091 - 33s/epoch - 956ms/step\n",
            "Epoch 12/20\n",
            "35/35 - 36s - loss: 0.5160 - accuracy: 0.7762 - val_loss: 0.4996 - val_accuracy: 0.8118 - 36s/epoch - 1s/step\n",
            "Epoch 13/20\n",
            "35/35 - 34s - loss: 0.5066 - accuracy: 0.7795 - val_loss: 0.4875 - val_accuracy: 0.8118 - 34s/epoch - 958ms/step\n",
            "Epoch 14/20\n",
            "35/35 - 34s - loss: 0.5048 - accuracy: 0.7819 - val_loss: 0.4771 - val_accuracy: 0.8145 - 34s/epoch - 964ms/step\n",
            "Epoch 15/20\n",
            "35/35 - 34s - loss: 0.4946 - accuracy: 0.7901 - val_loss: 0.4686 - val_accuracy: 0.8164 - 34s/epoch - 976ms/step\n",
            "Epoch 16/20\n",
            "35/35 - 36s - loss: 0.4990 - accuracy: 0.7835 - val_loss: 0.4616 - val_accuracy: 0.8173 - 36s/epoch - 1s/step\n",
            "Epoch 17/20\n",
            "35/35 - 34s - loss: 0.4915 - accuracy: 0.7880 - val_loss: 0.4558 - val_accuracy: 0.8191 - 34s/epoch - 967ms/step\n",
            "Epoch 18/20\n",
            "35/35 - 34s - loss: 0.4902 - accuracy: 0.7925 - val_loss: 0.4511 - val_accuracy: 0.8209 - 34s/epoch - 979ms/step\n",
            "Epoch 19/20\n",
            "35/35 - 34s - loss: 0.4847 - accuracy: 0.7976 - val_loss: 0.4461 - val_accuracy: 0.8200 - 34s/epoch - 969ms/step\n",
            "Epoch 20/20\n",
            "35/35 - 36s - loss: 0.4818 - accuracy: 0.7963 - val_loss: 0.4415 - val_accuracy: 0.8200 - 36s/epoch - 1s/step\n"
          ]
        }
      ]
    },
    {
      "cell_type": "code",
      "source": [
        "#Menghitung total dan rerata waktu yang dibutuhkan proses fit.\n",
        "rerataWaktuA = mean(time_callbackA.times)\n",
        "totalWaktuA = sum(time_callbackA.times)\n",
        "\n",
        "print(\"Rerata Waktu =\", round(rerataWaktuA, 2), 'detik')\n",
        "print(\"Total Waktu =\", round(totalWaktuA, 2), 'detik')"
      ],
      "metadata": {
        "colab": {
          "base_uri": "https://localhost:8080/"
        },
        "id": "9hVeXipUu4aw",
        "outputId": "d658fb6b-6380-4cd0-97d5-ab460a9418d1"
      },
      "execution_count": 160,
      "outputs": [
        {
          "output_type": "stream",
          "name": "stdout",
          "text": [
            "Rerata Waktu = 34.61 detik\n",
            "Total Waktu = 692.17 detik\n"
          ]
        }
      ]
    },
    {
      "cell_type": "code",
      "source": [
        "#Menguji Model dengan dataset test.\n",
        "AccModelA = modelA.evaluate(X_test, y_test, verbose=1)"
      ],
      "metadata": {
        "id": "RHBvOltKzfbl",
        "colab": {
          "base_uri": "https://localhost:8080/"
        },
        "outputId": "c319c6f6-ad2e-44d5-8b4e-2e8319034acd"
      },
      "execution_count": 161,
      "outputs": [
        {
          "output_type": "stream",
          "name": "stdout",
          "text": [
            "35/35 [==============================] - 2s 68ms/step - loss: 0.4528 - accuracy: 0.8245\n"
          ]
        }
      ]
    },
    {
      "cell_type": "markdown",
      "source": [
        "## Training & Evaluation (LSTM, Bidirectional, ADAM) ModelB"
      ],
      "metadata": {
        "id": "1TfRlxAQD9o0"
      }
    },
    {
      "cell_type": "code",
      "source": [
        "modelB = Sequential([\n",
        "    Embedding(\n",
        "        num_tokens, \n",
        "        embedding_dim,\n",
        "        input_length=256,\n",
        "        embeddings_initializer=Constant(embedding_matrix),\n",
        "        trainable=False \n",
        "        ),\n",
        "    Conv1D(filters=1024, kernel_size=3,\n",
        "                      strides=1, padding=\"causal\",\n",
        "                      activation=\"relu\"),\n",
        "    Dropout(0.3),\n",
        "    Bidirectional(LSTM(1024, return_sequences = True)),\n",
        "    Dropout(0.3),\n",
        "    Bidirectional(LSTM(512)),\n",
        "    Dropout(0.3),\n",
        "    Dense(1024, activation='relu'),\n",
        "    Dropout(0.3),\n",
        "    Dense(1, activation='sigmoid')\n",
        "])\n",
        "\n",
        "optimizerADAM = Adam(learning_rate=1e-4)\n",
        "\n",
        "modelB.compile(loss='binary_crossentropy', \n",
        "              optimizer=optimizerADAM, \n",
        "              metrics=['accuracy'])\n",
        "modelB.summary()"
      ],
      "metadata": {
        "colab": {
          "base_uri": "https://localhost:8080/"
        },
        "id": "EDQkcYYpEEbt",
        "outputId": "b757a6b2-2bb6-49cc-e4b2-56f313ec2cf4"
      },
      "execution_count": 162,
      "outputs": [
        {
          "output_type": "stream",
          "name": "stdout",
          "text": [
            "Model: \"sequential_11\"\n",
            "_________________________________________________________________\n",
            " Layer (type)                Output Shape              Param #   \n",
            "=================================================================\n",
            " embedding_11 (Embedding)    (None, 256, 300)          5924700   \n",
            "                                                                 \n",
            " conv1d_2 (Conv1D)           (None, 256, 1024)         922624    \n",
            "                                                                 \n",
            " dropout_25 (Dropout)        (None, 256, 1024)         0         \n",
            "                                                                 \n",
            " bidirectional_6 (Bidirectio  (None, 256, 2048)        16785408  \n",
            " nal)                                                            \n",
            "                                                                 \n",
            " dropout_26 (Dropout)        (None, 256, 2048)         0         \n",
            "                                                                 \n",
            " bidirectional_7 (Bidirectio  (None, 1024)             10489856  \n",
            " nal)                                                            \n",
            "                                                                 \n",
            " dropout_27 (Dropout)        (None, 1024)              0         \n",
            "                                                                 \n",
            " dense_22 (Dense)            (None, 1024)              1049600   \n",
            "                                                                 \n",
            " dropout_28 (Dropout)        (None, 1024)              0         \n",
            "                                                                 \n",
            " dense_23 (Dense)            (None, 1)                 1025      \n",
            "                                                                 \n",
            "=================================================================\n",
            "Total params: 35,173,213\n",
            "Trainable params: 29,248,513\n",
            "Non-trainable params: 5,924,700\n",
            "_________________________________________________________________\n"
          ]
        }
      ]
    },
    {
      "cell_type": "code",
      "source": [
        "#Merekam Waktu yang dibutuhkan dan Melakukan Fit Model dengan dataset train dan validasi\n",
        "time_callbackB = TimeHistory()\n",
        "historyB = modelB.fit(X_train, y_train, batch_size=256, epochs=20, validation_data=(X_val, y_val), verbose=2, callbacks=[early_stopping, time_callbackB])"
      ],
      "metadata": {
        "colab": {
          "base_uri": "https://localhost:8080/"
        },
        "id": "C_9KDgb2EGQ3",
        "outputId": "fd05d458-e12a-48a0-bbbe-5ebd82a0c98e"
      },
      "execution_count": 163,
      "outputs": [
        {
          "output_type": "stream",
          "name": "stdout",
          "text": [
            "Epoch 1/20\n",
            "35/35 - 114s - loss: 0.4599 - accuracy: 0.8082 - val_loss: 0.3470 - val_accuracy: 0.8445 - 114s/epoch - 3s/step\n",
            "Epoch 2/20\n",
            "35/35 - 107s - loss: 0.3325 - accuracy: 0.8673 - val_loss: 0.3185 - val_accuracy: 0.8700 - 107s/epoch - 3s/step\n",
            "Epoch 3/20\n",
            "35/35 - 107s - loss: 0.2962 - accuracy: 0.8784 - val_loss: 0.3121 - val_accuracy: 0.8755 - 107s/epoch - 3s/step\n",
            "Epoch 4/20\n",
            "35/35 - 106s - loss: 0.2756 - accuracy: 0.8877 - val_loss: 0.3079 - val_accuracy: 0.8755 - 106s/epoch - 3s/step\n",
            "Epoch 5/20\n",
            "35/35 - 106s - loss: 0.2573 - accuracy: 0.8961 - val_loss: 0.3066 - val_accuracy: 0.8709 - 106s/epoch - 3s/step\n",
            "Epoch 6/20\n",
            "35/35 - 106s - loss: 0.2262 - accuracy: 0.9115 - val_loss: 0.3131 - val_accuracy: 0.8909 - 106s/epoch - 3s/step\n",
            "Epoch 7/20\n",
            "35/35 - 107s - loss: 0.1884 - accuracy: 0.9287 - val_loss: 0.3001 - val_accuracy: 0.8800 - 107s/epoch - 3s/step\n",
            "Epoch 8/20\n",
            "35/35 - 107s - loss: 0.1485 - accuracy: 0.9485 - val_loss: 0.3190 - val_accuracy: 0.8809 - 107s/epoch - 3s/step\n",
            "Epoch 9/20\n",
            "35/35 - 106s - loss: 0.1001 - accuracy: 0.9685 - val_loss: 0.3873 - val_accuracy: 0.8945 - 106s/epoch - 3s/step\n",
            "Epoch 10/20\n",
            "35/35 - 106s - loss: 0.0799 - accuracy: 0.9733 - val_loss: 0.3994 - val_accuracy: 0.8755 - 106s/epoch - 3s/step\n",
            "Epoch 11/20\n",
            "35/35 - 106s - loss: 0.0672 - accuracy: 0.9772 - val_loss: 0.4507 - val_accuracy: 0.8536 - 106s/epoch - 3s/step\n",
            "Epoch 12/20\n",
            "35/35 - 106s - loss: 0.0564 - accuracy: 0.9810 - val_loss: 0.4462 - val_accuracy: 0.8800 - 106s/epoch - 3s/step\n"
          ]
        }
      ]
    },
    {
      "cell_type": "code",
      "source": [
        "#Menghitung total dan rerata waktu yang dibutuhkan proses fit.\n",
        "rerataWaktuB = mean(time_callbackB.times)\n",
        "totalWaktuB = sum(time_callbackB.times)\n",
        "\n",
        "print(\"Rerata Waktu =\", round(rerataWaktuB, 2), 'detik')\n",
        "print(\"Total Waktu =\", round(totalWaktuB, 2), 'detik')"
      ],
      "metadata": {
        "colab": {
          "base_uri": "https://localhost:8080/"
        },
        "id": "0zNehhzX02ao",
        "outputId": "d8e444d9-d163-4bec-c577-71628e425cfc"
      },
      "execution_count": 164,
      "outputs": [
        {
          "output_type": "stream",
          "name": "stdout",
          "text": [
            "Rerata Waktu = 107.08 detik\n",
            "Total Waktu = 1284.95 detik\n"
          ]
        }
      ]
    },
    {
      "cell_type": "code",
      "source": [
        "#Menguji Model dengan dataset test.\n",
        "AccModelB = modelB.evaluate(X_test, y_test, verbose=1)"
      ],
      "metadata": {
        "colab": {
          "base_uri": "https://localhost:8080/"
        },
        "id": "jeSuKTDGEImz",
        "outputId": "3734ba88-daf3-4b59-8a55-4fe83f674ee0"
      },
      "execution_count": 165,
      "outputs": [
        {
          "output_type": "stream",
          "name": "stdout",
          "text": [
            "35/35 [==============================] - 6s 156ms/step - loss: 0.2920 - accuracy: 0.8891\n"
          ]
        }
      ]
    },
    {
      "cell_type": "markdown",
      "source": [
        "##Training & Evaluation (LSTM, ADAM) ModelC"
      ],
      "metadata": {
        "id": "yszImSZZkFVm"
      }
    },
    {
      "cell_type": "code",
      "source": [
        "modelC = Sequential([\n",
        "  Embedding(\n",
        "        num_tokens, \n",
        "        embedding_dim,\n",
        "        input_length=256,\n",
        "        embeddings_initializer=Constant(embedding_matrix),\n",
        "        trainable=False \n",
        "        ),\n",
        "  LSTM(embedding_dim, return_sequences=True),\n",
        "  Dropout(0.25),\n",
        "  LSTM(embedding_dim),\n",
        "  Dropout(0.25),\n",
        "  Dense(embedding_dim, activation=\"relu\"),\n",
        "  Dropout(0.5),\n",
        "  Dense(1, activation='sigmoid')\n",
        "])\n",
        "\n",
        "modelC.compile(loss='binary_crossentropy', \n",
        "              optimizer= Adam(learning_rate=0.001), \n",
        "              metrics=['accuracy'])\n",
        "modelC.summary()"
      ],
      "metadata": {
        "colab": {
          "base_uri": "https://localhost:8080/"
        },
        "id": "y0xGfmBZkKbT",
        "outputId": "fd43b5ce-0697-4696-defb-7ba6e8420e82"
      },
      "execution_count": 166,
      "outputs": [
        {
          "output_type": "stream",
          "name": "stdout",
          "text": [
            "Model: \"sequential_12\"\n",
            "_________________________________________________________________\n",
            " Layer (type)                Output Shape              Param #   \n",
            "=================================================================\n",
            " embedding_12 (Embedding)    (None, 256, 300)          5924700   \n",
            "                                                                 \n",
            " lstm_15 (LSTM)              (None, 256, 300)          721200    \n",
            "                                                                 \n",
            " dropout_29 (Dropout)        (None, 256, 300)          0         \n",
            "                                                                 \n",
            " lstm_16 (LSTM)              (None, 300)               721200    \n",
            "                                                                 \n",
            " dropout_30 (Dropout)        (None, 300)               0         \n",
            "                                                                 \n",
            " dense_24 (Dense)            (None, 300)               90300     \n",
            "                                                                 \n",
            " dropout_31 (Dropout)        (None, 300)               0         \n",
            "                                                                 \n",
            " dense_25 (Dense)            (None, 1)                 301       \n",
            "                                                                 \n",
            "=================================================================\n",
            "Total params: 7,457,701\n",
            "Trainable params: 1,533,001\n",
            "Non-trainable params: 5,924,700\n",
            "_________________________________________________________________\n"
          ]
        }
      ]
    },
    {
      "cell_type": "code",
      "source": [
        "#Merekam Waktu yang dibutuhkan dan Melakukan Fit Model dengan dataset train dan validasi\n",
        "time_callbackC = TimeHistory()\n",
        "historyC = modelC.fit(X_train, y_train, epochs=20, batch_size=256, validation_data=(X_val, y_val), verbose=2, callbacks=[early_stopping, time_callbackC])"
      ],
      "metadata": {
        "colab": {
          "base_uri": "https://localhost:8080/"
        },
        "id": "r5Teo1NEmMn0",
        "outputId": "5d634aaf-4c94-40a2-ed94-41bfc22db399"
      },
      "execution_count": 167,
      "outputs": [
        {
          "output_type": "stream",
          "name": "stdout",
          "text": [
            "Epoch 1/20\n",
            "35/35 - 11s - loss: 0.3736 - accuracy: 0.8460 - val_loss: 0.3413 - val_accuracy: 0.8573 - 11s/epoch - 307ms/step\n",
            "Epoch 2/20\n",
            "35/35 - 7s - loss: 0.2947 - accuracy: 0.8799 - val_loss: 0.2994 - val_accuracy: 0.8782 - 7s/epoch - 207ms/step\n",
            "Epoch 3/20\n",
            "35/35 - 7s - loss: 0.2664 - accuracy: 0.8917 - val_loss: 0.3062 - val_accuracy: 0.8836 - 7s/epoch - 209ms/step\n",
            "Epoch 4/20\n",
            "35/35 - 7s - loss: 0.2420 - accuracy: 0.9020 - val_loss: 0.3119 - val_accuracy: 0.8718 - 7s/epoch - 210ms/step\n",
            "Epoch 5/20\n",
            "35/35 - 7s - loss: 0.2148 - accuracy: 0.9110 - val_loss: 0.3213 - val_accuracy: 0.8764 - 7s/epoch - 209ms/step\n",
            "Epoch 6/20\n",
            "35/35 - 7s - loss: 0.1862 - accuracy: 0.9242 - val_loss: 0.3260 - val_accuracy: 0.8845 - 7s/epoch - 209ms/step\n",
            "Epoch 7/20\n",
            "35/35 - 7s - loss: 0.1422 - accuracy: 0.9434 - val_loss: 0.3332 - val_accuracy: 0.8727 - 7s/epoch - 209ms/step\n"
          ]
        }
      ]
    },
    {
      "cell_type": "code",
      "source": [
        "#Menghitung total dan rerata waktu yang dibutuhkan proses fit.\n",
        "rerataWaktuC = mean(time_callbackC.times)\n",
        "totalWaktuC = sum(time_callbackC.times)\n",
        "\n",
        "print(\"Rerata Waktu =\", round(rerataWaktuC, 2), 'detik')\n",
        "print(\"Total Waktu =\", round(totalWaktuC, 2), 'detik')"
      ],
      "metadata": {
        "colab": {
          "base_uri": "https://localhost:8080/"
        },
        "id": "2ctawRc3AhF7",
        "outputId": "88787593-9c82-41fe-ec8a-0c884f7fc75d"
      },
      "execution_count": 168,
      "outputs": [
        {
          "output_type": "stream",
          "name": "stdout",
          "text": [
            "Rerata Waktu = 7.81 detik\n",
            "Total Waktu = 54.65 detik\n"
          ]
        }
      ]
    },
    {
      "cell_type": "code",
      "source": [
        "#Menguji Model dengan dataset test.\n",
        "AccModelC = modelC.evaluate(X_test, y_test, verbose=1)"
      ],
      "metadata": {
        "colab": {
          "base_uri": "https://localhost:8080/"
        },
        "id": "MrkOga5qmRHD",
        "outputId": "b6002ae7-582a-4c50-f9c1-6985c52fa8e1"
      },
      "execution_count": 169,
      "outputs": [
        {
          "output_type": "stream",
          "name": "stdout",
          "text": [
            "35/35 [==============================] - 1s 20ms/step - loss: 0.3059 - accuracy: 0.8809\n"
          ]
        }
      ]
    },
    {
      "cell_type": "code",
      "source": [
        "X_test"
      ],
      "metadata": {
        "colab": {
          "base_uri": "https://localhost:8080/"
        },
        "id": "dpK53tUR5gRw",
        "outputId": "34ab0955-c116-4996-a7fb-31a02d5d5595"
      },
      "execution_count": 170,
      "outputs": [
        {
          "output_type": "execute_result",
          "data": {
            "text/plain": [
              "array([[   0,    0,    0, ...,  996,   58,    8],\n",
              "       [   0,    0,    0, ...,   90,  129,  965],\n",
              "       [   0,    0,    0, ...,  153, 8026, 7824],\n",
              "       ...,\n",
              "       [   0,    0,    0, ...,   10,  165, 7667],\n",
              "       [   0,    0,    0, ...,  120, 1333,   85],\n",
              "       [   0,    0,    0, ...,   79,  101, 3004]], dtype=int32)"
            ]
          },
          "metadata": {},
          "execution_count": 170
        }
      ]
    },
    {
      "cell_type": "markdown",
      "source": [
        "## Training & Evaluation (GRU, Bidirectional, ADAM) ModelD\n",
        "\n"
      ],
      "metadata": {
        "id": "53mzRnaRSVNW"
      }
    },
    {
      "cell_type": "code",
      "source": [
        "modelD = Sequential([\n",
        "  Embedding(\n",
        "        num_tokens, \n",
        "        embedding_dim,\n",
        "        input_length=256,\n",
        "        embeddings_initializer=Constant(embedding_matrix),\n",
        "        trainable=False \n",
        "        ),\n",
        "  GRU(embedding_dim, return_sequences=True),\n",
        "  Dropout(0.25),\n",
        "  Bidirectional(GRU(embedding_dim)),\n",
        "  Dropout(0.25),\n",
        "  Dense(150, activation=\"relu\"),\n",
        "  Dropout(0.25),\n",
        "  Dense(1, activation='sigmoid')\n",
        "])\n",
        "\n",
        "modelD.compile(loss='binary_crossentropy', \n",
        "              optimizer= Adam(learning_rate=0.001), \n",
        "              metrics=['accuracy'])\n",
        "modelD.summary()"
      ],
      "metadata": {
        "colab": {
          "base_uri": "https://localhost:8080/"
        },
        "id": "X5F_ZnFaCFHQ",
        "outputId": "e84659a7-5aab-4df3-8355-efa810e08cf9"
      },
      "execution_count": 171,
      "outputs": [
        {
          "output_type": "stream",
          "name": "stdout",
          "text": [
            "Model: \"sequential_13\"\n",
            "_________________________________________________________________\n",
            " Layer (type)                Output Shape              Param #   \n",
            "=================================================================\n",
            " embedding_13 (Embedding)    (None, 256, 300)          5924700   \n",
            "                                                                 \n",
            " gru_4 (GRU)                 (None, 256, 300)          541800    \n",
            "                                                                 \n",
            " dropout_32 (Dropout)        (None, 256, 300)          0         \n",
            "                                                                 \n",
            " bidirectional_8 (Bidirectio  (None, 600)              1083600   \n",
            " nal)                                                            \n",
            "                                                                 \n",
            " dropout_33 (Dropout)        (None, 600)               0         \n",
            "                                                                 \n",
            " dense_26 (Dense)            (None, 150)               90150     \n",
            "                                                                 \n",
            " dropout_34 (Dropout)        (None, 150)               0         \n",
            "                                                                 \n",
            " dense_27 (Dense)            (None, 1)                 151       \n",
            "                                                                 \n",
            "=================================================================\n",
            "Total params: 7,640,401\n",
            "Trainable params: 1,715,701\n",
            "Non-trainable params: 5,924,700\n",
            "_________________________________________________________________\n"
          ]
        }
      ]
    },
    {
      "cell_type": "code",
      "source": [
        "#Merekam Waktu yang dibutuhkan dan Melakukan Fit Model dengan dataset train dan validasi\n",
        "time_callbackD = TimeHistory()\n",
        "historyD = modelD.fit(X_train, y_train, epochs=20, batch_size=256, validation_data=(X_val, y_val), verbose=2, callbacks=[early_stopping, time_callbackD])"
      ],
      "metadata": {
        "colab": {
          "base_uri": "https://localhost:8080/"
        },
        "id": "lu9qOhzlZIYX",
        "outputId": "701717df-2174-40f1-d6a8-cb8ef1bb7b62"
      },
      "execution_count": 172,
      "outputs": [
        {
          "output_type": "stream",
          "name": "stdout",
          "text": [
            "Epoch 1/20\n",
            "35/35 - 16s - loss: 0.3770 - accuracy: 0.8448 - val_loss: 0.3191 - val_accuracy: 0.8664 - 16s/epoch - 443ms/step\n",
            "Epoch 2/20\n",
            "35/35 - 9s - loss: 0.2927 - accuracy: 0.8770 - val_loss: 0.3166 - val_accuracy: 0.8736 - 9s/epoch - 271ms/step\n",
            "Epoch 3/20\n",
            "35/35 - 10s - loss: 0.2737 - accuracy: 0.8865 - val_loss: 0.3399 - val_accuracy: 0.8755 - 10s/epoch - 272ms/step\n",
            "Epoch 4/20\n",
            "35/35 - 10s - loss: 0.2466 - accuracy: 0.8945 - val_loss: 0.3235 - val_accuracy: 0.8745 - 10s/epoch - 274ms/step\n",
            "Epoch 5/20\n",
            "35/35 - 10s - loss: 0.2255 - accuracy: 0.9062 - val_loss: 0.3420 - val_accuracy: 0.8845 - 10s/epoch - 272ms/step\n",
            "Epoch 6/20\n",
            "35/35 - 9s - loss: 0.1953 - accuracy: 0.9191 - val_loss: 0.3501 - val_accuracy: 0.8636 - 9s/epoch - 271ms/step\n",
            "Epoch 7/20\n",
            "35/35 - 9s - loss: 0.1663 - accuracy: 0.9295 - val_loss: 0.4064 - val_accuracy: 0.8845 - 9s/epoch - 269ms/step\n"
          ]
        }
      ]
    },
    {
      "cell_type": "code",
      "source": [
        "#Menghitung total dan rerata waktu yang dibutuhkan proses fit.\n",
        "rerataWaktuD = mean(time_callbackD.times)\n",
        "totalWaktuD = sum(time_callbackD.times)\n",
        "\n",
        "print(\"Rerata Waktu =\", round(rerataWaktuD, 2), 'detik')\n",
        "print(\"Total Waktu =\", round(totalWaktuD, 2), 'detik')"
      ],
      "metadata": {
        "colab": {
          "base_uri": "https://localhost:8080/"
        },
        "id": "RgVDzmrMBUVa",
        "outputId": "0faee788-e0dc-4822-f902-36bd5ec67e32"
      },
      "execution_count": 173,
      "outputs": [
        {
          "output_type": "stream",
          "name": "stdout",
          "text": [
            "Rerata Waktu = 10.36 detik\n",
            "Total Waktu = 72.53 detik\n"
          ]
        }
      ]
    },
    {
      "cell_type": "code",
      "source": [
        "#Menguji Model dengan dataset test.\n",
        "AccModelD = modelD.evaluate(X_test, y_test, verbose=1)"
      ],
      "metadata": {
        "colab": {
          "base_uri": "https://localhost:8080/"
        },
        "id": "rGtYBA6nZhsA",
        "outputId": "e70f6f01-4a4a-41a4-c819-fe0d8062e336"
      },
      "execution_count": 174,
      "outputs": [
        {
          "output_type": "stream",
          "name": "stdout",
          "text": [
            "35/35 [==============================] - 1s 24ms/step - loss: 0.3161 - accuracy: 0.8818\n"
          ]
        }
      ]
    },
    {
      "cell_type": "markdown",
      "source": [
        "# Perbandingan Setiap Model"
      ],
      "metadata": {
        "id": "HfYuWMwZKuCG"
      }
    },
    {
      "cell_type": "code",
      "source": [
        "# Rangkuman history dari proses fit accuracy setiap Model dengan dataset val per-epoch\n",
        "plt.plot(historyA.history['val_accuracy'])\n",
        "plt.plot(historyB.history['val_accuracy'])\n",
        "plt.plot(historyC.history['val_accuracy'])\n",
        "plt.plot(historyD.history['val_accuracy'])\n",
        "plt.title('Model Evaluasi Accuracy per-epoch')\n",
        "plt.ylabel('val_accuracy')\n",
        "plt.xlabel('epoch')\n",
        "plt.legend(['ModelA', 'ModelB', 'ModelC', 'ModelD'], loc='lower right')\n",
        "plt.show()"
      ],
      "metadata": {
        "colab": {
          "base_uri": "https://localhost:8080/",
          "height": 295
        },
        "id": "gbLW-4hpKxRo",
        "outputId": "2ae4a221-8de3-4cf4-feb3-0b51c4c24038"
      },
      "execution_count": 175,
      "outputs": [
        {
          "output_type": "display_data",
          "data": {
            "text/plain": [
              "<Figure size 432x288 with 1 Axes>"
            ],
            "image/png": "[encoded data removed]"
          },
          "metadata": {
            "needs_background": "light"
          }
        }
      ]
    },
    {
      "cell_type": "code",
      "source": [
        "#Menampilkan Perbandingan Evaluasi Akurasi dari dataset test di setiap model.\n",
        "a = round(AccModelA[1], 2)\n",
        "b = round(AccModelB[1], 2)\n",
        "c = round(AccModelC[1], 2)\n",
        "d = round(AccModelD[1], 2)\n",
        "fig = plt.figure()\n",
        "ax = fig.add_axes([0,0,1,1])\n",
        "models = ['ModelA: '+str(a), 'ModelB: '+str(b), 'ModelC: '+str(c), 'ModelD: '+str(d)]\n",
        "akurasi = [a,b,c,d]\n",
        "ax.bar(models,akurasi)\n",
        "plt.title('Perbandingan Evaluasi Akurasi (%)')\n",
        "plt.show()"
      ],
      "metadata": {
        "colab": {
          "base_uri": "https://localhost:8080/",
          "height": 352
        },
        "id": "8JRa51RpS97G",
        "outputId": "0cc8dac4-0029-4e3f-d722-577177ab8561"
      },
      "execution_count": 176,
      "outputs": [
        {
          "output_type": "display_data",
          "data": {
            "text/plain": [
              "<Figure size 432x288 with 1 Axes>"
            ],
            "image/png": "[encoded data removed]"
          },
          "metadata": {
            "needs_background": "light"
          }
        }
      ]
    },
    {
      "cell_type": "code",
      "source": [
        "#Menampilkan Perbandingan Rerata Waktu Trainning di setiap model.\n",
        "RWa = round(rerataWaktuA, 2)\n",
        "RWb = round(rerataWaktuB, 2)\n",
        "RWc = round(rerataWaktuC, 2)\n",
        "RWd = round(rerataWaktuD, 2)\n",
        "fig = plt.figure()\n",
        "ax = fig.add_axes([0,0,1,1])\n",
        "models = ['ModelA: '+str(RWa), 'ModelB: '+str(RWb), 'ModelC: '+str(RWc), 'ModelD: '+str(RWd)]\n",
        "rerata = [RWa,RWb,RWc,RWd]\n",
        "ax.bar(models,rerata)\n",
        "plt.title('Rerata Waktu Trainning (s) per epoch')\n",
        "plt.show()"
      ],
      "metadata": {
        "colab": {
          "base_uri": "https://localhost:8080/",
          "height": 352
        },
        "id": "75DdwLwEMr7J",
        "outputId": "40703746-531d-4540-daf4-8946892cfe7d"
      },
      "execution_count": 177,
      "outputs": [
        {
          "output_type": "display_data",
          "data": {
            "text/plain": [
              "<Figure size 432x288 with 1 Axes>"
            ],
            "image/png": "[encoded data removed]"
          },
          "metadata": {
            "needs_background": "light"
          }
        }
      ]
    },
    {
      "cell_type": "code",
      "source": [
        "#Menampilkan Perbandingan Total Waktu Trainning di setiap model.\n",
        "TWa = round(totalWaktuA, 2)\n",
        "TWb = round(totalWaktuB, 2)\n",
        "TWc = round(totalWaktuC, 2)\n",
        "TWd = round(totalWaktuD, 2)\n",
        "fig = plt.figure()\n",
        "ax = fig.add_axes([0,0,1,1])\n",
        "models = ['ModelA: '+str(TWa), 'ModelB: '+str(TWb), 'ModelC: '+str(TWc), 'ModelD: '+str(TWd)]\n",
        "rerata = [TWa,TWb,TWc,TWd]\n",
        "ax.bar(models,rerata)\n",
        "plt.title('Perbandingan Total Waktu Trainning (s)')\n",
        "plt.show()"
      ],
      "metadata": {
        "colab": {
          "base_uri": "https://localhost:8080/",
          "height": 352
        },
        "id": "H4rHvshHUWAd",
        "outputId": "9a3bc748-0115-4f8b-fce7-440d12179d7d"
      },
      "execution_count": 178,
      "outputs": [
        {
          "output_type": "display_data",
          "data": {
            "text/plain": [
              "<Figure size 432x288 with 1 Axes>"
            ],
            "image/png": "[encoded data removed]"
          },
          "metadata": {
            "needs_background": "light"
          }
        }
      ]
    },
    {
      "cell_type": "markdown",
      "source": [
        "#Custom Sample Dataset Test\n",
        "Sumber dataset: https://www.kaggle.com/c/nlp-getting-started dan mengambil dataset train.csv (File sudah di tambahkan ke GDrive pada link sebelumnya)"
      ],
      "metadata": {
        "id": "5CVPq8upbOOQ"
      }
    },
    {
      "cell_type": "code",
      "source": [
        "# Classify custom sample\n",
        "\n",
        "df_test = pd.read_csv ('/content/drive/MyDrive/SOSMED_4/train.csv')\n",
        "\n",
        "#Cleanning\n",
        "df_test['clean_text'] = df_test['text'].apply(lambda x: hapus_URL(x))\n",
        "df_test['clean_text'] = df_test['clean_text'].apply(lambda x: hapus_emoji(x))\n",
        "df_test['clean_text'] = df_test['clean_text'].apply(lambda x: hapus_html(x))\n",
        "df_test['clean_text'] = df_test['clean_text'].apply(lambda x: hapus_tandaBaca(x))\n",
        "\n",
        "#Referensi: https://www.geeksforgeeks.org/python-nltk-nltk-tokenizer-word_tokenize/\n",
        "df_test['tokenized'] = df_test['clean_text'].apply(word_tokenize)\n",
        "\n",
        "#Referensi: https://www.geeksforgeeks.org/isupper-islower-lower-upper-python-applications/\n",
        "df_test['lower'] = df_test['tokenized'].apply(\n",
        "    lambda x: [word.lower() for word in x])\n",
        "\n",
        "#Referensi: https://www.geeksforgeeks.org/removing-stop-words-nltk-python/\n",
        "df_test['no_stopwords'] = df_test['lower'].apply(\n",
        "    lambda x: [word for word in x if word not in set(nltk.corpus.stopwords.words('english'))])\n",
        "df_test['no_stopwords'] = [' '.join(map(str, l)) for l in df_test['no_stopwords']]\n",
        "\n",
        "#Lemmatize field \"no_stopwords\" dengan POS tag yang sesuai.\n",
        "df_test['lemmatized'] =  df_test['no_stopwords'].apply(\n",
        "    lambda x: [lemma.lemmatize(w, get_wordnet_pos(w)) for w in nltk.word_tokenize(x)])\n",
        "\n",
        "df_test.head()"
      ],
      "metadata": {
        "colab": {
          "base_uri": "https://localhost:8080/",
          "height": 389
        },
        "id": "ibJo5s0lbQ11",
        "outputId": "279b1e90-32e5-4e50-e30b-ef758e2af29b"
      },
      "execution_count": 179,
      "outputs": [
        {
          "output_type": "execute_result",
          "data": {
            "text/plain": [
              "   id keyword location                                               text  \\\n",
              "0   1     NaN      NaN  Our Deeds are the Reason of this #earthquake M...   \n",
              "1   4     NaN      NaN             Forest fire near La Ronge Sask. Canada   \n",
              "2   5     NaN      NaN  All residents asked to 'shelter in place' are ...   \n",
              "3   6     NaN      NaN  13,000 people receive #wildfires evacuation or...   \n",
              "4   7     NaN      NaN  Just got sent this photo from Ruby #Alaska as ...   \n",
              "\n",
              "   target                                         clean_text  \\\n",
              "0       1  Our Deeds are the Reason of this earthquake Ma...   \n",
              "1       1              Forest fire near La Ronge Sask Canada   \n",
              "2       1  All residents asked to shelter in place are be...   \n",
              "3       1  13000 people receive wildfires evacuation orde...   \n",
              "4       1  Just got sent this photo from Ruby Alaska as s...   \n",
              "\n",
              "                                           tokenized  \\\n",
              "0  [Our, Deeds, are, the, Reason, of, this, earth...   \n",
              "1      [Forest, fire, near, La, Ronge, Sask, Canada]   \n",
              "2  [All, residents, asked, to, shelter, in, place...   \n",
              "3  [13000, people, receive, wildfires, evacuation...   \n",
              "4  [Just, got, sent, this, photo, from, Ruby, Ala...   \n",
              "\n",
              "                                               lower  \\\n",
              "0  [our, deeds, are, the, reason, of, this, earth...   \n",
              "1      [forest, fire, near, la, ronge, sask, canada]   \n",
              "2  [all, residents, asked, to, shelter, in, place...   \n",
              "3  [13000, people, receive, wildfires, evacuation...   \n",
              "4  [just, got, sent, this, photo, from, ruby, ala...   \n",
              "\n",
              "                                        no_stopwords  \\\n",
              "0       deeds reason earthquake may allah forgive us   \n",
              "1              forest fire near la ronge sask canada   \n",
              "2  residents asked shelter place notified officer...   \n",
              "3  13000 people receive wildfires evacuation orde...   \n",
              "4  got sent photo ruby alaska smoke wildfires pou...   \n",
              "\n",
              "                                          lemmatized  \n",
              "0  [deed, reason, earthquake, may, allah, forgive...  \n",
              "1      [forest, fire, near, la, ronge, sask, canada]  \n",
              "2  [resident, ask, shelter, place, notify, office...  \n",
              "3  [13000, people, receive, wildfire, evacuation,...  \n",
              "4  [get, sent, photo, ruby, alaska, smoke, wildfi...  "
            ],
            "text/html": [
              "\n",
              "  <div id=\"df-2a0d151f-b83a-47ea-969e-3571f4f90145\">\n",
              "    <div class=\"colab-df-container\">\n",
              "      <div>\n",
              "<style scoped>\n",
              "    .dataframe tbody tr th:only-of-type {\n",
              "        vertical-align: middle;\n",
              "    }\n",
              "\n",
              "    .dataframe tbody tr th {\n",
              "        vertical-align: top;\n",
              "    }\n",
              "\n",
              "    .dataframe thead th {\n",
              "        text-align: right;\n",
              "    }\n",
              "</style>\n",
              "<table border=\"1\" class=\"dataframe\">\n",
              "  <thead>\n",
              "    <tr style=\"text-align: right;\">\n",
              "      <th></th>\n",
              "      <th>id</th>\n",
              "      <th>keyword</th>\n",
              "      <th>location</th>\n",
              "      <th>text</th>\n",
              "      <th>target</th>\n",
              "      <th>clean_text</th>\n",
              "      <th>tokenized</th>\n",
              "      <th>lower</th>\n",
              "      <th>no_stopwords</th>\n",
              "      <th>lemmatized</th>\n",
              "    </tr>\n",
              "  </thead>\n",
              "  <tbody>\n",
              "    <tr>\n",
              "      <th>0</th>\n",
              "      <td>1</td>\n",
              "      <td>NaN</td>\n",
              "      <td>NaN</td>\n",
              "      <td>Our Deeds are the Reason of this #earthquake M...</td>\n",
              "      <td>1</td>\n",
              "      <td>Our Deeds are the Reason of this earthquake Ma...</td>\n",
              "      <td>[Our, Deeds, are, the, Reason, of, this, earth...</td>\n",
              "      <td>[our, deeds, are, the, reason, of, this, earth...</td>\n",
              "      <td>deeds reason earthquake may allah forgive us</td>\n",
              "      <td>[deed, reason, earthquake, may, allah, forgive...</td>\n",
              "    </tr>\n",
              "    <tr>\n",
              "      <th>1</th>\n",
              "      <td>4</td>\n",
              "      <td>NaN</td>\n",
              "      <td>NaN</td>\n",
              "      <td>Forest fire near La Ronge Sask. Canada</td>\n",
              "      <td>1</td>\n",
              "      <td>Forest fire near La Ronge Sask Canada</td>\n",
              "      <td>[Forest, fire, near, La, Ronge, Sask, Canada]</td>\n",
              "      <td>[forest, fire, near, la, ronge, sask, canada]</td>\n",
              "      <td>forest fire near la ronge sask canada</td>\n",
              "      <td>[forest, fire, near, la, ronge, sask, canada]</td>\n",
              "    </tr>\n",
              "    <tr>\n",
              "      <th>2</th>\n",
              "      <td>5</td>\n",
              "      <td>NaN</td>\n",
              "      <td>NaN</td>\n",
              "      <td>All residents asked to 'shelter in place' are ...</td>\n",
              "      <td>1</td>\n",
              "      <td>All residents asked to shelter in place are be...</td>\n",
              "      <td>[All, residents, asked, to, shelter, in, place...</td>\n",
              "      <td>[all, residents, asked, to, shelter, in, place...</td>\n",
              "      <td>residents asked shelter place notified officer...</td>\n",
              "      <td>[resident, ask, shelter, place, notify, office...</td>\n",
              "    </tr>\n",
              "    <tr>\n",
              "      <th>3</th>\n",
              "      <td>6</td>\n",
              "      <td>NaN</td>\n",
              "      <td>NaN</td>\n",
              "      <td>13,000 people receive #wildfires evacuation or...</td>\n",
              "      <td>1</td>\n",
              "      <td>13000 people receive wildfires evacuation orde...</td>\n",
              "      <td>[13000, people, receive, wildfires, evacuation...</td>\n",
              "      <td>[13000, people, receive, wildfires, evacuation...</td>\n",
              "      <td>13000 people receive wildfires evacuation orde...</td>\n",
              "      <td>[13000, people, receive, wildfire, evacuation,...</td>\n",
              "    </tr>\n",
              "    <tr>\n",
              "      <th>4</th>\n",
              "      <td>7</td>\n",
              "      <td>NaN</td>\n",
              "      <td>NaN</td>\n",
              "      <td>Just got sent this photo from Ruby #Alaska as ...</td>\n",
              "      <td>1</td>\n",
              "      <td>Just got sent this photo from Ruby Alaska as s...</td>\n",
              "      <td>[Just, got, sent, this, photo, from, Ruby, Ala...</td>\n",
              "      <td>[just, got, sent, this, photo, from, ruby, ala...</td>\n",
              "      <td>got sent photo ruby alaska smoke wildfires pou...</td>\n",
              "      <td>[get, sent, photo, ruby, alaska, smoke, wildfi...</td>\n",
              "    </tr>\n",
              "  </tbody>\n",
              "</table>\n",
              "</div>\n",
              "      <button class=\"colab-df-convert\" onclick=\"convertToInteractive('df-2a0d151f-b83a-47ea-969e-3571f4f90145')\"\n",
              "              title=\"Convert this dataframe to an interactive table.\"\n",
              "              style=\"display:none;\">\n",
              "        \n",
              "  <svg xmlns=\"http://www.w3.org/2000/svg\" height=\"24px\"viewBox=\"0 0 24 24\"\n",
              "       width=\"24px\">\n",
              "    <path d=\"M0 0h24v24H0V0z\" fill=\"none\"/>\n",
              "    <path d=\"M18.56 5.44l.94 2.06.94-2.06 2.06-.94-2.06-.94-.94-2.06-.94 2.06-2.06.94zm-11 1L8.5 8.5l.94-2.06 2.06-.94-2.06-.94L8.5 2.5l-.94 2.06-2.06.94zm10 10l.94 2.06.94-2.06 2.06-.94-2.06-.94-.94-2.06-.94 2.06-2.06.94z\"/><path d=\"M17.41 7.96l-1.37-1.37c-.4-.4-.92-.59-1.43-.59-.52 0-1.04.2-1.43.59L10.3 9.45l-7.72 7.72c-.78.78-.78 2.05 0 2.83L4 21.41c.39.39.9.59 1.41.59.51 0 1.02-.2 1.41-.59l7.78-7.78 2.81-2.81c.8-.78.8-2.07 0-2.86zM5.41 20L4 18.59l7.72-7.72 1.47 1.35L5.41 20z\"/>\n",
              "  </svg>\n",
              "      </button>\n",
              "      \n",
              "  <style>\n",
              "    .colab-df-container {\n",
              "      display:flex;\n",
              "      flex-wrap:wrap;\n",
              "      gap: 12px;\n",
              "    }\n",
              "\n",
              "    .colab-df-convert {\n",
              "      background-color: #E8F0FE;\n",
              "      border: none;\n",
              "      border-radius: 50%;\n",
              "      cursor: pointer;\n",
              "      display: none;\n",
              "      fill: #1967D2;\n",
              "      height: 32px;\n",
              "      padding: 0 0 0 0;\n",
              "      width: 32px;\n",
              "    }\n",
              "\n",
              "    .colab-df-convert:hover {\n",
              "      background-color: #E2EBFA;\n",
              "      box-shadow: 0px 1px 2px rgba(60, 64, 67, 0.3), 0px 1px 3px 1px rgba(60, 64, 67, 0.15);\n",
              "      fill: #174EA6;\n",
              "    }\n",
              "\n",
              "    [theme=dark] .colab-df-convert {\n",
              "      background-color: #3B4455;\n",
              "      fill: #D2E3FC;\n",
              "    }\n",
              "\n",
              "    [theme=dark] .colab-df-convert:hover {\n",
              "      background-color: #434B5C;\n",
              "      box-shadow: 0px 1px 3px 1px rgba(0, 0, 0, 0.15);\n",
              "      filter: drop-shadow(0px 1px 2px rgba(0, 0, 0, 0.3));\n",
              "      fill: #FFFFFF;\n",
              "    }\n",
              "  </style>\n",
              "\n",
              "      <script>\n",
              "        const buttonEl =\n",
              "          document.querySelector('#df-2a0d151f-b83a-47ea-969e-3571f4f90145 button.colab-df-convert');\n",
              "        buttonEl.style.display =\n",
              "          google.colab.kernel.accessAllowed ? 'block' : 'none';\n",
              "\n",
              "        async function convertToInteractive(key) {\n",
              "          const element = document.querySelector('#df-2a0d151f-b83a-47ea-969e-3571f4f90145');\n",
              "          const dataTable =\n",
              "            await google.colab.kernel.invokeFunction('convertToInteractive',\n",
              "                                                     [key], {});\n",
              "          if (!dataTable) return;\n",
              "\n",
              "          const docLinkHtml = 'Like what you see? Visit the ' +\n",
              "            '<a target=\"_blank\" href=https://colab.research.google.com/notebooks/data_table.ipynb>data table notebook</a>'\n",
              "            + ' to learn more about interactive tables.';\n",
              "          element.innerHTML = '';\n",
              "          dataTable['output_type'] = 'display_data';\n",
              "          await google.colab.output.renderOutput(dataTable, element);\n",
              "          const docLink = document.createElement('div');\n",
              "          docLink.innerHTML = docLinkHtml;\n",
              "          element.appendChild(docLink);\n",
              "        }\n",
              "      </script>\n",
              "    </div>\n",
              "  </div>\n",
              "  "
            ]
          },
          "metadata": {},
          "execution_count": 179
        }
      ]
    },
    {
      "cell_type": "code",
      "source": [
        "#mengubah token korpus teks menjadi urutan bilangan integer\n",
        "sequences_test2 = tokenizer.texts_to_sequences(df_test['lemmatized'])\n",
        "\n",
        "#digunakan untuk memastikan bahwa semua urutan dalam daftar memiliki panjang yang sama\n",
        "X_test2 = pad_sequences(sequences_test2, maxlen=256, truncating='pre')"
      ],
      "metadata": {
        "id": "yMID5HgfgcBP"
      },
      "execution_count": 180,
      "outputs": []
    },
    {
      "cell_type": "code",
      "source": [
        "modelA.evaluate(X_test2, df_test['target'], verbose = 1)\n",
        "modelB.evaluate(X_test2, df_test['target'], verbose = 1)\n",
        "modelC.evaluate(X_test2, df_test['target'], verbose = 1)\n",
        "modelD.evaluate(X_test2, df_test['target'], verbose = 1)"
      ],
      "metadata": {
        "colab": {
          "base_uri": "https://localhost:8080/"
        },
        "id": "DscyUL0q-62o",
        "outputId": "409b3760-07f6-4fb4-da2a-dfa201a8efe0"
      },
      "execution_count": 181,
      "outputs": [
        {
          "output_type": "stream",
          "name": "stdout",
          "text": [
            "238/238 [==============================] - 17s 70ms/step - loss: 0.7277 - accuracy: 0.6017\n",
            "238/238 [==============================] - 38s 158ms/step - loss: 0.8426 - accuracy: 0.6886\n",
            "238/238 [==============================] - 4s 16ms/step - loss: 0.7884 - accuracy: 0.6813\n",
            "238/238 [==============================] - 5s 21ms/step - loss: 0.6552 - accuracy: 0.6767\n"
          ]
        },
        {
          "output_type": "execute_result",
          "data": {
            "text/plain": [
              "[0.6551997661590576, 0.6767371892929077]"
            ]
          },
          "metadata": {},
          "execution_count": 181
        }
      ]
    }
  ]
}